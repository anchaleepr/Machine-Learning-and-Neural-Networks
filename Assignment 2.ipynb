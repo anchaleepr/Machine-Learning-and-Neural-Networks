{
 "cells": [
  {
   "cell_type": "markdown",
   "metadata": {},
   "source": [
    "# Assignment 2 - Python + Numpy + Pandas\n",
    "by Anchalee P Ramirez"
   ]
  },
  {
   "cell_type": "code",
   "execution_count": 208,
   "metadata": {},
   "outputs": [],
   "source": [
    "import numpy as np\n",
    "import pandas as pd\n",
    "import scipy as sp"
   ]
  },
  {
   "cell_type": "code",
   "execution_count": 209,
   "metadata": {},
   "outputs": [],
   "source": [
    "%matplotlib inline\n",
    "import matplotlib.pyplot as plt\n",
    "plt.style.use('ggplot')"
   ]
  },
  {
   "cell_type": "code",
   "execution_count": 210,
   "metadata": {},
   "outputs": [
    {
     "name": "stdout",
     "output_type": "stream",
     "text": [
      "Overwriting hw_data.csv\n"
     ]
    }
   ],
   "source": [
    "%%file hw_data.csv\n",
    "id,sex,weight,height\n",
    "1,M,190,77\n",
    "2,F,120,70\n",
    "3,F,110,68\n",
    "4,M,150,72\n",
    "5,O,120,66\n",
    "6,M,120,60\n",
    "7,F,140,70"
   ]
  },
  {
   "cell_type": "markdown",
   "metadata": {},
   "source": [
    "# Python"
   ]
  },
  {
   "cell_type": "markdown",
   "metadata": {},
   "source": [
    "## 1. Finish creating the following function that takes a list and returns the average value."
   ]
  },
  {
   "cell_type": "code",
   "execution_count": 211,
   "metadata": {},
   "outputs": [
    {
     "name": "stdout",
     "output_type": "stream",
     "text": [
      "3.375\n"
     ]
    }
   ],
   "source": [
    "def average(my_list):\n",
    "    total = 0\n",
    "    for item in my_list:\n",
    "                \n",
    "        return sum(my_list)/len(my_list)\n",
    "\n",
    "print(average([1,2,1,4,3,2,5,9]))"
   ]
  },
  {
   "cell_type": "markdown",
   "metadata": {},
   "source": [
    "## 2. Using a Dictionary keep track of the count of numbers (or items) from a list"
   ]
  },
  {
   "cell_type": "code",
   "execution_count": 212,
   "metadata": {},
   "outputs": [
    {
     "data": {
      "text/plain": [
       "{1: 2, 2: 2, 4: 1, 3: 1, 5: 1, 9: 1}"
      ]
     },
     "execution_count": 212,
     "metadata": {},
     "output_type": "execute_result"
    }
   ],
   "source": [
    "def counts(my_list):\n",
    "    counts = dict()\n",
    "    for item in my_list:\n",
    "        counts[item] = my_list.count(item)\n",
    "           \n",
    "    return counts\n",
    "\n",
    "counts([1,2,1,4,3,2,5,9])"
   ]
  },
  {
   "cell_type": "markdown",
   "metadata": {},
   "source": [
    "## 3.  Using the `counts()` function and the `.split()` function, return a dictionary of most occuring words from the following paragraph. Bonus, remove punctuation from words."
   ]
  },
  {
   "cell_type": "code",
   "execution_count": 213,
   "metadata": {},
   "outputs": [
    {
     "name": "stdout",
     "output_type": "stream",
     "text": [
      "{'\\nFor': 1, 'a': 15, 'minute': 1, 'or': 2, 'two': 2, 'she': 6, 'stood': 1, 'looking': 2, 'at': 6, 'the': 32, 'house,': 1, 'and': 16, 'wondering': 1, 'what': 2, 'to': 15, 'do': 1, 'next,': 1, 'when': 2, 'suddenly': 1, 'footman': 3, 'in': 7, 'livery': 1, 'came': 2, 'running': 1, 'out': 3, 'of': 9, 'wood—(she': 1, 'considered': 1, 'him': 2, 'be': 2, 'because': 3, 'he': 5, 'was': 8, 'livery:': 1, 'otherwise,': 1, 'judging': 1, 'by': 3, 'his': 5, 'face': 1, 'only,': 1, 'would': 1, 'have': 1, 'called': 1, 'fish)—and': 1, 'rapped': 1, 'loudly': 1, 'door': 4, 'with': 2, 'knuckles.': 1, 'It': 1, 'opened': 1, 'another': 1, 'livery,': 1, 'round': 1, 'face,': 1, 'large': 3, 'eyes': 2, 'like': 1, 'frog;': 1, 'both': 2, 'footmen,': 1, 'Alice': 2, 'noticed,': 1, 'had': 4, 'powdered': 1, 'hair': 1, 'that': 3, 'curled': 1, 'all': 3, 'over': 2, 'their': 3, 'heads.': 1, 'She': 1, 'felt': 1, 'very': 2, 'curious': 1, 'know': 1, 'it': 2, 'about,': 1, 'crept': 1, 'little': 1, 'way': 1, 'wood': 2, 'listen.\\nThe': 1, 'Fish-Footman': 2, 'began': 1, 'producing': 1, 'from': 2, 'under': 1, 'arm': 1, 'great': 2, 'letter,': 1, 'nearly': 2, 'as': 4, 'himself,': 1, 'this': 3, 'handed': 1, 'other,': 1, 'saying,': 1, 'solemn': 2, 'tone,': 2, '‘For': 1, 'Duchess.': 1, 'An': 2, 'invitation': 2, 'Queen': 1, 'play': 2, 'croquet.’': 1, 'The': 1, 'Frog-Footman': 1, 'repeated,': 2, 'same': 2, 'only': 1, 'changing': 1, 'order': 1, 'words': 1, 'little,': 1, '‘From': 1, 'Queen.': 1, 'for': 3, 'Duchess': 1, 'croquet.’\\nThen': 1, 'they': 1, 'bowed': 1, 'low,': 1, 'curls': 1, 'got': 1, 'entangled': 1, 'together.\\nAlice': 1, 'laughed': 1, 'so': 2, 'much': 1, 'this,': 1, 'run': 1, 'back': 1, 'into': 3, 'fear': 1, 'hearing': 1, 'her;': 1, 'next': 1, 'peeped': 1, 'gone,': 1, 'other': 1, 'sitting': 1, 'on': 4, 'ground': 1, 'near': 1, 'door,': 2, 'staring': 1, 'stupidly': 1, 'up': 3, 'sky.\\nAlice': 1, 'went': 2, 'timidly': 1, 'knocked.\\n‘There’s': 1, 'no': 2, 'sort': 1, 'use': 1, 'knocking,’': 2, 'said': 3, 'Footman,': 1, '‘and': 1, 'reasons.': 1, 'First,': 1, 'I’m': 1, 'side': 1, 'you': 5, 'are;': 1, 'secondly,': 1, 'they’re': 1, 'making': 1, 'such': 1, 'noise': 2, 'inside,': 2, 'one': 2, 'could': 2, 'possibly': 1, 'hear': 1, 'you.’': 1, 'And': 1, 'certainly': 1, 'there': 1, 'most': 1, 'extraordinary': 1, 'going': 1, 'within—a': 1, 'constant': 1, 'howling': 1, 'sneezing,': 1, 'every': 1, 'now': 1, 'then': 1, 'crash,': 1, 'if': 2, 'dish': 1, 'kettle': 1, 'been': 1, 'broken': 1, 'pieces.\\n‘Please,': 1, 'then,’': 1, 'Alice,': 1, '‘how': 1, 'am': 2, 'I': 3, 'get': 2, 'in?’\\n‘There': 1, 'might': 3, 'some': 1, 'sense': 1, 'your': 1, 'Footman': 2, 'without': 1, 'attending': 1, 'her,': 1, '‘if': 1, 'we': 1, 'between': 1, 'us.': 1, 'For': 1, 'instance,': 1, 'were': 1, 'knock,': 1, 'let': 1, 'out,': 2, 'know.’': 1, 'He': 1, 'sky': 1, 'time': 1, 'speaking,': 1, 'thought': 1, 'decidedly': 1, 'uncivil.': 1, '‘But': 1, 'perhaps': 1, 'can’t': 1, 'help': 1, 'it,’': 1, 'herself;': 1, '‘his': 1, 'are': 1, 'top': 1, 'head.': 1, 'But': 1, 'any': 1, 'rate': 1, 'answer': 1, 'questions.—How': 1, 'in?’': 1, 'aloud.\\n‘I': 1, 'shall': 1, 'sit': 1, 'here,’': 1, 'remarked,': 1, '‘till': 1, 'tomorrow—’\\nAt': 1, 'moment': 1, 'house': 1, 'opened,': 1, 'plate': 1, 'skimming': 1, 'straight': 1, 'Footman’s': 1, 'head:': 1, 'just': 1, 'grazed': 1, 'nose,': 1, 'broke': 1, 'pieces': 1, 'against': 1, 'trees': 1, 'behind': 1, 'him.': 1}\n"
     ]
    }
   ],
   "source": [
    "paragraph_text = '''\n",
    "For a minute or two she stood looking at the house, and wondering what to do next, when suddenly a footman in livery came running out of the wood—(she considered him to be a footman because he was in livery: otherwise, judging by his face only, she would have called him a fish)—and rapped loudly at the door with his knuckles. It was opened by another footman in livery, with a round face, and large eyes like a frog; and both footmen, Alice noticed, had powdered hair that curled all over their heads. She felt very curious to know what it was all about, and crept a little way out of the wood to listen.\n",
    "The Fish-Footman began by producing from under his arm a great letter, nearly as large as himself, and this he handed over to the other, saying, in a solemn tone, ‘For the Duchess. An invitation from the Queen to play croquet.’ The Frog-Footman repeated, in the same solemn tone, only changing the order of the words a little, ‘From the Queen. An invitation for the Duchess to play croquet.’\n",
    "Then they both bowed low, and their curls got entangled together.\n",
    "Alice laughed so much at this, that she had to run back into the wood for fear of their hearing her; and when she next peeped out the Fish-Footman was gone, and the other was sitting on the ground near the door, staring stupidly up into the sky.\n",
    "Alice went timidly up to the door, and knocked.\n",
    "‘There’s no sort of use in knocking,’ said the Footman, ‘and that for two reasons. First, because I’m on the same side of the door as you are; secondly, because they’re making such a noise inside, no one could possibly hear you.’ And certainly there was a most extraordinary noise going on within—a constant howling and sneezing, and every now and then a great crash, as if a dish or kettle had been broken to pieces.\n",
    "‘Please, then,’ said Alice, ‘how am I to get in?’\n",
    "‘There might be some sense in your knocking,’ the Footman went on without attending to her, ‘if we had the door between us. For instance, if you were inside, you might knock, and I could let you out, you know.’ He was looking up into the sky all the time he was speaking, and this Alice thought decidedly uncivil. ‘But perhaps he can’t help it,’ she said to herself; ‘his eyes are so very nearly at the top of his head. But at any rate he might answer questions.—How am I to get in?’ she repeated, aloud.\n",
    "‘I shall sit here,’ the Footman remarked, ‘till tomorrow—’\n",
    "At this moment the door of the house opened, and a large plate came skimming out, straight at the Footman’s head: it just grazed his nose, and broke to pieces against one of the trees behind him.'''\n",
    "\n",
    "import string\n",
    "a = {}\n",
    "sp = paragraph_text.split(' ')\n",
    "for item in sp:\n",
    "    count = sp.count(item)\n",
    "    a.update({item:count})\n",
    "print (a)\n"
   ]
  },
  {
   "cell_type": "markdown",
   "metadata": {},
   "source": [
    "## 4. Read in a file and write each line from the file to a new file Title-ized\n",
    "\n",
    "`This is the first line` ->  `This Is The First Line`\n",
    "\n",
    "Hint: There's a function to do this"
   ]
  },
  {
   "cell_type": "code",
   "execution_count": 214,
   "metadata": {},
   "outputs": [
    {
     "name": "stdout",
     "output_type": "stream",
     "text": [
      "This Is Assignment 2 For Machine Learning And Neural Network In Fall 2018 Semester\n"
     ]
    }
   ],
   "source": [
    "str = \"this is assignment 2 for machine learning and neural network in fall 2018 semester\";\n",
    "print (str.title())"
   ]
  },
  {
   "cell_type": "markdown",
   "metadata": {},
   "source": [
    "# Numpy"
   ]
  },
  {
   "cell_type": "markdown",
   "metadata": {},
   "source": [
    "## 1. Given a list, find the average using a numpy function. "
   ]
  },
  {
   "cell_type": "code",
   "execution_count": 215,
   "metadata": {},
   "outputs": [
    {
     "data": {
      "text/plain": [
       "3.375"
      ]
     },
     "execution_count": 215,
     "metadata": {},
     "output_type": "execute_result"
    }
   ],
   "source": [
    "simple_list = [1,2,1,4,3,2,5,9]\n",
    "\n",
    "np.mean(simple_list)"
   ]
  },
  {
   "cell_type": "markdown",
   "metadata": {},
   "source": [
    "## 2. Given two lists of Heights and Weights of individual, calculate the BMI of those individuals, without writing a `for-loop`"
   ]
  },
  {
   "cell_type": "code",
   "execution_count": 216,
   "metadata": {},
   "outputs": [
    {
     "name": "stdout",
     "output_type": "stream",
     "text": [
      "[29.06592681 27.73229978 30.73941662 24.16326531 26.33288875]\n"
     ]
    }
   ],
   "source": [
    "heights = [174, 173, 173, 175, 171]\n",
    "weights = [88, 83, 92, 74, 77]\n",
    "\n",
    "np_h = np.array(heights)\n",
    "np_w = np.array(weights)\n",
    "\n",
    "bmi = np_w / (np_h/100) ** 2\n",
    "\n",
    "print(bmi)"
   ]
  },
  {
   "cell_type": "markdown",
   "metadata": {},
   "source": [
    "## 3. Create an array of length 20 filled with random values (between 0 to 1) "
   ]
  },
  {
   "cell_type": "code",
   "execution_count": 217,
   "metadata": {},
   "outputs": [
    {
     "data": {
      "text/plain": [
       "array([[0.45451233, 0.20149766, 0.36299442, 0.62350467],\n",
       "       [0.89888265, 0.07686144, 0.83718708, 0.07559752],\n",
       "       [0.44407   , 0.38981018, 0.80800842, 0.39899907],\n",
       "       [0.39786808, 0.94750595, 0.93190774, 0.59085254],\n",
       "       [0.91565893, 0.98979337, 0.58883911, 0.35678551]])"
      ]
     },
     "execution_count": 217,
     "metadata": {},
     "output_type": "execute_result"
    }
   ],
   "source": [
    "np.random.rand(5,4)"
   ]
  },
  {
   "cell_type": "markdown",
   "metadata": {},
   "source": [
    "## Bonus. 1. Create an array with a large (>1000) length filled with random numbers from different distributions (normal, uniform, etc.). 2. Then, plot a histogram of these values. "
   ]
  },
  {
   "cell_type": "code",
   "execution_count": 218,
   "metadata": {},
   "outputs": [
    {
     "name": "stdout",
     "output_type": "stream",
     "text": [
      "[[ 1.35305145  1.25929923 -1.02963753 ... -1.20465452  1.20189963\n",
      "   0.06444924]\n",
      " [ 0.11738853  0.72106877 -1.43893869 ... -1.34828585  2.33743861\n",
      "   1.19710814]\n",
      " [ 1.04034576  0.31238051 -0.1681414  ...  0.70555484  0.52934422\n",
      "   1.16154262]\n",
      " ...\n",
      " [ 2.01409241 -1.19641868 -0.17173638 ...  1.12440486 -0.31894903\n",
      "   0.6489782 ]\n",
      " [-0.4280546  -1.06587773 -2.63069033 ... -0.76159621  1.75231059\n",
      "  -0.29399129]\n",
      " [-0.3335473   0.25632183  0.1142086  ...  0.73435204 -0.30746933\n",
      "   0.94263746]]\n"
     ]
    },
    {
     "data": {
      "image/png": "[encoded data removed]",
      "text/plain": [
       "<Figure size 432x288 with 1 Axes>"
      ]
     },
     "metadata": {},
     "output_type": "display_data"
    }
   ],
   "source": [
    "#A random array - normal distribution\n",
    "\n",
    "x1 = np.random.randn(40,40)\n",
    "print(x1)\n",
    "\n",
    "import matplotlib.pyplot as plt\n",
    "count, bins, ignored = plt.hist(x1)\n",
    "plt.title(\"Histogram with Normal Distribution\")\n",
    "plt.show()"
   ]
  },
  {
   "cell_type": "code",
   "execution_count": 219,
   "metadata": {},
   "outputs": [
    {
     "name": "stdout",
     "output_type": "stream",
     "text": [
      "[-0.84714006 -0.20001327 -0.89292275 ... -0.08040499 -0.31956975\n",
      " -0.25704964]\n"
     ]
    },
    {
     "data": {
      "image/png": "[encoded data removed]",
      "text/plain": [
       "<Figure size 432x288 with 1 Axes>"
      ]
     },
     "metadata": {},
     "output_type": "display_data"
    }
   ],
   "source": [
    "#A random array - uniform distribution\n",
    "\n",
    "x2 = np.random.uniform(-1,0,1500)\n",
    "print(x2)\n",
    "\n",
    "import matplotlib.pyplot as plt\n",
    "count, bins, ignored = plt.hist(x2, 100, density=True, color='g')\n",
    "plt.title(\"Histogram with Uniform Distribution\")\n",
    "plt.show()"
   ]
  },
  {
   "cell_type": "code",
   "execution_count": 220,
   "metadata": {},
   "outputs": [
    {
     "name": "stdout",
     "output_type": "stream",
     "text": [
      "[1242  507 1864 ... 2935  890  972]\n"
     ]
    },
    {
     "data": {
      "image/png": "[encoded data removed]",
      "text/plain": [
       "<Figure size 432x288 with 1 Axes>"
      ]
     },
     "metadata": {},
     "output_type": "display_data"
    }
   ],
   "source": [
    "#A random array - discrete uniform distribution\n",
    "\n",
    "x3 = np.random.randint(3000, size=1200)\n",
    "print(x3)\n",
    "\n",
    "import matplotlib.pyplot as plt\n",
    "count, bins, ignored = plt.hist(x3, 100, density=True, color='b')\n",
    "plt.title(\"Histogram with Discrete Uniform Distribution\")\n",
    "plt.show()"
   ]
  },
  {
   "cell_type": "markdown",
   "metadata": {},
   "source": [
    "# Pandas"
   ]
  },
  {
   "cell_type": "markdown",
   "metadata": {},
   "source": [
    "## 1. Read in a CSV () and display all the columns and their respective data types "
   ]
  },
  {
   "cell_type": "code",
   "execution_count": 221,
   "metadata": {},
   "outputs": [
    {
     "name": "stdout",
     "output_type": "stream",
     "text": [
      "   sex  weight  height\n",
      "id                    \n",
      "1    M     190      77\n",
      "2    F     120      70\n",
      "3    F     110      68\n",
      "4    M     150      72\n",
      "5    O     120      66\n"
     ]
    }
   ],
   "source": [
    "df = pd.read_csv(\"C:/Users/Anchee/Desktop/MS Government Analytics JHU/Fall 2018 - Machine Learning and Neural Networks/2 Python + Pandas + Numpy Basics/hw_data.csv\",\n",
    "                index_col='id')\n",
    "print(df.head())"
   ]
  },
  {
   "cell_type": "code",
   "execution_count": 222,
   "metadata": {},
   "outputs": [
    {
     "data": {
      "text/html": [
       "<div>\n",
       "<style scoped>\n",
       "    .dataframe tbody tr th:only-of-type {\n",
       "        vertical-align: middle;\n",
       "    }\n",
       "\n",
       "    .dataframe tbody tr th {\n",
       "        vertical-align: top;\n",
       "    }\n",
       "\n",
       "    .dataframe thead th {\n",
       "        text-align: right;\n",
       "    }\n",
       "</style>\n",
       "<table border=\"1\" class=\"dataframe\">\n",
       "  <thead>\n",
       "    <tr style=\"text-align: right;\">\n",
       "      <th></th>\n",
       "      <th>sex</th>\n",
       "      <th>Height</th>\n",
       "      <th>Weight</th>\n",
       "    </tr>\n",
       "    <tr>\n",
       "      <th>id</th>\n",
       "      <th></th>\n",
       "      <th></th>\n",
       "      <th></th>\n",
       "    </tr>\n",
       "  </thead>\n",
       "  <tbody>\n",
       "    <tr>\n",
       "      <th>1</th>\n",
       "      <td>M</td>\n",
       "      <td>190</td>\n",
       "      <td>77</td>\n",
       "    </tr>\n",
       "    <tr>\n",
       "      <th>2</th>\n",
       "      <td>F</td>\n",
       "      <td>120</td>\n",
       "      <td>70</td>\n",
       "    </tr>\n",
       "    <tr>\n",
       "      <th>3</th>\n",
       "      <td>F</td>\n",
       "      <td>110</td>\n",
       "      <td>68</td>\n",
       "    </tr>\n",
       "    <tr>\n",
       "      <th>4</th>\n",
       "      <td>M</td>\n",
       "      <td>150</td>\n",
       "      <td>72</td>\n",
       "    </tr>\n",
       "    <tr>\n",
       "      <th>5</th>\n",
       "      <td>O</td>\n",
       "      <td>120</td>\n",
       "      <td>66</td>\n",
       "    </tr>\n",
       "  </tbody>\n",
       "</table>\n",
       "</div>"
      ],
      "text/plain": [
       "   sex  Height  Weight\n",
       "id                    \n",
       "1    M     190      77\n",
       "2    F     120      70\n",
       "3    F     110      68\n",
       "4    M     150      72\n",
       "5    O     120      66"
      ]
     },
     "execution_count": 222,
     "metadata": {},
     "output_type": "execute_result"
    }
   ],
   "source": [
    "df.columns=['sex','Height','Weight']\n",
    "df.head()"
   ]
  },
  {
   "cell_type": "markdown",
   "metadata": {},
   "source": [
    "## 2. Find the average weight "
   ]
  },
  {
   "cell_type": "code",
   "execution_count": 223,
   "metadata": {},
   "outputs": [
    {
     "data": {
      "text/plain": [
       "69.0"
      ]
     },
     "execution_count": 223,
     "metadata": {},
     "output_type": "execute_result"
    }
   ],
   "source": [
    "df[\"Weight\"].mean()"
   ]
  },
  {
   "cell_type": "markdown",
   "metadata": {},
   "source": [
    "## 3. Find the Value Counts on column `sex` "
   ]
  },
  {
   "cell_type": "code",
   "execution_count": 224,
   "metadata": {},
   "outputs": [
    {
     "data": {
      "text/plain": [
       "M    3\n",
       "F    3\n",
       "O    1\n",
       "dtype: int64"
      ]
     },
     "execution_count": 224,
     "metadata": {},
     "output_type": "execute_result"
    }
   ],
   "source": [
    "pd.value_counts(df['sex'].values)"
   ]
  },
  {
   "cell_type": "markdown",
   "metadata": {},
   "source": [
    "## 4. Plot Height vs. Weight "
   ]
  },
  {
   "cell_type": "code",
   "execution_count": 225,
   "metadata": {},
   "outputs": [
    {
     "data": {
      "text/plain": [
       "<matplotlib.collections.PathCollection at 0x285cab15c50>"
      ]
     },
     "execution_count": 225,
     "metadata": {},
     "output_type": "execute_result"
    },
    {
     "data": {
      "image/png": "[encoded data removed]",
      "text/plain": [
       "<Figure size 432x288 with 1 Axes>"
      ]
     },
     "metadata": {},
     "output_type": "display_data"
    }
   ],
   "source": [
    "plt.scatter(df.Height, df.Weight, s=100)"
   ]
  },
  {
   "cell_type": "markdown",
   "metadata": {},
   "source": [
    "## 5. Calculate BMI and save as a new column"
   ]
  },
  {
   "cell_type": "code",
   "execution_count": 226,
   "metadata": {},
   "outputs": [
    {
     "data": {
      "text/html": [
       "<div>\n",
       "<style scoped>\n",
       "    .dataframe tbody tr th:only-of-type {\n",
       "        vertical-align: middle;\n",
       "    }\n",
       "\n",
       "    .dataframe tbody tr th {\n",
       "        vertical-align: top;\n",
       "    }\n",
       "\n",
       "    .dataframe thead th {\n",
       "        text-align: right;\n",
       "    }\n",
       "</style>\n",
       "<table border=\"1\" class=\"dataframe\">\n",
       "  <thead>\n",
       "    <tr style=\"text-align: right;\">\n",
       "      <th></th>\n",
       "      <th>sex</th>\n",
       "      <th>Height</th>\n",
       "      <th>Weight</th>\n",
       "      <th>BMI</th>\n",
       "    </tr>\n",
       "    <tr>\n",
       "      <th>id</th>\n",
       "      <th></th>\n",
       "      <th></th>\n",
       "      <th></th>\n",
       "      <th></th>\n",
       "    </tr>\n",
       "  </thead>\n",
       "  <tbody>\n",
       "    <tr>\n",
       "      <th>1</th>\n",
       "      <td>M</td>\n",
       "      <td>190</td>\n",
       "      <td>77</td>\n",
       "      <td>21.329640</td>\n",
       "    </tr>\n",
       "    <tr>\n",
       "      <th>2</th>\n",
       "      <td>F</td>\n",
       "      <td>120</td>\n",
       "      <td>70</td>\n",
       "      <td>48.611111</td>\n",
       "    </tr>\n",
       "    <tr>\n",
       "      <th>3</th>\n",
       "      <td>F</td>\n",
       "      <td>110</td>\n",
       "      <td>68</td>\n",
       "      <td>56.198347</td>\n",
       "    </tr>\n",
       "    <tr>\n",
       "      <th>4</th>\n",
       "      <td>M</td>\n",
       "      <td>150</td>\n",
       "      <td>72</td>\n",
       "      <td>32.000000</td>\n",
       "    </tr>\n",
       "    <tr>\n",
       "      <th>5</th>\n",
       "      <td>O</td>\n",
       "      <td>120</td>\n",
       "      <td>66</td>\n",
       "      <td>45.833333</td>\n",
       "    </tr>\n",
       "  </tbody>\n",
       "</table>\n",
       "</div>"
      ],
      "text/plain": [
       "   sex  Height  Weight        BMI\n",
       "id                               \n",
       "1    M     190      77  21.329640\n",
       "2    F     120      70  48.611111\n",
       "3    F     110      68  56.198347\n",
       "4    M     150      72  32.000000\n",
       "5    O     120      66  45.833333"
      ]
     },
     "execution_count": 226,
     "metadata": {},
     "output_type": "execute_result"
    }
   ],
   "source": [
    "df['BMI']= df.Weight/(df.Height/100)**2\n",
    "df.head()"
   ]
  },
  {
   "cell_type": "markdown",
   "metadata": {},
   "source": [
    "## 6. Save sheet as a new CSV file `hw_dataB.csv`"
   ]
  },
  {
   "cell_type": "code",
   "execution_count": 227,
   "metadata": {},
   "outputs": [],
   "source": [
    "df.to_csv('hw_dataB.csv')"
   ]
  },
  {
   "cell_type": "markdown",
   "metadata": {},
   "source": [
    "## Run the following"
   ]
  },
  {
   "cell_type": "code",
   "execution_count": 231,
   "metadata": {},
   "outputs": [
    {
     "name": "stderr",
     "output_type": "stream",
     "text": [
      "'cat' is not recognized as an internal or external command,\n",
      "operable program or batch file.\n"
     ]
    }
   ],
   "source": [
    "!cat hw_dataB.csv"
   ]
  },
  {
   "cell_type": "code",
   "execution_count": 232,
   "metadata": {},
   "outputs": [
    {
     "name": "stdout",
     "output_type": "stream",
     "text": [
      "id,sex,Height,Weight,BMI\n",
      "1,M,190,77,21.329639889196677\n",
      "2,F,120,70,48.611111111111114\n",
      "3,F,110,68,56.19834710743801\n",
      "4,M,150,72,32.0\n",
      "5,O,120,66,45.833333333333336\n",
      "6,M,120,60,41.66666666666667\n",
      "7,F,140,70,35.71428571428572\n"
     ]
    }
   ],
   "source": [
    "!type hw_dataB.csv"
   ]
  },
  {
   "cell_type": "code",
   "execution_count": null,
   "metadata": {},
   "outputs": [],
   "source": []
  }
 ],
 "metadata": {
  "kernelspec": {
   "display_name": "Python 3",
   "language": "python",
   "name": "python3"
  },
  "language_info": {
   "codemirror_mode": {
    "name": "ipython",
    "version": 3
   },
   "file_extension": ".py",
   "mimetype": "text/x-python",
   "name": "python",
   "nbconvert_exporter": "python",
   "pygments_lexer": "ipython3",
   "version": "3.6.5"
  }
 },
 "nbformat": 4,
 "nbformat_minor": 1
}
