{
 "cells": [
  {
   "cell_type": "markdown",
   "metadata": {},
   "source": [
    "# Assignment 4\n",
    "by Anchalee P Ramirez"
   ]
  },
  {
   "cell_type": "code",
   "execution_count": 1,
   "metadata": {},
   "outputs": [
    {
     "name": "stderr",
     "output_type": "stream",
     "text": [
      "'pip3' is not recognized as an internal or external command,\n",
      "operable program or batch file.\n"
     ]
    }
   ],
   "source": [
    "!pip3 install seaborn"
   ]
  },
  {
   "cell_type": "markdown",
   "metadata": {},
   "source": [
    "## This cell automatically downloads Capital Bikeshare data"
   ]
  },
  {
   "cell_type": "code",
   "execution_count": 2,
   "metadata": {},
   "outputs": [
    {
     "ename": "NameError",
     "evalue": "name 'get_bikeshare_filename' is not defined",
     "output_type": "error",
     "traceback": [
      "\u001b[1;31m---------------------------------------------------------------------------\u001b[0m",
      "\u001b[1;31mNameError\u001b[0m                                 Traceback (most recent call last)",
      "\u001b[1;32m<ipython-input-2-b49f4646e467>\u001b[0m in \u001b[0;36m<module>\u001b[1;34m()\u001b[0m\n\u001b[0;32m     71\u001b[0m        \u001b[0mprint\u001b[0m\u001b[1;33m(\u001b[0m\u001b[1;34m\"Data Exists:\"\u001b[0m\u001b[1;33m,\u001b[0m \u001b[0myear\u001b[0m\u001b[1;33m,\u001b[0m \u001b[1;34m\"Q%d\"\u001b[0m \u001b[1;33m%\u001b[0m \u001b[0mquarter\u001b[0m\u001b[1;33m,\u001b[0m \u001b[1;34m\"|\"\u001b[0m\u001b[1;33m,\u001b[0m \u001b[0mdata_folder\u001b[0m \u001b[1;33m+\u001b[0m \u001b[0mcsv_filename\u001b[0m\u001b[1;33m)\u001b[0m\u001b[1;33m\u001b[0m\u001b[0m\n\u001b[0;32m     72\u001b[0m \u001b[1;33m\u001b[0m\u001b[0m\n\u001b[1;32m---> 73\u001b[1;33m \u001b[0mdownload_bikeshare_data\u001b[0m\u001b[1;33m(\u001b[0m\u001b[1;36m2016\u001b[0m\u001b[1;33m,\u001b[0m \u001b[1;36m1\u001b[0m\u001b[1;33m,\u001b[0m \u001b[1;34m'../data/'\u001b[0m\u001b[1;33m)\u001b[0m\u001b[1;33m\u001b[0m\u001b[0m\n\u001b[0m",
      "\u001b[1;32m<ipython-input-2-b49f4646e467>\u001b[0m in \u001b[0;36mdownload_bikeshare_data\u001b[1;34m(year, quarter, data_folder)\u001b[0m\n\u001b[0;32m     15\u001b[0m \u001b[1;33m\u001b[0m\u001b[0m\n\u001b[0;32m     16\u001b[0m \u001b[1;33m\u001b[0m\u001b[0m\n\u001b[1;32m---> 17\u001b[1;33m    \u001b[0mzip_filename\u001b[0m \u001b[1;33m=\u001b[0m \u001b[0mget_bikeshare_filename\u001b[0m\u001b[1;33m(\u001b[0m\u001b[0myear\u001b[0m\u001b[1;33m,\u001b[0m \u001b[0mquarter\u001b[0m\u001b[1;33m,\u001b[0m \u001b[1;34m\".zip\"\u001b[0m\u001b[1;33m)\u001b[0m\u001b[1;33m\u001b[0m\u001b[0m\n\u001b[0m\u001b[0;32m     18\u001b[0m \u001b[1;33m\u001b[0m\u001b[0m\n\u001b[0;32m     19\u001b[0m    \u001b[0mcsv_filename\u001b[0m \u001b[1;33m=\u001b[0m \u001b[0mget_bikeshare_filename\u001b[0m\u001b[1;33m(\u001b[0m\u001b[0myear\u001b[0m\u001b[1;33m,\u001b[0m \u001b[0mquarter\u001b[0m\u001b[1;33m,\u001b[0m \u001b[1;34m\".csv\"\u001b[0m\u001b[1;33m)\u001b[0m\u001b[1;33m\u001b[0m\u001b[0m\n",
      "\u001b[1;31mNameError\u001b[0m: name 'get_bikeshare_filename' is not defined"
     ]
    }
   ],
   "source": [
    "def download_bikeshare_data(year, quarter, data_folder):\n",
    "\n",
    "   \"\"\"\n",
    "\n",
    "   Downloads data for a given year and quarter from Capital Bikeshare's Amazon S3 into\n",
    "\n",
    "   the given data folder.\n",
    "\n",
    "   \n",
    "\n",
    "   The data can be found at: https://s3.amazonaws.com/capitalbikeshare-data/index.html\n",
    "\n",
    "   \"\"\"\n",
    "\n",
    "   \n",
    "\n",
    "   zip_filename = get_bikeshare_filename(year, quarter, \".zip\")\n",
    "\n",
    "   csv_filename = get_bikeshare_filename(year, quarter, \".csv\")\n",
    "\n",
    "\n",
    "\n",
    "   zip_filepath = data_folder + zip_filename\n",
    "\n",
    "   csv_filepath = data_folder + csv_filename\n",
    "\n",
    "\n",
    "\n",
    "   if not os.path.exists(csv_filepath):\n",
    "\n",
    "       \n",
    "\n",
    "       # Download data from Amazon S3 using requests library\n",
    "\n",
    "       print(\"Downloading:\", year, \"Q%d\" % quarter, end=\" | \")\n",
    "\n",
    "       # response = requests.get(\"https://s3.amazonaws.com/capitalbikeshare-data/%s\" % zip_filename)\n",
    "\n",
    "       response = requests.get(\"http://mla.im/%s\" % zip_filename)\n",
    "\n",
    "\n",
    "\n",
    "       # Write downloaded zip file to disk within the data folder\n",
    "\n",
    "       with open(zip_filepath, \"wb\") as f:\n",
    "\n",
    "           f.write(response.content)\n",
    "\n",
    "       \n",
    "\n",
    "       # Extract zip using the zipfile library and normalize the csv filenames to be consistent\n",
    "\n",
    "       print(\"Extracting...\", end=\" | \")\n",
    "\n",
    "       with open(zip_filepath, \"rb\") as f:\n",
    "\n",
    "           z = zipfile.ZipFile(f)\n",
    "\n",
    "           original_csv_filename = z.namelist()[0] # get name of first csv in zip file\n",
    "\n",
    "           unzipped_csv_filepath = z.extract(original_csv_filename, data_folder) # extract csv file\n",
    "\n",
    "           os.rename(unzipped_csv_filepath, csv_filepath) # normalize csv name\n",
    "\n",
    "\n",
    "\n",
    "       print(\"Created:\", csv_filepath)\n",
    "\n",
    "   else:\n",
    "\n",
    "       print(\"Data Exists:\", year, \"Q%d\" % quarter, \"|\", data_folder + csv_filename)\n",
    "        \n",
    "download_bikeshare_data(2016, 1, '../data/')"
   ]
  },
  {
   "cell_type": "markdown",
   "metadata": {},
   "source": [
    "### And here we read in the data"
   ]
  },
  {
   "cell_type": "code",
   "execution_count": 3,
   "metadata": {},
   "outputs": [
    {
     "data": {
      "text/html": [
       "<div>\n",
       "<style scoped>\n",
       "    .dataframe tbody tr th:only-of-type {\n",
       "        vertical-align: middle;\n",
       "    }\n",
       "\n",
       "    .dataframe tbody tr th {\n",
       "        vertical-align: top;\n",
       "    }\n",
       "\n",
       "    .dataframe thead th {\n",
       "        text-align: right;\n",
       "    }\n",
       "</style>\n",
       "<table border=\"1\" class=\"dataframe\">\n",
       "  <thead>\n",
       "    <tr style=\"text-align: right;\">\n",
       "      <th></th>\n",
       "      <th>Duration (ms)</th>\n",
       "      <th>Start date</th>\n",
       "      <th>End date</th>\n",
       "      <th>Start station number</th>\n",
       "      <th>Start station</th>\n",
       "      <th>End station number</th>\n",
       "      <th>End station</th>\n",
       "      <th>Bike number</th>\n",
       "      <th>Member Type</th>\n",
       "      <th>start</th>\n",
       "      <th>end</th>\n",
       "    </tr>\n",
       "  </thead>\n",
       "  <tbody>\n",
       "    <tr>\n",
       "      <th>0</th>\n",
       "      <td>301295</td>\n",
       "      <td>3/31/2016 23:59</td>\n",
       "      <td>4/1/2016 0:04</td>\n",
       "      <td>31280</td>\n",
       "      <td>11th &amp; S St NW</td>\n",
       "      <td>31506</td>\n",
       "      <td>1st &amp; Rhode Island Ave NW</td>\n",
       "      <td>W00022</td>\n",
       "      <td>Registered</td>\n",
       "      <td>2016-03-31 23:59:00</td>\n",
       "      <td>2016-04-01 00:04:00</td>\n",
       "    </tr>\n",
       "    <tr>\n",
       "      <th>1</th>\n",
       "      <td>557887</td>\n",
       "      <td>3/31/2016 23:59</td>\n",
       "      <td>4/1/2016 0:08</td>\n",
       "      <td>31275</td>\n",
       "      <td>New Hampshire Ave &amp; 24th St NW</td>\n",
       "      <td>31114</td>\n",
       "      <td>18th St &amp; Wyoming Ave NW</td>\n",
       "      <td>W01294</td>\n",
       "      <td>Registered</td>\n",
       "      <td>2016-03-31 23:59:00</td>\n",
       "      <td>2016-04-01 00:08:00</td>\n",
       "    </tr>\n",
       "    <tr>\n",
       "      <th>2</th>\n",
       "      <td>555944</td>\n",
       "      <td>3/31/2016 23:59</td>\n",
       "      <td>4/1/2016 0:08</td>\n",
       "      <td>31101</td>\n",
       "      <td>14th &amp; V St NW</td>\n",
       "      <td>31221</td>\n",
       "      <td>18th &amp; M St NW</td>\n",
       "      <td>W01416</td>\n",
       "      <td>Registered</td>\n",
       "      <td>2016-03-31 23:59:00</td>\n",
       "      <td>2016-04-01 00:08:00</td>\n",
       "    </tr>\n",
       "    <tr>\n",
       "      <th>3</th>\n",
       "      <td>766916</td>\n",
       "      <td>3/31/2016 23:57</td>\n",
       "      <td>4/1/2016 0:09</td>\n",
       "      <td>31226</td>\n",
       "      <td>34th St &amp; Wisconsin Ave NW</td>\n",
       "      <td>31214</td>\n",
       "      <td>17th &amp; Corcoran St NW</td>\n",
       "      <td>W01090</td>\n",
       "      <td>Registered</td>\n",
       "      <td>2016-03-31 23:57:00</td>\n",
       "      <td>2016-04-01 00:09:00</td>\n",
       "    </tr>\n",
       "    <tr>\n",
       "      <th>4</th>\n",
       "      <td>139656</td>\n",
       "      <td>3/31/2016 23:57</td>\n",
       "      <td>3/31/2016 23:59</td>\n",
       "      <td>31011</td>\n",
       "      <td>23rd &amp; Crystal Dr</td>\n",
       "      <td>31009</td>\n",
       "      <td>27th &amp; Crystal Dr</td>\n",
       "      <td>W21934</td>\n",
       "      <td>Registered</td>\n",
       "      <td>2016-03-31 23:57:00</td>\n",
       "      <td>2016-03-31 23:59:00</td>\n",
       "    </tr>\n",
       "    <tr>\n",
       "      <th>5</th>\n",
       "      <td>967713</td>\n",
       "      <td>3/31/2016 23:57</td>\n",
       "      <td>4/1/2016 0:13</td>\n",
       "      <td>31266</td>\n",
       "      <td>11th &amp; M St NW</td>\n",
       "      <td>31600</td>\n",
       "      <td>5th &amp; K St NW</td>\n",
       "      <td>W20562</td>\n",
       "      <td>Casual</td>\n",
       "      <td>2016-03-31 23:57:00</td>\n",
       "      <td>2016-04-01 00:13:00</td>\n",
       "    </tr>\n",
       "    <tr>\n",
       "      <th>6</th>\n",
       "      <td>534836</td>\n",
       "      <td>3/31/2016 23:57</td>\n",
       "      <td>4/1/2016 0:06</td>\n",
       "      <td>31222</td>\n",
       "      <td>New York Ave &amp; 15th St NW</td>\n",
       "      <td>31278</td>\n",
       "      <td>18th &amp; R St NW</td>\n",
       "      <td>W20222</td>\n",
       "      <td>Registered</td>\n",
       "      <td>2016-03-31 23:57:00</td>\n",
       "      <td>2016-04-01 00:06:00</td>\n",
       "    </tr>\n",
       "    <tr>\n",
       "      <th>7</th>\n",
       "      <td>243864</td>\n",
       "      <td>3/31/2016 23:56</td>\n",
       "      <td>4/1/2016 0:00</td>\n",
       "      <td>31228</td>\n",
       "      <td>8th &amp; H St NW</td>\n",
       "      <td>31600</td>\n",
       "      <td>5th &amp; K St NW</td>\n",
       "      <td>W20291</td>\n",
       "      <td>Registered</td>\n",
       "      <td>2016-03-31 23:56:00</td>\n",
       "      <td>2016-04-01 00:00:00</td>\n",
       "    </tr>\n",
       "    <tr>\n",
       "      <th>8</th>\n",
       "      <td>372524</td>\n",
       "      <td>3/31/2016 23:55</td>\n",
       "      <td>4/1/2016 0:01</td>\n",
       "      <td>31113</td>\n",
       "      <td>Columbia Rd &amp; Belmont St NW</td>\n",
       "      <td>31234</td>\n",
       "      <td>20th &amp; O St NW / Dupont South</td>\n",
       "      <td>W20590</td>\n",
       "      <td>Registered</td>\n",
       "      <td>2016-03-31 23:55:00</td>\n",
       "      <td>2016-04-01 00:01:00</td>\n",
       "    </tr>\n",
       "    <tr>\n",
       "      <th>9</th>\n",
       "      <td>215194</td>\n",
       "      <td>3/31/2016 23:55</td>\n",
       "      <td>3/31/2016 23:59</td>\n",
       "      <td>31263</td>\n",
       "      <td>10th &amp; K St NW</td>\n",
       "      <td>31265</td>\n",
       "      <td>5th St &amp; Massachusetts Ave NW</td>\n",
       "      <td>W21876</td>\n",
       "      <td>Registered</td>\n",
       "      <td>2016-03-31 23:55:00</td>\n",
       "      <td>2016-03-31 23:59:00</td>\n",
       "    </tr>\n",
       "  </tbody>\n",
       "</table>\n",
       "</div>"
      ],
      "text/plain": [
       "   Duration (ms)       Start date         End date  Start station number  \\\n",
       "0         301295  3/31/2016 23:59    4/1/2016 0:04                 31280   \n",
       "1         557887  3/31/2016 23:59    4/1/2016 0:08                 31275   \n",
       "2         555944  3/31/2016 23:59    4/1/2016 0:08                 31101   \n",
       "3         766916  3/31/2016 23:57    4/1/2016 0:09                 31226   \n",
       "4         139656  3/31/2016 23:57  3/31/2016 23:59                 31011   \n",
       "5         967713  3/31/2016 23:57    4/1/2016 0:13                 31266   \n",
       "6         534836  3/31/2016 23:57    4/1/2016 0:06                 31222   \n",
       "7         243864  3/31/2016 23:56    4/1/2016 0:00                 31228   \n",
       "8         372524  3/31/2016 23:55    4/1/2016 0:01                 31113   \n",
       "9         215194  3/31/2016 23:55  3/31/2016 23:59                 31263   \n",
       "\n",
       "                    Start station  End station number  \\\n",
       "0                  11th & S St NW               31506   \n",
       "1  New Hampshire Ave & 24th St NW               31114   \n",
       "2                  14th & V St NW               31221   \n",
       "3      34th St & Wisconsin Ave NW               31214   \n",
       "4               23rd & Crystal Dr               31009   \n",
       "5                  11th & M St NW               31600   \n",
       "6       New York Ave & 15th St NW               31278   \n",
       "7                   8th & H St NW               31600   \n",
       "8     Columbia Rd & Belmont St NW               31234   \n",
       "9                  10th & K St NW               31265   \n",
       "\n",
       "                     End station Bike number Member Type               start  \\\n",
       "0      1st & Rhode Island Ave NW      W00022  Registered 2016-03-31 23:59:00   \n",
       "1       18th St & Wyoming Ave NW      W01294  Registered 2016-03-31 23:59:00   \n",
       "2                 18th & M St NW      W01416  Registered 2016-03-31 23:59:00   \n",
       "3          17th & Corcoran St NW      W01090  Registered 2016-03-31 23:57:00   \n",
       "4              27th & Crystal Dr      W21934  Registered 2016-03-31 23:57:00   \n",
       "5                  5th & K St NW      W20562      Casual 2016-03-31 23:57:00   \n",
       "6                 18th & R St NW      W20222  Registered 2016-03-31 23:57:00   \n",
       "7                  5th & K St NW      W20291  Registered 2016-03-31 23:56:00   \n",
       "8  20th & O St NW / Dupont South      W20590  Registered 2016-03-31 23:55:00   \n",
       "9  5th St & Massachusetts Ave NW      W21876  Registered 2016-03-31 23:55:00   \n",
       "\n",
       "                  end  \n",
       "0 2016-04-01 00:04:00  \n",
       "1 2016-04-01 00:08:00  \n",
       "2 2016-04-01 00:08:00  \n",
       "3 2016-04-01 00:09:00  \n",
       "4 2016-03-31 23:59:00  \n",
       "5 2016-04-01 00:13:00  \n",
       "6 2016-04-01 00:06:00  \n",
       "7 2016-04-01 00:00:00  \n",
       "8 2016-04-01 00:01:00  \n",
       "9 2016-03-31 23:59:00  "
      ]
     },
     "execution_count": 3,
     "metadata": {},
     "output_type": "execute_result"
    }
   ],
   "source": [
    "import seaborn as sns\n",
    "import matplotlib.pyplot as plt\n",
    "%matplotlib inline\n",
    "import pandas as pd\n",
    "bikes = pd.read_csv('C:/Users/Anchee/Desktop/MS Government Analytics JHU/Fall 2018 - Machine Learning and Neural Networks/4 Practical Linear Regression and Cost Functions/2016-Q1-Trips-History-Data.csv')\n",
    "bikes.head()\n",
    "bikes['start'] = pd.to_datetime(bikes['Start date'], infer_datetime_format=True)\n",
    "bikes['end'] = pd.to_datetime(bikes['End date'], infer_datetime_format=True)\n",
    "\n",
    "bikes.head(10)"
   ]
  },
  {
   "cell_type": "markdown",
   "metadata": {},
   "source": [
    "### Create a new column that represents the hour of the day "
   ]
  },
  {
   "cell_type": "code",
   "execution_count": 4,
   "metadata": {},
   "outputs": [
    {
     "data": {
      "text/plain": [
       "0    23.98\n",
       "1    23.98\n",
       "2    23.98\n",
       "3    23.95\n",
       "4    23.95\n",
       "5    23.95\n",
       "6    23.95\n",
       "7    23.93\n",
       "8    23.92\n",
       "9    23.92\n",
       "Name: hour_of_day, dtype: float64"
      ]
     },
     "execution_count": 4,
     "metadata": {},
     "output_type": "execute_result"
    }
   ],
   "source": [
    "bikes['hour_of_day'] = (bikes.start.dt.hour + (bikes.start.dt.minute/60).round(2))\n",
    "\n",
    "(bikes['hour_of_day']).head(10)"
   ]
  },
  {
   "cell_type": "markdown",
   "metadata": {},
   "source": [
    "### Aggregate to get a count per hour/minute of the day across all trips"
   ]
  },
  {
   "cell_type": "code",
   "execution_count": 5,
   "metadata": {},
   "outputs": [
    {
     "data": {
      "text/plain": [
       "<matplotlib.axes._subplots.AxesSubplot at 0x12f4df63e48>"
      ]
     },
     "execution_count": 5,
     "metadata": {},
     "output_type": "execute_result"
    },
    {
     "data": {
      "image/png": "[encoded data removed]",
      "text/plain": [
       "<Figure size 432x288 with 1 Axes>"
      ]
     },
     "metadata": {},
     "output_type": "display_data"
    }
   ],
   "source": [
    "hours = bikes.groupby('hour_of_day').agg('count')\n",
    "hours['hour'] = hours.index\n",
    "\n",
    "hours.start.plot(color = 'lightgreen')\n",
    "# import seaborn as sns\n",
    "\n",
    "# sns.lmplot(x='hour', y='start', data=hours, aspect=1.5, scatter_kws={'alpha':0.2})"
   ]
  },
  {
   "cell_type": "code",
   "execution_count": 6,
   "metadata": {},
   "outputs": [
    {
     "data": {
      "text/plain": [
       "<seaborn.axisgrid.FacetGrid at 0x12f4e0d53c8>"
      ]
     },
     "execution_count": 6,
     "metadata": {},
     "output_type": "execute_result"
    },
    {
     "data": {
      "image/png": "[encoded data removed]",
      "text/plain": [
       "<Figure size 540x360 with 1 Axes>"
      ]
     },
     "metadata": {},
     "output_type": "display_data"
    }
   ],
   "source": [
    "import seaborn as sns\n",
    "\n",
    "sns.lmplot(x='hour', y='start', data=hours, aspect=1.5, scatter_kws={'alpha':0.2})"
   ]
  },
  {
   "cell_type": "markdown",
   "metadata": {},
   "source": [
    "# Assignment 4\n",
    "Using the **`hours`** dataframe and the `hour_of_day` column, perform the following cells. \n",
    "\n",
    "Explain the results in a **paragraph + charts** of  to describe which model you'd recommend"
   ]
  },
  {
   "cell_type": "code",
   "execution_count": 7,
   "metadata": {},
   "outputs": [
    {
     "data": {
      "text/html": [
       "<div>\n",
       "<style scoped>\n",
       "    .dataframe tbody tr th:only-of-type {\n",
       "        vertical-align: middle;\n",
       "    }\n",
       "\n",
       "    .dataframe tbody tr th {\n",
       "        vertical-align: top;\n",
       "    }\n",
       "\n",
       "    .dataframe thead th {\n",
       "        text-align: right;\n",
       "    }\n",
       "</style>\n",
       "<table border=\"1\" class=\"dataframe\">\n",
       "  <thead>\n",
       "    <tr style=\"text-align: right;\">\n",
       "      <th></th>\n",
       "      <th>Duration (ms)</th>\n",
       "      <th>Start date</th>\n",
       "      <th>End date</th>\n",
       "      <th>Start station number</th>\n",
       "      <th>Start station</th>\n",
       "      <th>End station number</th>\n",
       "      <th>End station</th>\n",
       "      <th>Bike number</th>\n",
       "      <th>Member Type</th>\n",
       "      <th>start</th>\n",
       "      <th>end</th>\n",
       "      <th>hour</th>\n",
       "    </tr>\n",
       "    <tr>\n",
       "      <th>hour_of_day</th>\n",
       "      <th></th>\n",
       "      <th></th>\n",
       "      <th></th>\n",
       "      <th></th>\n",
       "      <th></th>\n",
       "      <th></th>\n",
       "      <th></th>\n",
       "      <th></th>\n",
       "      <th></th>\n",
       "      <th></th>\n",
       "      <th></th>\n",
       "      <th></th>\n",
       "    </tr>\n",
       "  </thead>\n",
       "  <tbody>\n",
       "    <tr>\n",
       "      <th>0.00</th>\n",
       "      <td>70</td>\n",
       "      <td>70</td>\n",
       "      <td>70</td>\n",
       "      <td>70</td>\n",
       "      <td>70</td>\n",
       "      <td>70</td>\n",
       "      <td>70</td>\n",
       "      <td>70</td>\n",
       "      <td>70</td>\n",
       "      <td>70</td>\n",
       "      <td>70</td>\n",
       "      <td>0.00</td>\n",
       "    </tr>\n",
       "    <tr>\n",
       "      <th>0.02</th>\n",
       "      <td>90</td>\n",
       "      <td>90</td>\n",
       "      <td>90</td>\n",
       "      <td>90</td>\n",
       "      <td>90</td>\n",
       "      <td>90</td>\n",
       "      <td>90</td>\n",
       "      <td>90</td>\n",
       "      <td>90</td>\n",
       "      <td>90</td>\n",
       "      <td>90</td>\n",
       "      <td>0.02</td>\n",
       "    </tr>\n",
       "    <tr>\n",
       "      <th>0.03</th>\n",
       "      <td>71</td>\n",
       "      <td>71</td>\n",
       "      <td>71</td>\n",
       "      <td>71</td>\n",
       "      <td>71</td>\n",
       "      <td>71</td>\n",
       "      <td>71</td>\n",
       "      <td>71</td>\n",
       "      <td>71</td>\n",
       "      <td>71</td>\n",
       "      <td>71</td>\n",
       "      <td>0.03</td>\n",
       "    </tr>\n",
       "    <tr>\n",
       "      <th>0.05</th>\n",
       "      <td>77</td>\n",
       "      <td>77</td>\n",
       "      <td>77</td>\n",
       "      <td>77</td>\n",
       "      <td>77</td>\n",
       "      <td>77</td>\n",
       "      <td>77</td>\n",
       "      <td>77</td>\n",
       "      <td>77</td>\n",
       "      <td>77</td>\n",
       "      <td>77</td>\n",
       "      <td>0.05</td>\n",
       "    </tr>\n",
       "    <tr>\n",
       "      <th>0.07</th>\n",
       "      <td>68</td>\n",
       "      <td>68</td>\n",
       "      <td>68</td>\n",
       "      <td>68</td>\n",
       "      <td>68</td>\n",
       "      <td>68</td>\n",
       "      <td>68</td>\n",
       "      <td>68</td>\n",
       "      <td>68</td>\n",
       "      <td>68</td>\n",
       "      <td>68</td>\n",
       "      <td>0.07</td>\n",
       "    </tr>\n",
       "    <tr>\n",
       "      <th>0.08</th>\n",
       "      <td>86</td>\n",
       "      <td>86</td>\n",
       "      <td>86</td>\n",
       "      <td>86</td>\n",
       "      <td>86</td>\n",
       "      <td>86</td>\n",
       "      <td>86</td>\n",
       "      <td>86</td>\n",
       "      <td>86</td>\n",
       "      <td>86</td>\n",
       "      <td>86</td>\n",
       "      <td>0.08</td>\n",
       "    </tr>\n",
       "    <tr>\n",
       "      <th>0.10</th>\n",
       "      <td>66</td>\n",
       "      <td>66</td>\n",
       "      <td>66</td>\n",
       "      <td>66</td>\n",
       "      <td>66</td>\n",
       "      <td>66</td>\n",
       "      <td>66</td>\n",
       "      <td>66</td>\n",
       "      <td>66</td>\n",
       "      <td>66</td>\n",
       "      <td>66</td>\n",
       "      <td>0.10</td>\n",
       "    </tr>\n",
       "    <tr>\n",
       "      <th>0.12</th>\n",
       "      <td>75</td>\n",
       "      <td>75</td>\n",
       "      <td>75</td>\n",
       "      <td>75</td>\n",
       "      <td>75</td>\n",
       "      <td>75</td>\n",
       "      <td>75</td>\n",
       "      <td>75</td>\n",
       "      <td>75</td>\n",
       "      <td>75</td>\n",
       "      <td>75</td>\n",
       "      <td>0.12</td>\n",
       "    </tr>\n",
       "    <tr>\n",
       "      <th>0.13</th>\n",
       "      <td>65</td>\n",
       "      <td>65</td>\n",
       "      <td>65</td>\n",
       "      <td>65</td>\n",
       "      <td>65</td>\n",
       "      <td>65</td>\n",
       "      <td>65</td>\n",
       "      <td>65</td>\n",
       "      <td>65</td>\n",
       "      <td>65</td>\n",
       "      <td>65</td>\n",
       "      <td>0.13</td>\n",
       "    </tr>\n",
       "    <tr>\n",
       "      <th>0.15</th>\n",
       "      <td>63</td>\n",
       "      <td>63</td>\n",
       "      <td>63</td>\n",
       "      <td>63</td>\n",
       "      <td>63</td>\n",
       "      <td>63</td>\n",
       "      <td>63</td>\n",
       "      <td>63</td>\n",
       "      <td>63</td>\n",
       "      <td>63</td>\n",
       "      <td>63</td>\n",
       "      <td>0.15</td>\n",
       "    </tr>\n",
       "  </tbody>\n",
       "</table>\n",
       "</div>"
      ],
      "text/plain": [
       "             Duration (ms)  Start date  End date  Start station number  \\\n",
       "hour_of_day                                                              \n",
       "0.00                    70          70        70                    70   \n",
       "0.02                    90          90        90                    90   \n",
       "0.03                    71          71        71                    71   \n",
       "0.05                    77          77        77                    77   \n",
       "0.07                    68          68        68                    68   \n",
       "0.08                    86          86        86                    86   \n",
       "0.10                    66          66        66                    66   \n",
       "0.12                    75          75        75                    75   \n",
       "0.13                    65          65        65                    65   \n",
       "0.15                    63          63        63                    63   \n",
       "\n",
       "             Start station  End station number  End station  Bike number  \\\n",
       "hour_of_day                                                                \n",
       "0.00                    70                  70           70           70   \n",
       "0.02                    90                  90           90           90   \n",
       "0.03                    71                  71           71           71   \n",
       "0.05                    77                  77           77           77   \n",
       "0.07                    68                  68           68           68   \n",
       "0.08                    86                  86           86           86   \n",
       "0.10                    66                  66           66           66   \n",
       "0.12                    75                  75           75           75   \n",
       "0.13                    65                  65           65           65   \n",
       "0.15                    63                  63           63           63   \n",
       "\n",
       "             Member Type  start  end  hour  \n",
       "hour_of_day                                 \n",
       "0.00                  70     70   70  0.00  \n",
       "0.02                  90     90   90  0.02  \n",
       "0.03                  71     71   71  0.03  \n",
       "0.05                  77     77   77  0.05  \n",
       "0.07                  68     68   68  0.07  \n",
       "0.08                  86     86   86  0.08  \n",
       "0.10                  66     66   66  0.10  \n",
       "0.12                  75     75   75  0.12  \n",
       "0.13                  65     65   65  0.13  \n",
       "0.15                  63     63   63  0.15  "
      ]
     },
     "execution_count": 7,
     "metadata": {},
     "output_type": "execute_result"
    }
   ],
   "source": [
    "hours.head(10)"
   ]
  },
  {
   "cell_type": "markdown",
   "metadata": {
    "collapsed": true
   },
   "source": [
    "\n",
    "## 1. Create 3 models fit to `hour_of_day` with varying polynomial degrees "
   ]
  },
  {
   "cell_type": "code",
   "execution_count": 8,
   "metadata": {},
   "outputs": [],
   "source": [
    "import numpy as np\n",
    "import matplotlib.pylab as plt\n",
    "%matplotlib inline\n",
    "from sklearn import linear_model"
   ]
  },
  {
   "cell_type": "markdown",
   "metadata": {},
   "source": [
    "# Model 1 with polynomial degree = 5"
   ]
  },
  {
   "cell_type": "code",
   "execution_count": 9,
   "metadata": {},
   "outputs": [
    {
     "name": "stdout",
     "output_type": "stream",
     "text": [
      "[[0.000e+00]\n",
      " [2.000e-02]\n",
      " [3.000e-02]\n",
      " ...\n",
      " [2.395e+01]\n",
      " [2.397e+01]\n",
      " [2.398e+01]]\n"
     ]
    }
   ],
   "source": [
    "from sklearn.preprocessing import PolynomialFeatures\n",
    "\n",
    "poly1 = PolynomialFeatures(degree=5)\n",
    "\n",
    "x = np.array(hours['hour']).reshape(-1,1)\n",
    "\n",
    "print(x)"
   ]
  },
  {
   "cell_type": "code",
   "execution_count": 10,
   "metadata": {},
   "outputs": [
    {
     "name": "stdout",
     "output_type": "stream",
     "text": [
      "[70 90 71 ... 74 75 72]\n"
     ]
    }
   ],
   "source": [
    "y = np.array(hours['Duration (ms)'])\n",
    "\n",
    "print(y)"
   ]
  },
  {
   "cell_type": "code",
   "execution_count": 11,
   "metadata": {},
   "outputs": [],
   "source": [
    "x1 = poly1.fit_transform(x)"
   ]
  },
  {
   "cell_type": "code",
   "execution_count": 12,
   "metadata": {},
   "outputs": [
    {
     "data": {
      "text/plain": [
       "(array([ 0.00000000e+00, -1.21796625e+02,  4.42668585e+01, -4.41725832e+00,\n",
       "         1.94287099e-01, -3.29527508e-03]), 93.09799189614682)"
      ]
     },
     "execution_count": 12,
     "metadata": {},
     "output_type": "execute_result"
    }
   ],
   "source": [
    "model1 = linear_model.LinearRegression()\n",
    "model1.fit(x1, y)\n",
    "(model1.coef_, model1.intercept_)"
   ]
  },
  {
   "cell_type": "code",
   "execution_count": 13,
   "metadata": {},
   "outputs": [
    {
     "data": {
      "text/plain": [
       "[<matplotlib.lines.Line2D at 0x12f4e5ece10>,\n",
       " <matplotlib.lines.Line2D at 0x12f4e62aa58>]"
      ]
     },
     "execution_count": 13,
     "metadata": {},
     "output_type": "execute_result"
    },
    {
     "data": {
      "image/png": "[encoded data removed]",
      "text/plain": [
       "<Figure size 432x288 with 1 Axes>"
      ]
     },
     "metadata": {},
     "output_type": "display_data"
    }
   ],
   "source": [
    "plt.scatter(x,y, color = 'lightgreen')\n",
    "plt.plot(x , np.dot(x1, model1.coef_), + model1.intercept_, color = 'orangered', linewidth = 5.0 )"
   ]
  },
  {
   "cell_type": "markdown",
   "metadata": {},
   "source": [
    "We can see that the model 1 with polynomial degree 5 does not fit with `hour_of_day`."
   ]
  },
  {
   "cell_type": "markdown",
   "metadata": {},
   "source": [
    "# Model 2 with polynomial degree = 10"
   ]
  },
  {
   "cell_type": "code",
   "execution_count": 14,
   "metadata": {},
   "outputs": [],
   "source": [
    "poly2 = PolynomialFeatures(degree=10)"
   ]
  },
  {
   "cell_type": "code",
   "execution_count": 15,
   "metadata": {},
   "outputs": [],
   "source": [
    "x2 = poly2.fit_transform(x)"
   ]
  },
  {
   "cell_type": "code",
   "execution_count": 16,
   "metadata": {},
   "outputs": [
    {
     "data": {
      "text/plain": [
       "(array([ 0.00000000e+00, -4.34565817e+02,  5.70285455e+02, -3.16065337e+02,\n",
       "         8.69035753e+01, -1.31658093e+01,  1.17457293e+00, -6.32390657e-02,\n",
       "         2.01667748e-03, -3.49989668e-05,  2.54037957e-07]),\n",
       " 136.59668224543952)"
      ]
     },
     "execution_count": 16,
     "metadata": {},
     "output_type": "execute_result"
    }
   ],
   "source": [
    "model2 = linear_model.LinearRegression()\n",
    "model2.fit(x2, y)\n",
    "(model2.coef_, model2.intercept_)"
   ]
  },
  {
   "cell_type": "code",
   "execution_count": 17,
   "metadata": {},
   "outputs": [
    {
     "data": {
      "text/plain": [
       "[<matplotlib.lines.Line2D at 0x12f4e6485c0>]"
      ]
     },
     "execution_count": 17,
     "metadata": {},
     "output_type": "execute_result"
    },
    {
     "data": {
      "image/png": "[encoded data removed]",
      "text/plain": [
       "<Figure size 432x288 with 1 Axes>"
      ]
     },
     "metadata": {},
     "output_type": "display_data"
    }
   ],
   "source": [
    "plt.scatter(x,y, color = 'lightgreen')\n",
    "plt.plot(x, np.dot(x2, model2.coef_) + model2.intercept_, color = 'midnightblue', linewidth = '5.0')"
   ]
  },
  {
   "cell_type": "markdown",
   "metadata": {},
   "source": [
    "The model 2 with polynomial degree 10 seems to fit with `hour_of_day`."
   ]
  },
  {
   "cell_type": "markdown",
   "metadata": {},
   "source": [
    "# Model 3 with polynomial degree = 12"
   ]
  },
  {
   "cell_type": "code",
   "execution_count": 18,
   "metadata": {},
   "outputs": [],
   "source": [
    "poly3 = PolynomialFeatures(degree=12)"
   ]
  },
  {
   "cell_type": "code",
   "execution_count": 19,
   "metadata": {},
   "outputs": [],
   "source": [
    "x3 = poly3.fit_transform(x)"
   ]
  },
  {
   "cell_type": "code",
   "execution_count": 20,
   "metadata": {},
   "outputs": [
    {
     "data": {
      "text/plain": [
       "(array([ 0.00000000e+00, -5.95756749e-01, -1.91653508e+00, -4.19889357e+00,\n",
       "        -4.51709903e+00,  3.12028139e+00, -7.05175124e-01,  8.18932116e-02,\n",
       "        -5.54554695e-03,  2.27341093e-04, -5.54504987e-06,  7.37751677e-08,\n",
       "        -4.10145806e-10]), 79.39405964041748)"
      ]
     },
     "execution_count": 20,
     "metadata": {},
     "output_type": "execute_result"
    }
   ],
   "source": [
    "model3 = linear_model.LinearRegression()\n",
    "model3.fit(x3, y)\n",
    "(model3.coef_, model3.intercept_)"
   ]
  },
  {
   "cell_type": "code",
   "execution_count": 22,
   "metadata": {},
   "outputs": [
    {
     "data": {
      "text/plain": [
       "[<matplotlib.lines.Line2D at 0x12f4e71bd30>]"
      ]
     },
     "execution_count": 22,
     "metadata": {},
     "output_type": "execute_result"
    },
    {
     "data": {
      "image/png": "[encoded data removed]",
      "text/plain": [
       "<Figure size 432x288 with 1 Axes>"
      ]
     },
     "metadata": {},
     "output_type": "display_data"
    }
   ],
   "source": [
    "plt.scatter(x,y, color = 'lightgreen')\n",
    "plt.plot(x, np.dot(x3, model3.coef_) + model3.intercept_, color = 'dimgrey', linewidth = '5.0')"
   ]
  },
  {
   "cell_type": "markdown",
   "metadata": {},
   "source": [
    "Also, the model 3 with polynomial degree 12 seems to fit with `hour_of_day`."
   ]
  },
  {
   "cell_type": "markdown",
   "metadata": {},
   "source": [
    "Hence, there are two models which are model 2 and 3 that fit with `hour_of_day`."
   ]
  },
  {
   "cell_type": "markdown",
   "metadata": {},
   "source": [
    "## 2. Choose one of the polynomial models and create 3 new models fit to `hour_of_day` with different Ridge Regression $\\alpha$ (alpha) Ridge Coefficient values\n"
   ]
  },
  {
   "cell_type": "markdown",
   "metadata": {},
   "source": [
    "According to the polynomial models above, there are 2 models that fit with `hour_of_day`. However, model 3 seems to be the best fit. Therefore, I chose model 3 to create three models with different alpha values."
   ]
  },
  {
   "cell_type": "markdown",
   "metadata": {},
   "source": [
    "# (1) alpha = 0"
   ]
  },
  {
   "cell_type": "code",
   "execution_count": 23,
   "metadata": {},
   "outputs": [
    {
     "data": {
      "text/plain": [
       "(array([ 0.00000000e+00, -2.22211374e+02,  4.76542924e+02, -3.28018357e+02,\n",
       "         1.06531061e+02, -1.96258224e+01,  2.29631988e+00, -1.82773381e-01,\n",
       "         1.02270268e-02, -4.00428544e-04,  1.04506792e-05, -1.62264241e-07,\n",
       "         1.12438264e-09]), 238.68328296818459)"
      ]
     },
     "execution_count": 23,
     "metadata": {},
     "output_type": "execute_result"
    }
   ],
   "source": [
    "ridge1 = linear_model.Ridge(alpha = 0)\n",
    "ridge1.fit(x3, y)\n",
    "(ridge1.coef_, ridge1.intercept_)"
   ]
  },
  {
   "cell_type": "code",
   "execution_count": 24,
   "metadata": {},
   "outputs": [
    {
     "data": {
      "text/plain": [
       "[<matplotlib.lines.Line2D at 0x12f4ec1e978>]"
      ]
     },
     "execution_count": 24,
     "metadata": {},
     "output_type": "execute_result"
    },
    {
     "data": {
      "image/png": "[encoded data removed]",
      "text/plain": [
       "<Figure size 432x288 with 1 Axes>"
      ]
     },
     "metadata": {},
     "output_type": "display_data"
    }
   ],
   "source": [
    "plt.scatter(x,y, color = 'lightgreen')\n",
    "plt.plot(x, np.dot(x3, ridge1.coef_) + ridge1.intercept_, color ='darkorchid', linewidth = '5')\n",
    "plt.plot(x, np.dot(x3, model3.coef_) + model3.intercept_, color = 'dimgrey', linewidth = '3.5')"
   ]
  },
  {
   "cell_type": "markdown",
   "metadata": {},
   "source": [
    "The ridge model with alpha 0 does not fit with model 3."
   ]
  },
  {
   "cell_type": "markdown",
   "metadata": {},
   "source": [
    "# (2) alpha = 0.5"
   ]
  },
  {
   "cell_type": "code",
   "execution_count": 25,
   "metadata": {},
   "outputs": [
    {
     "name": "stderr",
     "output_type": "stream",
     "text": [
      "C:\\Users\\Anchee\\Anaconda3\\lib\\site-packages\\sklearn\\linear_model\\ridge.py:112: LinAlgWarning: scipy.linalg.solve\n",
      "Ill-conditioned matrix detected. Result is not guaranteed to be accurate.\n",
      "Reciprocal condition number6.883349e-36\n",
      "  overwrite_a=True).T\n"
     ]
    },
    {
     "data": {
      "text/plain": [
       "(array([ 0.00000000e+00, -2.05986063e+02,  3.39953381e+02, -2.11836735e+02,\n",
       "         6.09257752e+01, -9.22159290e+00,  7.89940204e-01, -3.85635425e-02,\n",
       "         9.73788616e-04, -6.57946359e-06, -2.19946333e-07,  4.34959766e-09,\n",
       "        -1.69570765e-11]), 77.33763336841025)"
      ]
     },
     "execution_count": 25,
     "metadata": {},
     "output_type": "execute_result"
    }
   ],
   "source": [
    "ridge2 = linear_model.Ridge(alpha=0.5)\n",
    "ridge2.fit(x3, y)\n",
    "(ridge2.coef_, ridge2.intercept_)"
   ]
  },
  {
   "cell_type": "code",
   "execution_count": 26,
   "metadata": {},
   "outputs": [
    {
     "data": {
      "text/plain": [
       "[<matplotlib.lines.Line2D at 0x12f4ec9cf60>]"
      ]
     },
     "execution_count": 26,
     "metadata": {},
     "output_type": "execute_result"
    },
    {
     "data": {
      "image/png": "[encoded data removed]",
      "text/plain": [
       "<Figure size 432x288 with 1 Axes>"
      ]
     },
     "metadata": {},
     "output_type": "display_data"
    }
   ],
   "source": [
    "plt.scatter(x,y, color = 'lightgreen')\n",
    "plt.plot(x, np.dot(x3, ridge2.coef_) + ridge2.intercept_, color ='fuchsia', linewidth = '5')\n",
    "plt.plot(x, np.dot(x3, model3.coef_) + model3.intercept_, color = 'dimgrey', linewidth = '3.5')"
   ]
  },
  {
   "cell_type": "markdown",
   "metadata": {},
   "source": [
    "The ridge model with alpha 0.5 seems to fit with model 3."
   ]
  },
  {
   "cell_type": "markdown",
   "metadata": {},
   "source": [
    "# (3) alpha = 1"
   ]
  },
  {
   "cell_type": "code",
   "execution_count": 27,
   "metadata": {},
   "outputs": [
    {
     "name": "stderr",
     "output_type": "stream",
     "text": [
      "C:\\Users\\Anchee\\Anaconda3\\lib\\site-packages\\sklearn\\linear_model\\ridge.py:112: LinAlgWarning: scipy.linalg.solve\n",
      "Ill-conditioned matrix detected. Result is not guaranteed to be accurate.\n",
      "Reciprocal condition number1.474511e-35\n",
      "  overwrite_a=True).T\n"
     ]
    },
    {
     "data": {
      "text/plain": [
       "(array([ 0.00000000e+00, -1.04699758e+02,  1.95750626e+02, -1.20481057e+02,\n",
       "         2.90732663e+01, -2.41692556e+00, -1.54784843e-01,  4.92926939e-02,\n",
       "        -4.54634778e-03,  2.24718648e-04, -6.41182622e-06,  1.00131166e-07,\n",
       "        -6.68236567e-10]), 59.102245799095044)"
      ]
     },
     "execution_count": 27,
     "metadata": {},
     "output_type": "execute_result"
    }
   ],
   "source": [
    "ridge3 = linear_model.Ridge(alpha=1)\n",
    "ridge3.fit(x3, y)\n",
    "(ridge3.coef_, ridge3.intercept_)"
   ]
  },
  {
   "cell_type": "code",
   "execution_count": 28,
   "metadata": {},
   "outputs": [
    {
     "data": {
      "text/plain": [
       "[<matplotlib.lines.Line2D at 0x12f4daadf60>]"
      ]
     },
     "execution_count": 28,
     "metadata": {},
     "output_type": "execute_result"
    },
    {
     "data": {
      "image/png": "[encoded data removed]",
      "text/plain": [
       "<Figure size 432x288 with 1 Axes>"
      ]
     },
     "metadata": {},
     "output_type": "display_data"
    }
   ],
   "source": [
    "plt.scatter(x,y, color = 'lightgreen')\n",
    "plt.plot(x, np.dot(x3, ridge3.coef_) + ridge3.intercept_, color ='orchid', linewidth = '5')\n",
    "plt.plot(x, np.dot(x3, model3.coef_) + model3.intercept_, color = 'dimgrey', linewidth = '3.5')"
   ]
  },
  {
   "cell_type": "markdown",
   "metadata": {},
   "source": [
    "Also, the ridge model with alpha 1 seems to fit with model 3."
   ]
  }
 ],
 "metadata": {
  "kernelspec": {
   "display_name": "Python 3",
   "language": "python",
   "name": "python3"
  },
  "language_info": {
   "codemirror_mode": {
    "name": "ipython",
    "version": 3
   },
   "file_extension": ".py",
   "mimetype": "text/x-python",
   "name": "python",
   "nbconvert_exporter": "python",
   "pygments_lexer": "ipython3",
   "version": "3.6.5"
  }
 },
 "nbformat": 4,
 "nbformat_minor": 2
}
