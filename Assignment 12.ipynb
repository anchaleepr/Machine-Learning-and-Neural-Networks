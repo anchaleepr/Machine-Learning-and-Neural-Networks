{
 "cells": [
  {
   "cell_type": "markdown",
   "metadata": {},
   "source": [
    "# Assignment 12 - Neural Networks image recognition\n",
    "\n",
    "#### by Anchalee P Ramirez"
   ]
  },
  {
   "cell_type": "markdown",
   "metadata": {},
   "source": [
    "# Neural Networks - Image Recognition "
   ]
  },
  {
   "cell_type": "markdown",
   "metadata": {},
   "source": [
    "### Use both MLNN and the ConvNet to solve the following problem.\n",
    "\n",
    "#### 1. Add random noise (i.e. `np.random.normal`) to the images in training and testing. Make sure each image gets a different noise feature added to it. Inspect by printing out an image."
   ]
  },
  {
   "cell_type": "code",
   "execution_count": 1,
   "metadata": {},
   "outputs": [
    {
     "name": "stderr",
     "output_type": "stream",
     "text": [
      "C:\\Users\\Anchee\\Anaconda3\\lib\\site-packages\\h5py\\__init__.py:36: FutureWarning: Conversion of the second argument of issubdtype from `float` to `np.floating` is deprecated. In future, it will be treated as `np.float64 == np.dtype(float).type`.\n",
      "  from ._conv import register_converters as _register_converters\n",
      "Using TensorFlow backend.\n"
     ]
    }
   ],
   "source": [
    "import keras\n",
    "from keras.datasets import mnist\n",
    "from keras.models import Sequential\n",
    "from keras.optimizers import RMSprop\n",
    "from keras.layers import Dense, Dropout, Flatten\n",
    "from keras.layers import Conv2D, MaxPooling2D\n",
    "from keras import backend"
   ]
  },
  {
   "cell_type": "code",
   "execution_count": 2,
   "metadata": {},
   "outputs": [],
   "source": [
    "import matplotlib.pyplot as plt\n",
    "import numpy as np"
   ]
  },
  {
   "cell_type": "markdown",
   "metadata": {},
   "source": [
    "#### Multi Layer Neural Network"
   ]
  },
  {
   "cell_type": "code",
   "execution_count": 3,
   "metadata": {},
   "outputs": [
    {
     "name": "stdout",
     "output_type": "stream",
     "text": [
      "60000 train samples\n",
      "10000 test samples\n"
     ]
    }
   ],
   "source": [
    "# the data, shuffled and split between train and test sets\n",
    "(x_train, y_train), (x_test, y_test) = mnist.load_data()\n",
    "\n",
    "x_train = x_train.reshape(60000, 784)\n",
    "x_test = x_test.reshape(10000, 784)\n",
    "x_train = x_train.astype('float32')\n",
    "x_test = x_test.astype('float32')\n",
    "x_train /= 255\n",
    "x_test /= 255\n",
    "print(x_train.shape[0], 'train samples')\n",
    "print(x_test.shape[0], 'test samples')"
   ]
  },
  {
   "cell_type": "code",
   "execution_count": 22,
   "metadata": {},
   "outputs": [],
   "source": [
    "x_train_noise = x_train + np.random.rand(*x_train.shape)\n",
    "x_test_noise = x_test + np.random.rand(*x_test.shape)"
   ]
  },
  {
   "cell_type": "code",
   "execution_count": 31,
   "metadata": {},
   "outputs": [
    {
     "data": {
      "text/plain": [
       "<matplotlib.image.AxesImage at 0x1bba19a44e0>"
      ]
     },
     "execution_count": 31,
     "metadata": {},
     "output_type": "execute_result"
    },
    {
     "data": {
      "image/png": "[encoded data removed]",
      "text/plain": [
       "<Figure size 432x288 with 1 Axes>"
      ]
     },
     "metadata": {},
     "output_type": "display_data"
    }
   ],
   "source": [
    "plt.imshow(x_test[0].reshape(28,28))"
   ]
  },
  {
   "cell_type": "code",
   "execution_count": 26,
   "metadata": {},
   "outputs": [
    {
     "data": {
      "text/plain": [
       "<matplotlib.image.AxesImage at 0x1bb91c3d9e8>"
      ]
     },
     "execution_count": 26,
     "metadata": {},
     "output_type": "execute_result"
    },
    {
     "data": {
      "image/png": "[encoded data removed]",
      "text/plain": [
       "<Figure size 432x288 with 1 Axes>"
      ]
     },
     "metadata": {},
     "output_type": "display_data"
    }
   ],
   "source": [
    "plt.imshow(x_test_noise[0].reshape(28,28))"
   ]
  },
  {
   "cell_type": "code",
   "execution_count": 9,
   "metadata": {},
   "outputs": [
    {
     "data": {
      "text/plain": [
       "<matplotlib.image.AxesImage at 0x27f0e0207f0>"
      ]
     },
     "execution_count": 9,
     "metadata": {},
     "output_type": "execute_result"
    },
    {
     "data": {
      "image/png": "[encoded data removed]",
      "text/plain": [
       "<Figure size 432x288 with 1 Axes>"
      ]
     },
     "metadata": {},
     "output_type": "display_data"
    }
   ],
   "source": [
    "plt.imshow(x_test[1].reshape(28,28))"
   ]
  },
  {
   "cell_type": "code",
   "execution_count": 10,
   "metadata": {},
   "outputs": [
    {
     "data": {
      "text/plain": [
       "<matplotlib.image.AxesImage at 0x27f0e07b160>"
      ]
     },
     "execution_count": 10,
     "metadata": {},
     "output_type": "execute_result"
    },
    {
     "data": {
      "image/png": "[encoded data removed]",
      "text/plain": [
       "<Figure size 432x288 with 1 Axes>"
      ]
     },
     "metadata": {},
     "output_type": "display_data"
    }
   ],
   "source": [
    "plt.imshow(x_test_noise[1].reshape(28,28))"
   ]
  },
  {
   "cell_type": "code",
   "execution_count": 11,
   "metadata": {},
   "outputs": [
    {
     "data": {
      "text/plain": [
       "<matplotlib.image.AxesImage at 0x27f0e0caa90>"
      ]
     },
     "execution_count": 11,
     "metadata": {},
     "output_type": "execute_result"
    },
    {
     "data": {
      "image/png": "[encoded data removed]",
      "text/plain": [
       "<Figure size 432x288 with 1 Axes>"
      ]
     },
     "metadata": {},
     "output_type": "display_data"
    }
   ],
   "source": [
    "plt.imshow(x_test[2].reshape(28,28))"
   ]
  },
  {
   "cell_type": "code",
   "execution_count": 12,
   "metadata": {},
   "outputs": [
    {
     "data": {
      "text/plain": [
       "<matplotlib.image.AxesImage at 0x27f0e127390>"
      ]
     },
     "execution_count": 12,
     "metadata": {},
     "output_type": "execute_result"
    },
    {
     "data": {
      "image/png": "[encoded data removed]",
      "text/plain": [
       "<Figure size 432x288 with 1 Axes>"
      ]
     },
     "metadata": {},
     "output_type": "display_data"
    }
   ],
   "source": [
    "plt.imshow(x_test_noise[2].reshape(28,28))"
   ]
  },
  {
   "cell_type": "code",
   "execution_count": 13,
   "metadata": {},
   "outputs": [
    {
     "data": {
      "text/plain": [
       "<matplotlib.image.AxesImage at 0x27f0e175c50>"
      ]
     },
     "execution_count": 13,
     "metadata": {},
     "output_type": "execute_result"
    },
    {
     "data": {
      "image/png": "[encoded data removed]",
      "text/plain": [
       "<Figure size 432x288 with 1 Axes>"
      ]
     },
     "metadata": {},
     "output_type": "display_data"
    }
   ],
   "source": [
    "plt.imshow(x_test[3].reshape(28,28))"
   ]
  },
  {
   "cell_type": "code",
   "execution_count": 14,
   "metadata": {},
   "outputs": [
    {
     "data": {
      "text/plain": [
       "<matplotlib.image.AxesImage at 0x27f0e1d1550>"
      ]
     },
     "execution_count": 14,
     "metadata": {},
     "output_type": "execute_result"
    },
    {
     "data": {
      "image/png": "[encoded data removed]",
      "text/plain": [
       "<Figure size 432x288 with 1 Axes>"
      ]
     },
     "metadata": {},
     "output_type": "display_data"
    }
   ],
   "source": [
    "plt.imshow(x_test_noise[3].reshape(28,28))"
   ]
  },
  {
   "cell_type": "code",
   "execution_count": 15,
   "metadata": {},
   "outputs": [
    {
     "data": {
      "text/plain": [
       "<matplotlib.image.AxesImage at 0x27f0e224e80>"
      ]
     },
     "execution_count": 15,
     "metadata": {},
     "output_type": "execute_result"
    },
    {
     "data": {
      "image/png": "[encoded data removed]",
      "text/plain": [
       "<Figure size 432x288 with 1 Axes>"
      ]
     },
     "metadata": {},
     "output_type": "display_data"
    }
   ],
   "source": [
    "plt.imshow(x_test[4].reshape(28,28))"
   ]
  },
  {
   "cell_type": "code",
   "execution_count": 16,
   "metadata": {},
   "outputs": [
    {
     "data": {
      "text/plain": [
       "<matplotlib.image.AxesImage at 0x27f0e280710>"
      ]
     },
     "execution_count": 16,
     "metadata": {},
     "output_type": "execute_result"
    },
    {
     "data": {
      "image/png": "[encoded data removed]",
      "text/plain": [
       "<Figure size 432x288 with 1 Axes>"
      ]
     },
     "metadata": {},
     "output_type": "display_data"
    }
   ],
   "source": [
    "plt.imshow(x_test_noise[4].reshape(28,28))"
   ]
  },
  {
   "cell_type": "code",
   "execution_count": 17,
   "metadata": {},
   "outputs": [
    {
     "data": {
      "text/plain": [
       "<matplotlib.image.AxesImage at 0x27f0e2cdfd0>"
      ]
     },
     "execution_count": 17,
     "metadata": {},
     "output_type": "execute_result"
    },
    {
     "data": {
      "image/png": "[encoded data removed]",
      "text/plain": [
       "<Figure size 432x288 with 1 Axes>"
      ]
     },
     "metadata": {},
     "output_type": "display_data"
    }
   ],
   "source": [
    "plt.imshow(x_test[5].reshape(28,28))"
   ]
  },
  {
   "cell_type": "code",
   "execution_count": 18,
   "metadata": {},
   "outputs": [
    {
     "data": {
      "text/plain": [
       "<matplotlib.image.AxesImage at 0x27f0e32c8d0>"
      ]
     },
     "execution_count": 18,
     "metadata": {},
     "output_type": "execute_result"
    },
    {
     "data": {
      "image/png": "[encoded data removed]",
      "text/plain": [
       "<Figure size 432x288 with 1 Axes>"
      ]
     },
     "metadata": {},
     "output_type": "display_data"
    }
   ],
   "source": [
    "plt.imshow(x_test_noise[5].reshape(28,28))"
   ]
  },
  {
   "cell_type": "code",
   "execution_count": 19,
   "metadata": {},
   "outputs": [
    {
     "data": {
      "text/plain": [
       "<matplotlib.image.AxesImage at 0x27f0e3851d0>"
      ]
     },
     "execution_count": 19,
     "metadata": {},
     "output_type": "execute_result"
    },
    {
     "data": {
      "image/png": "[encoded data removed]",
      "text/plain": [
       "<Figure size 432x288 with 1 Axes>"
      ]
     },
     "metadata": {},
     "output_type": "display_data"
    }
   ],
   "source": [
    "plt.imshow(x_test[6].reshape(28,28))"
   ]
  },
  {
   "cell_type": "code",
   "execution_count": 20,
   "metadata": {},
   "outputs": [
    {
     "data": {
      "text/plain": [
       "<matplotlib.image.AxesImage at 0x27f0e3d5a20>"
      ]
     },
     "execution_count": 20,
     "metadata": {},
     "output_type": "execute_result"
    },
    {
     "data": {
      "image/png": "[encoded data removed]",
      "text/plain": [
       "<Figure size 432x288 with 1 Axes>"
      ]
     },
     "metadata": {},
     "output_type": "display_data"
    }
   ],
   "source": [
    "plt.imshow(x_test_noise[6].reshape(28,28))"
   ]
  },
  {
   "cell_type": "code",
   "execution_count": 21,
   "metadata": {},
   "outputs": [
    {
     "data": {
      "text/plain": [
       "<matplotlib.image.AxesImage at 0x27f0e432320>"
      ]
     },
     "execution_count": 21,
     "metadata": {},
     "output_type": "execute_result"
    },
    {
     "data": {
      "image/png": "[encoded data removed]",
      "text/plain": [
       "<Figure size 432x288 with 1 Axes>"
      ]
     },
     "metadata": {},
     "output_type": "display_data"
    }
   ],
   "source": [
    "plt.imshow(x_test[7].reshape(28,28))"
   ]
  },
  {
   "cell_type": "code",
   "execution_count": 22,
   "metadata": {},
   "outputs": [
    {
     "data": {
      "text/plain": [
       "<matplotlib.image.AxesImage at 0x27f0e481c50>"
      ]
     },
     "execution_count": 22,
     "metadata": {},
     "output_type": "execute_result"
    },
    {
     "data": {
      "image/png": "[encoded data removed]",
      "text/plain": [
       "<Figure size 432x288 with 1 Axes>"
      ]
     },
     "metadata": {},
     "output_type": "display_data"
    }
   ],
   "source": [
    "plt.imshow(x_test_noise[7].reshape(28,28))"
   ]
  },
  {
   "cell_type": "code",
   "execution_count": 23,
   "metadata": {},
   "outputs": [
    {
     "data": {
      "text/plain": [
       "<matplotlib.image.AxesImage at 0x27f0e4df550>"
      ]
     },
     "execution_count": 23,
     "metadata": {},
     "output_type": "execute_result"
    },
    {
     "data": {
      "image/png": "[encoded data removed]",
      "text/plain": [
       "<Figure size 432x288 with 1 Axes>"
      ]
     },
     "metadata": {},
     "output_type": "display_data"
    }
   ],
   "source": [
    "plt.imshow(x_test[8].reshape(28,28))"
   ]
  },
  {
   "cell_type": "code",
   "execution_count": 24,
   "metadata": {},
   "outputs": [
    {
     "data": {
      "text/plain": [
       "<matplotlib.image.AxesImage at 0x27f0e530da0>"
      ]
     },
     "execution_count": 24,
     "metadata": {},
     "output_type": "execute_result"
    },
    {
     "data": {
      "image/png": "[encoded data removed]",
      "text/plain": [
       "<Figure size 432x288 with 1 Axes>"
      ]
     },
     "metadata": {},
     "output_type": "display_data"
    }
   ],
   "source": [
    "plt.imshow(x_test_noise[8].reshape(28,28))"
   ]
  },
  {
   "cell_type": "code",
   "execution_count": 25,
   "metadata": {},
   "outputs": [
    {
     "data": {
      "text/plain": [
       "<matplotlib.image.AxesImage at 0x27f0e58c710>"
      ]
     },
     "execution_count": 25,
     "metadata": {},
     "output_type": "execute_result"
    },
    {
     "data": {
      "image/png": "[encoded data removed]",
      "text/plain": [
       "<Figure size 432x288 with 1 Axes>"
      ]
     },
     "metadata": {},
     "output_type": "display_data"
    }
   ],
   "source": [
    "plt.imshow(x_test[9].reshape(28,28))"
   ]
  },
  {
   "cell_type": "code",
   "execution_count": 26,
   "metadata": {},
   "outputs": [
    {
     "data": {
      "text/plain": [
       "<matplotlib.image.AxesImage at 0x27f0e5dff98>"
      ]
     },
     "execution_count": 26,
     "metadata": {},
     "output_type": "execute_result"
    },
    {
     "data": {
      "image/png": "[encoded data removed]",
      "text/plain": [
       "<Figure size 432x288 with 1 Axes>"
      ]
     },
     "metadata": {},
     "output_type": "display_data"
    }
   ],
   "source": [
    "plt.imshow(x_test_noise[9].reshape(28,28))"
   ]
  },
  {
   "cell_type": "markdown",
   "metadata": {},
   "source": [
    "#### Conv Net"
   ]
  },
  {
   "cell_type": "code",
   "execution_count": 27,
   "metadata": {
    "scrolled": true
   },
   "outputs": [
    {
     "name": "stdout",
     "output_type": "stream",
     "text": [
      "x_train shape: (60000, 28, 28, 1)\n",
      "60000 train samples\n",
      "10000 test samples\n"
     ]
    }
   ],
   "source": [
    "# input image dimensions\n",
    "img_rows, img_cols = 28, 28\n",
    "\n",
    "# the data, shuffled and split between train and test sets\n",
    "(x_train, y_train), (x_test, y_test) = mnist.load_data()\n",
    "\n",
    "if backend.image_data_format() == 'channels_first':\n",
    "    x_train = x_train.reshape(x_train.shape[0], 1, img_rows, img_cols)\n",
    "    x_test = x_test.reshape(x_test.shape[0], 1, img_rows, img_cols)\n",
    "    input_shape = (1, img_rows, img_cols)\n",
    "else:\n",
    "    x_train = x_train.reshape(x_train.shape[0], img_rows, img_cols, 1)\n",
    "    x_test = x_test.reshape(x_test.shape[0], img_rows, img_cols, 1)\n",
    "    input_shape = (img_rows, img_cols, 1)\n",
    "\n",
    "x_train = x_train.astype('float32')\n",
    "x_test = x_test.astype('float32')\n",
    "x_train /= 255\n",
    "x_test /= 255\n",
    "print('x_train shape:', x_train.shape)\n",
    "print(x_train.shape[0], 'train samples')\n",
    "print(x_test.shape[0], 'test samples')"
   ]
  },
  {
   "cell_type": "code",
   "execution_count": 20,
   "metadata": {},
   "outputs": [],
   "source": [
    "x_train_noise = x_train + np.random.rand(*x_train.shape)\n",
    "x_test_noise = x_test + np.random.rand(*x_test.shape)"
   ]
  },
  {
   "cell_type": "code",
   "execution_count": 57,
   "metadata": {},
   "outputs": [
    {
     "data": {
      "text/plain": [
       "<matplotlib.image.AxesImage at 0x27f0ee47be0>"
      ]
     },
     "execution_count": 57,
     "metadata": {},
     "output_type": "execute_result"
    },
    {
     "data": {
      "image/png": "[encoded data removed]",
      "text/plain": [
       "<Figure size 432x288 with 1 Axes>"
      ]
     },
     "metadata": {},
     "output_type": "display_data"
    }
   ],
   "source": [
    "plt.imshow(x_test[0].reshape(28,28))"
   ]
  },
  {
   "cell_type": "code",
   "execution_count": 58,
   "metadata": {},
   "outputs": [
    {
     "data": {
      "text/plain": [
       "<matplotlib.image.AxesImage at 0x27f0eea15f8>"
      ]
     },
     "execution_count": 58,
     "metadata": {},
     "output_type": "execute_result"
    },
    {
     "data": {
      "image/png": "[encoded data removed]",
      "text/plain": [
       "<Figure size 432x288 with 1 Axes>"
      ]
     },
     "metadata": {},
     "output_type": "display_data"
    }
   ],
   "source": [
    "plt.imshow(x_test_noise[0].reshape(28,28))"
   ]
  },
  {
   "cell_type": "code",
   "execution_count": 59,
   "metadata": {},
   "outputs": [
    {
     "data": {
      "text/plain": [
       "<matplotlib.image.AxesImage at 0x27f0eef4eb8>"
      ]
     },
     "execution_count": 59,
     "metadata": {},
     "output_type": "execute_result"
    },
    {
     "data": {
      "image/png": "[encoded data removed]",
      "text/plain": [
       "<Figure size 432x288 with 1 Axes>"
      ]
     },
     "metadata": {},
     "output_type": "display_data"
    }
   ],
   "source": [
    "plt.imshow(x_test[1].reshape(28,28))"
   ]
  },
  {
   "cell_type": "code",
   "execution_count": 60,
   "metadata": {},
   "outputs": [
    {
     "data": {
      "text/plain": [
       "<matplotlib.image.AxesImage at 0x27f19b3f7b8>"
      ]
     },
     "execution_count": 60,
     "metadata": {},
     "output_type": "execute_result"
    },
    {
     "data": {
      "image/png": "[encoded data removed]",
      "text/plain": [
       "<Figure size 432x288 with 1 Axes>"
      ]
     },
     "metadata": {},
     "output_type": "display_data"
    }
   ],
   "source": [
    "plt.imshow(x_test_noise[1].reshape(28,28))"
   ]
  },
  {
   "cell_type": "code",
   "execution_count": 61,
   "metadata": {},
   "outputs": [
    {
     "data": {
      "text/plain": [
       "<matplotlib.image.AxesImage at 0x27f19b9a128>"
      ]
     },
     "execution_count": 61,
     "metadata": {},
     "output_type": "execute_result"
    },
    {
     "data": {
      "image/png": "[encoded data removed]",
      "text/plain": [
       "<Figure size 432x288 with 1 Axes>"
      ]
     },
     "metadata": {},
     "output_type": "display_data"
    }
   ],
   "source": [
    "plt.imshow(x_test[2].reshape(28,28))"
   ]
  },
  {
   "cell_type": "code",
   "execution_count": 62,
   "metadata": {},
   "outputs": [
    {
     "data": {
      "text/plain": [
       "<matplotlib.image.AxesImage at 0x27f19beb9e8>"
      ]
     },
     "execution_count": 62,
     "metadata": {},
     "output_type": "execute_result"
    },
    {
     "data": {
      "image/png": "[encoded data removed]",
      "text/plain": [
       "<Figure size 432x288 with 1 Axes>"
      ]
     },
     "metadata": {},
     "output_type": "display_data"
    }
   ],
   "source": [
    "plt.imshow(x_test_noise[2].reshape(28,28))"
   ]
  },
  {
   "cell_type": "code",
   "execution_count": 63,
   "metadata": {},
   "outputs": [
    {
     "data": {
      "text/plain": [
       "<matplotlib.image.AxesImage at 0x27f19c462e8>"
      ]
     },
     "execution_count": 63,
     "metadata": {},
     "output_type": "execute_result"
    },
    {
     "data": {
      "image/png": "[encoded data removed]",
      "text/plain": [
       "<Figure size 432x288 with 1 Axes>"
      ]
     },
     "metadata": {},
     "output_type": "display_data"
    }
   ],
   "source": [
    "plt.imshow(x_test[3].reshape(28,28))"
   ]
  },
  {
   "cell_type": "code",
   "execution_count": 64,
   "metadata": {},
   "outputs": [
    {
     "data": {
      "text/plain": [
       "<matplotlib.image.AxesImage at 0x27f19c95ba8>"
      ]
     },
     "execution_count": 64,
     "metadata": {},
     "output_type": "execute_result"
    },
    {
     "data": {
      "image/png": "[encoded data removed]",
      "text/plain": [
       "<Figure size 432x288 with 1 Axes>"
      ]
     },
     "metadata": {},
     "output_type": "display_data"
    }
   ],
   "source": [
    "plt.imshow(x_test_noise[3].reshape(28,28))"
   ]
  },
  {
   "cell_type": "code",
   "execution_count": 65,
   "metadata": {},
   "outputs": [
    {
     "data": {
      "text/plain": [
       "<matplotlib.image.AxesImage at 0x27f19cef4a8>"
      ]
     },
     "execution_count": 65,
     "metadata": {},
     "output_type": "execute_result"
    },
    {
     "data": {
      "image/png": "[encoded data removed]",
      "text/plain": [
       "<Figure size 432x288 with 1 Axes>"
      ]
     },
     "metadata": {},
     "output_type": "display_data"
    }
   ],
   "source": [
    "plt.imshow(x_test[4].reshape(28,28))"
   ]
  },
  {
   "cell_type": "code",
   "execution_count": 66,
   "metadata": {},
   "outputs": [
    {
     "data": {
      "text/plain": [
       "<matplotlib.image.AxesImage at 0x27f0ed2d908>"
      ]
     },
     "execution_count": 66,
     "metadata": {},
     "output_type": "execute_result"
    },
    {
     "data": {
      "image/png": "[encoded data removed]",
      "text/plain": [
       "<Figure size 432x288 with 1 Axes>"
      ]
     },
     "metadata": {},
     "output_type": "display_data"
    }
   ],
   "source": [
    "plt.imshow(x_test_noise[4].reshape(28,28))"
   ]
  },
  {
   "cell_type": "code",
   "execution_count": 67,
   "metadata": {},
   "outputs": [
    {
     "data": {
      "text/plain": [
       "<matplotlib.image.AxesImage at 0x27f19d608d0>"
      ]
     },
     "execution_count": 67,
     "metadata": {},
     "output_type": "execute_result"
    },
    {
     "data": {
      "image/png": "[encoded data removed]",
      "text/plain": [
       "<Figure size 432x288 with 1 Axes>"
      ]
     },
     "metadata": {},
     "output_type": "display_data"
    }
   ],
   "source": [
    "plt.imshow(x_test[5].reshape(28,28))"
   ]
  },
  {
   "cell_type": "code",
   "execution_count": 68,
   "metadata": {},
   "outputs": [
    {
     "data": {
      "text/plain": [
       "<matplotlib.image.AxesImage at 0x27f19db6898>"
      ]
     },
     "execution_count": 68,
     "metadata": {},
     "output_type": "execute_result"
    },
    {
     "data": {
      "image/png": "[encoded data removed]",
      "text/plain": [
       "<Figure size 432x288 with 1 Axes>"
      ]
     },
     "metadata": {},
     "output_type": "display_data"
    }
   ],
   "source": [
    "plt.imshow(x_test_noise[5].reshape(28,28))"
   ]
  },
  {
   "cell_type": "code",
   "execution_count": 69,
   "metadata": {},
   "outputs": [
    {
     "data": {
      "text/plain": [
       "<matplotlib.image.AxesImage at 0x27f19e0e860>"
      ]
     },
     "execution_count": 69,
     "metadata": {},
     "output_type": "execute_result"
    },
    {
     "data": {
      "image/png": "[encoded data removed]",
      "text/plain": [
       "<Figure size 432x288 with 1 Axes>"
      ]
     },
     "metadata": {},
     "output_type": "display_data"
    }
   ],
   "source": [
    "plt.imshow(x_test[6].reshape(28,28))"
   ]
  },
  {
   "cell_type": "code",
   "execution_count": 70,
   "metadata": {},
   "outputs": [
    {
     "data": {
      "text/plain": [
       "<matplotlib.image.AxesImage at 0x27f19e667b8>"
      ]
     },
     "execution_count": 70,
     "metadata": {},
     "output_type": "execute_result"
    },
    {
     "data": {
      "image/png": "[encoded data removed]",
      "text/plain": [
       "<Figure size 432x288 with 1 Axes>"
      ]
     },
     "metadata": {},
     "output_type": "display_data"
    }
   ],
   "source": [
    "plt.imshow(x_test_noise[6].reshape(28,28))"
   ]
  },
  {
   "cell_type": "code",
   "execution_count": 71,
   "metadata": {},
   "outputs": [
    {
     "data": {
      "text/plain": [
       "<matplotlib.image.AxesImage at 0x27f19ebe860>"
      ]
     },
     "execution_count": 71,
     "metadata": {},
     "output_type": "execute_result"
    },
    {
     "data": {
      "image/png": "[encoded data removed]",
      "text/plain": [
       "<Figure size 432x288 with 1 Axes>"
      ]
     },
     "metadata": {},
     "output_type": "display_data"
    }
   ],
   "source": [
    "plt.imshow(x_test[7].reshape(28,28))"
   ]
  },
  {
   "cell_type": "code",
   "execution_count": 72,
   "metadata": {},
   "outputs": [
    {
     "data": {
      "text/plain": [
       "<matplotlib.image.AxesImage at 0x27f19f17748>"
      ]
     },
     "execution_count": 72,
     "metadata": {},
     "output_type": "execute_result"
    },
    {
     "data": {
      "image/png": "[encoded data removed]",
      "text/plain": [
       "<Figure size 432x288 with 1 Axes>"
      ]
     },
     "metadata": {},
     "output_type": "display_data"
    }
   ],
   "source": [
    "plt.imshow(x_test_noise[7].reshape(28,28))"
   ]
  },
  {
   "cell_type": "code",
   "execution_count": 73,
   "metadata": {},
   "outputs": [
    {
     "data": {
      "text/plain": [
       "<matplotlib.image.AxesImage at 0x27f19f6d780>"
      ]
     },
     "execution_count": 73,
     "metadata": {},
     "output_type": "execute_result"
    },
    {
     "data": {
      "image/png": "[encoded data removed]",
      "text/plain": [
       "<Figure size 432x288 with 1 Axes>"
      ]
     },
     "metadata": {},
     "output_type": "display_data"
    }
   ],
   "source": [
    "plt.imshow(x_test[8].reshape(28,28))"
   ]
  },
  {
   "cell_type": "code",
   "execution_count": 74,
   "metadata": {},
   "outputs": [
    {
     "data": {
      "text/plain": [
       "<matplotlib.image.AxesImage at 0x27f19fc7748>"
      ]
     },
     "execution_count": 74,
     "metadata": {},
     "output_type": "execute_result"
    },
    {
     "data": {
      "image/png": "[encoded data removed]",
      "text/plain": [
       "<Figure size 432x288 with 1 Axes>"
      ]
     },
     "metadata": {},
     "output_type": "display_data"
    }
   ],
   "source": [
    "plt.imshow(x_test_noise[8].reshape(28,28))"
   ]
  },
  {
   "cell_type": "code",
   "execution_count": 75,
   "metadata": {},
   "outputs": [
    {
     "data": {
      "text/plain": [
       "<matplotlib.image.AxesImage at 0x27f1a021710>"
      ]
     },
     "execution_count": 75,
     "metadata": {},
     "output_type": "execute_result"
    },
    {
     "data": {
      "image/png": "[encoded data removed]",
      "text/plain": [
       "<Figure size 432x288 with 1 Axes>"
      ]
     },
     "metadata": {},
     "output_type": "display_data"
    }
   ],
   "source": [
    "plt.imshow(x_test[9].reshape(28,28))"
   ]
  },
  {
   "cell_type": "code",
   "execution_count": 76,
   "metadata": {},
   "outputs": [
    {
     "data": {
      "text/plain": [
       "<matplotlib.image.AxesImage at 0x27f1a076668>"
      ]
     },
     "execution_count": 76,
     "metadata": {},
     "output_type": "execute_result"
    },
    {
     "data": {
      "image/png": "[encoded data removed]",
      "text/plain": [
       "<Figure size 432x288 with 1 Axes>"
      ]
     },
     "metadata": {},
     "output_type": "display_data"
    }
   ],
   "source": [
    "plt.imshow(x_test_noise[9].reshape(28,28))"
   ]
  },
  {
   "cell_type": "markdown",
   "metadata": {},
   "source": [
    "#### 2. Compare the loss/accuracy (train, val) after N epochs for both MLNN and ConvNet with and without noise. "
   ]
  },
  {
   "cell_type": "markdown",
   "metadata": {},
   "source": [
    "##### (i) MLNN without noise"
   ]
  },
  {
   "cell_type": "code",
   "execution_count": 5,
   "metadata": {},
   "outputs": [
    {
     "name": "stdout",
     "output_type": "stream",
     "text": [
      "_________________________________________________________________\n",
      "Layer (type)                 Output Shape              Param #   \n",
      "=================================================================\n",
      "dense_1 (Dense)              (None, 512)               401920    \n",
      "_________________________________________________________________\n",
      "dropout_1 (Dropout)          (None, 512)               0         \n",
      "_________________________________________________________________\n",
      "dense_2 (Dense)              (None, 512)               262656    \n",
      "_________________________________________________________________\n",
      "dropout_2 (Dropout)          (None, 512)               0         \n",
      "_________________________________________________________________\n",
      "dense_3 (Dense)              (None, 10)                5130      \n",
      "=================================================================\n",
      "Total params: 669,706\n",
      "Trainable params: 669,706\n",
      "Non-trainable params: 0\n",
      "_________________________________________________________________\n",
      "Train on 60000 samples, validate on 10000 samples\n",
      "Epoch 1/20\n",
      "60000/60000 [==============================] - 15s 245us/step - loss: 0.2481 - acc: 0.9245 - val_loss: 0.0981 - val_acc: 0.9685\n",
      "Epoch 2/20\n",
      "60000/60000 [==============================] - 16s 259us/step - loss: 0.1018 - acc: 0.9691 - val_loss: 0.0794 - val_acc: 0.9766\n",
      "Epoch 3/20\n",
      "60000/60000 [==============================] - 13s 221us/step - loss: 0.0749 - acc: 0.9784 - val_loss: 0.0758 - val_acc: 0.9783\n",
      "Epoch 4/20\n",
      "60000/60000 [==============================] - 13s 225us/step - loss: 0.0599 - acc: 0.9817 - val_loss: 0.0836 - val_acc: 0.9775\n",
      "Epoch 5/20\n",
      "60000/60000 [==============================] - 14s 225us/step - loss: 0.0485 - acc: 0.9852 - val_loss: 0.0661 - val_acc: 0.9822\n",
      "Epoch 6/20\n",
      "60000/60000 [==============================] - 12s 202us/step - loss: 0.0437 - acc: 0.9871 - val_loss: 0.0719 - val_acc: 0.9830\n",
      "Epoch 7/20\n",
      "60000/60000 [==============================] - 12s 208us/step - loss: 0.0382 - acc: 0.9885 - val_loss: 0.0741 - val_acc: 0.9828\n",
      "Epoch 8/20\n",
      "60000/60000 [==============================] - 12s 207us/step - loss: 0.0328 - acc: 0.9903 - val_loss: 0.0758 - val_acc: 0.9825\n",
      "Epoch 9/20\n",
      "60000/60000 [==============================] - 12s 208us/step - loss: 0.0292 - acc: 0.9916 - val_loss: 0.0802 - val_acc: 0.9829\n",
      "Epoch 10/20\n",
      "60000/60000 [==============================] - 12s 205us/step - loss: 0.0286 - acc: 0.9917 - val_loss: 0.0893 - val_acc: 0.9825\n",
      "Epoch 11/20\n",
      "60000/60000 [==============================] - 12s 206us/step - loss: 0.0258 - acc: 0.9923 - val_loss: 0.0950 - val_acc: 0.9822\n",
      "Epoch 12/20\n",
      "60000/60000 [==============================] - 12s 201us/step - loss: 0.0263 - acc: 0.9925 - val_loss: 0.0854 - val_acc: 0.9830\n",
      "Epoch 13/20\n",
      "60000/60000 [==============================] - 12s 201us/step - loss: 0.0222 - acc: 0.9938 - val_loss: 0.1011 - val_acc: 0.9820\n",
      "Epoch 14/20\n",
      "60000/60000 [==============================] - 13s 216us/step - loss: 0.0216 - acc: 0.9942 - val_loss: 0.1027 - val_acc: 0.9825\n",
      "Epoch 15/20\n",
      "60000/60000 [==============================] - 13s 223us/step - loss: 0.0225 - acc: 0.9940 - val_loss: 0.1062 - val_acc: 0.9818\n",
      "Epoch 16/20\n",
      "60000/60000 [==============================] - 14s 237us/step - loss: 0.0196 - acc: 0.9946 - val_loss: 0.0989 - val_acc: 0.9834\n",
      "Epoch 17/20\n",
      "60000/60000 [==============================] - 15s 249us/step - loss: 0.0183 - acc: 0.9950 - val_loss: 0.0999 - val_acc: 0.9836\n",
      "Epoch 18/20\n",
      "60000/60000 [==============================] - 14s 232us/step - loss: 0.0203 - acc: 0.9946 - val_loss: 0.0959 - val_acc: 0.9861\n",
      "Epoch 19/20\n",
      "60000/60000 [==============================] - 12s 206us/step - loss: 0.0170 - acc: 0.9954 - val_loss: 0.1034 - val_acc: 0.9852\n",
      "Epoch 20/20\n",
      "60000/60000 [==============================] - 13s 209us/step - loss: 0.0179 - acc: 0.9954 - val_loss: 0.1232 - val_acc: 0.9814\n",
      "Test loss: 0.12316138558134081\n",
      "Test accuracy: 0.9814\n"
     ]
    }
   ],
   "source": [
    "batch_size = 128\n",
    "num_classes = 10\n",
    "epochs = 20\n",
    "\n",
    "\n",
    "# convert class vectors to binary class matrices\n",
    "y_train = keras.utils.to_categorical(y_train, num_classes)\n",
    "y_test = keras.utils.to_categorical(y_test, num_classes)\n",
    "\n",
    "model1 = Sequential()\n",
    "model1.add(Dense(512, activation='relu', input_shape=(784,)))\n",
    "model1.add(Dropout(0.2))\n",
    "model1.add(Dense(512, activation='relu'))\n",
    "model1.add(Dropout(0.2))\n",
    "model1.add(Dense(10, activation='softmax'))\n",
    "\n",
    "model1.summary()\n",
    "\n",
    "model1.compile(loss='categorical_crossentropy', optimizer=RMSprop(), metrics=['accuracy'])\n",
    "\n",
    "history = model1.fit(x_train, y_train, batch_size=batch_size, epochs=epochs, verbose=1, \n",
    "                     validation_data=(x_test, y_test))\n",
    "\n",
    "score_1 = model1.evaluate(x_test, y_test, verbose=0)\n",
    "\n",
    "print('Test loss:', score_1[0])\n",
    "print('Test accuracy:', score_1[1])"
   ]
  },
  {
   "cell_type": "code",
   "execution_count": 28,
   "metadata": {},
   "outputs": [
    {
     "data": {
      "text/plain": [
       "(array([[7.3683246e-34, 3.0756511e-29, 8.6811778e-27, 3.9515359e-21,\n",
       "         8.2956772e-29, 8.6004934e-33, 0.0000000e+00, 1.0000000e+00,\n",
       "         9.9805308e-30, 5.2909986e-17]], dtype=float32),\n",
       " array([[0., 0., 0., 0., 0., 0., 0., 1., 0., 0.]], dtype=float32))"
      ]
     },
     "execution_count": 28,
     "metadata": {},
     "output_type": "execute_result"
    }
   ],
   "source": [
    "model1.predict(x_test[0:1]), y_test[:1]"
   ]
  },
  {
   "cell_type": "code",
   "execution_count": 29,
   "metadata": {},
   "outputs": [
    {
     "data": {
      "text/plain": [
       "(array([7], dtype=int64),\n",
       " array([[0., 0., 0., 0., 0., 0., 0., 1., 0., 0.]], dtype=float32))"
      ]
     },
     "execution_count": 29,
     "metadata": {},
     "output_type": "execute_result"
    }
   ],
   "source": [
    "model1.predict_classes(x_test[0:1]), y_test[:1]"
   ]
  },
  {
   "cell_type": "markdown",
   "metadata": {},
   "source": [
    "##### (ii) MLNN with noise"
   ]
  },
  {
   "cell_type": "code",
   "execution_count": 6,
   "metadata": {},
   "outputs": [
    {
     "name": "stdout",
     "output_type": "stream",
     "text": [
      "_________________________________________________________________\n",
      "Layer (type)                 Output Shape              Param #   \n",
      "=================================================================\n",
      "dense_4 (Dense)              (None, 512)               401920    \n",
      "_________________________________________________________________\n",
      "dropout_3 (Dropout)          (None, 512)               0         \n",
      "_________________________________________________________________\n",
      "dense_5 (Dense)              (None, 512)               262656    \n",
      "_________________________________________________________________\n",
      "dropout_4 (Dropout)          (None, 512)               0         \n",
      "_________________________________________________________________\n",
      "dense_6 (Dense)              (None, 10)                5130      \n",
      "=================================================================\n",
      "Total params: 669,706\n",
      "Trainable params: 669,706\n",
      "Non-trainable params: 0\n",
      "_________________________________________________________________\n",
      "Train on 60000 samples, validate on 10000 samples\n",
      "Epoch 1/20\n",
      "60000/60000 [==============================] - 14s 226us/step - loss: 0.8641 - acc: 0.7140 - val_loss: 0.4195 - val_acc: 0.8684\n",
      "Epoch 2/20\n",
      "60000/60000 [==============================] - 13s 212us/step - loss: 0.4138 - acc: 0.8670 - val_loss: 0.2858 - val_acc: 0.9085\n",
      "Epoch 3/20\n",
      "60000/60000 [==============================] - 13s 220us/step - loss: 0.3051 - acc: 0.9023 - val_loss: 0.3616 - val_acc: 0.8890\n",
      "Epoch 4/20\n",
      "60000/60000 [==============================] - 13s 213us/step - loss: 0.2520 - acc: 0.9202 - val_loss: 0.1906 - val_acc: 0.9402\n",
      "Epoch 5/20\n",
      "60000/60000 [==============================] - 15s 247us/step - loss: 0.2179 - acc: 0.9317 - val_loss: 0.1781 - val_acc: 0.9436\n",
      "Epoch 6/20\n",
      "60000/60000 [==============================] - 13s 224us/step - loss: 0.1960 - acc: 0.9394 - val_loss: 0.1954 - val_acc: 0.9436\n",
      "Epoch 7/20\n",
      "60000/60000 [==============================] - 13s 214us/step - loss: 0.1795 - acc: 0.9421 - val_loss: 0.1818 - val_acc: 0.9460\n",
      "Epoch 8/20\n",
      "60000/60000 [==============================] - 13s 211us/step - loss: 0.1622 - acc: 0.9486 - val_loss: 0.1614 - val_acc: 0.9503\n",
      "Epoch 9/20\n",
      "60000/60000 [==============================] - 13s 210us/step - loss: 0.1527 - acc: 0.9532 - val_loss: 0.1772 - val_acc: 0.9469\n",
      "Epoch 10/20\n",
      "60000/60000 [==============================] - 13s 212us/step - loss: 0.1440 - acc: 0.9549 - val_loss: 0.1595 - val_acc: 0.9506\n",
      "Epoch 11/20\n",
      "60000/60000 [==============================] - 13s 211us/step - loss: 0.1360 - acc: 0.9586 - val_loss: 0.1817 - val_acc: 0.9520\n",
      "Epoch 12/20\n",
      "60000/60000 [==============================] - 12s 203us/step - loss: 0.1339 - acc: 0.9597 - val_loss: 0.1679 - val_acc: 0.9510\n",
      "Epoch 13/20\n",
      "60000/60000 [==============================] - 16s 265us/step - loss: 0.1275 - acc: 0.9604 - val_loss: 0.2004 - val_acc: 0.9513\n",
      "Epoch 14/20\n",
      "60000/60000 [==============================] - 15s 249us/step - loss: 0.1222 - acc: 0.9633 - val_loss: 0.1999 - val_acc: 0.9455\n",
      "Epoch 15/20\n",
      "60000/60000 [==============================] - 12s 202us/step - loss: 0.1175 - acc: 0.9650 - val_loss: 0.1890 - val_acc: 0.9536\n",
      "Epoch 16/20\n",
      "60000/60000 [==============================] - 13s 223us/step - loss: 0.1155 - acc: 0.9658 - val_loss: 0.2069 - val_acc: 0.9522\n",
      "Epoch 17/20\n",
      "60000/60000 [==============================] - 14s 234us/step - loss: 0.1097 - acc: 0.9670 - val_loss: 0.2491 - val_acc: 0.9480\n",
      "Epoch 18/20\n",
      "60000/60000 [==============================] - 13s 215us/step - loss: 0.1121 - acc: 0.9671 - val_loss: 0.2474 - val_acc: 0.9480\n",
      "Epoch 19/20\n",
      "60000/60000 [==============================] - 13s 211us/step - loss: 0.1089 - acc: 0.9686 - val_loss: 0.2167 - val_acc: 0.9547\n",
      "Epoch 20/20\n",
      "60000/60000 [==============================] - 12s 204us/step - loss: 0.1096 - acc: 0.9680 - val_loss: 0.2201 - val_acc: 0.9523\n",
      "Test loss: 0.2201083564970945\n",
      "Test accuracy: 0.9523\n"
     ]
    }
   ],
   "source": [
    "batch_size = 128\n",
    "num_classes = 10\n",
    "epochs = 20\n",
    "\n",
    "\n",
    "# convert class vectors to binary class matrices\n",
    "#y_train = keras.utils.to_categorical(y_train, num_classes)\n",
    "#y_test = keras.utils.to_categorical(y_test, num_classes)\n",
    "\n",
    "model_n1 = Sequential()\n",
    "model_n1.add(Dense(512, activation='relu', input_shape=(784,)))\n",
    "model_n1.add(Dropout(0.2))\n",
    "model_n1.add(Dense(512, activation='relu'))\n",
    "model_n1.add(Dropout(0.2))\n",
    "model_n1.add(Dense(10, activation='softmax'))\n",
    "\n",
    "model_n1.summary()\n",
    "\n",
    "model_n1.compile(loss='categorical_crossentropy', optimizer=RMSprop(), metrics=['accuracy'])\n",
    "\n",
    "model_n1.fit(x_train_noise, y_train, batch_size=batch_size, epochs=epochs, verbose=1, \n",
    "             validation_data=(x_test_noise, y_test))\n",
    "\n",
    "score_n1 = model_n1.evaluate(x_test_noise, y_test, verbose=0)\n",
    "\n",
    "print('Test loss:', score_n1[0])\n",
    "print('Test accuracy:', score_n1[1])"
   ]
  },
  {
   "cell_type": "code",
   "execution_count": 30,
   "metadata": {},
   "outputs": [
    {
     "data": {
      "text/plain": [
       "(array([[1.01362297e-22, 4.87903243e-20, 2.07653881e-13, 1.77301507e-11,\n",
       "         4.21808556e-21, 6.65219612e-15, 5.34679024e-34, 1.00000000e+00,\n",
       "         7.22950272e-19, 4.51763488e-10]], dtype=float32),\n",
       " array([[0., 0., 0., 0., 0., 0., 0., 1., 0., 0.]], dtype=float32))"
      ]
     },
     "execution_count": 30,
     "metadata": {},
     "output_type": "execute_result"
    }
   ],
   "source": [
    "model_n1.predict(x_test_noise[0:1]), y_test[:1]"
   ]
  },
  {
   "cell_type": "code",
   "execution_count": 31,
   "metadata": {},
   "outputs": [
    {
     "data": {
      "text/plain": [
       "(array([7], dtype=int64),\n",
       " array([[0., 0., 0., 0., 0., 0., 0., 1., 0., 0.]], dtype=float32))"
      ]
     },
     "execution_count": 31,
     "metadata": {},
     "output_type": "execute_result"
    }
   ],
   "source": [
    "model_n1.predict_classes(x_test_noise[0:1]), y_test[:1]"
   ]
  },
  {
   "cell_type": "code",
   "execution_count": 46,
   "metadata": {},
   "outputs": [
    {
     "name": "stdout",
     "output_type": "stream",
     "text": [
      "MLNN without noise: Test loss =  0.12316138558134081 , Test accuracy =  0.9814\n",
      "MLNN with noise: Test loss =  0.2201083564970945 , Test accuracy =  0.9523\n"
     ]
    }
   ],
   "source": [
    "print('MLNN without noise:', 'Test loss = ', score_1[0], ',', 'Test accuracy = ', score_1[1])\n",
    "print('MLNN with noise:', 'Test loss = ', score_n1[0], ',', 'Test accuracy = ', score_n1[1])"
   ]
  },
  {
   "cell_type": "markdown",
   "metadata": {},
   "source": [
    "After 20 epochs, we can see that the model without noise has 98.14% of test accuracy and 12.31% of test loss. On the other hand, the model with noise has 95.23% of test accuracy and 22.01% of test loss."
   ]
  },
  {
   "cell_type": "markdown",
   "metadata": {},
   "source": [
    "##### (iii) Conv Net without noise"
   ]
  },
  {
   "cell_type": "code",
   "execution_count": 29,
   "metadata": {},
   "outputs": [
    {
     "name": "stdout",
     "output_type": "stream",
     "text": [
      "Train on 60000 samples, validate on 10000 samples\n",
      "Epoch 1/10\n",
      "60000/60000 [==============================] - 201s 3ms/step - loss: 0.2640 - acc: 0.9210 - val_loss: 0.0557 - val_acc: 0.9820\n",
      "Epoch 2/10\n",
      "60000/60000 [==============================] - 200s 3ms/step - loss: 0.0877 - acc: 0.9737 - val_loss: 0.0441 - val_acc: 0.9848\n",
      "Epoch 3/10\n",
      "60000/60000 [==============================] - 200s 3ms/step - loss: 0.0680 - acc: 0.9797 - val_loss: 0.0356 - val_acc: 0.9877\n",
      "Epoch 4/10\n",
      "60000/60000 [==============================] - 201s 3ms/step - loss: 0.0548 - acc: 0.9841 - val_loss: 0.0346 - val_acc: 0.9882\n",
      "Epoch 5/10\n",
      "60000/60000 [==============================] - 202s 3ms/step - loss: 0.0481 - acc: 0.9852 - val_loss: 0.0333 - val_acc: 0.9887\n",
      "Epoch 6/10\n",
      "60000/60000 [==============================] - 202s 3ms/step - loss: 0.0403 - acc: 0.9876 - val_loss: 0.0325 - val_acc: 0.9889\n",
      "Epoch 7/10\n",
      "60000/60000 [==============================] - 201s 3ms/step - loss: 0.0384 - acc: 0.9885 - val_loss: 0.0268 - val_acc: 0.9911\n",
      "Epoch 8/10\n",
      "60000/60000 [==============================] - 201s 3ms/step - loss: 0.0353 - acc: 0.9892 - val_loss: 0.0269 - val_acc: 0.9913\n",
      "Epoch 9/10\n",
      "60000/60000 [==============================] - 203s 3ms/step - loss: 0.0322 - acc: 0.9904 - val_loss: 0.0278 - val_acc: 0.9917\n",
      "Epoch 10/10\n",
      "60000/60000 [==============================] - 211s 4ms/step - loss: 0.0286 - acc: 0.9909 - val_loss: 0.0274 - val_acc: 0.9913\n",
      "Test loss: 0.027436911533749206\n",
      "Test accuracy: 0.9913\n"
     ]
    }
   ],
   "source": [
    "batch_size = 128\n",
    "num_classes = 10\n",
    "epochs = 10\n",
    "\n",
    "# convert class vectors to binary class matrices\n",
    "y_train = keras.utils.to_categorical(y_train, num_classes)\n",
    "y_test = keras.utils.to_categorical(y_test, num_classes)\n",
    "\n",
    "model2 = Sequential()\n",
    "model2.add(Conv2D(32, kernel_size=(3, 3), activation='relu', input_shape=input_shape))\n",
    "model2.add(Conv2D(64, (3, 3), activation='relu'))\n",
    "model2.add(MaxPooling2D(pool_size=(2, 2)))\n",
    "model2.add(Dropout(0.25))\n",
    "model2.add(Flatten())\n",
    "model2.add(Dense(128, activation='relu'))\n",
    "model2.add(Dropout(0.5))\n",
    "model2.add(Dense(num_classes, activation='softmax'))\n",
    "\n",
    "model2.compile(loss=keras.losses.categorical_crossentropy, \n",
    "               optimizer=keras.optimizers.Adadelta(), metrics=['accuracy'])\n",
    "\n",
    "model2.fit(x_train, y_train, batch_size=batch_size, epochs=epochs, verbose=1, \n",
    "           validation_data=(x_test, y_test))\n",
    "\n",
    "score_2 = model2.evaluate(x_test, y_test, verbose=0)\n",
    "\n",
    "print('Test loss:', score_2[0])\n",
    "print('Test accuracy:', score_2[1])"
   ]
  },
  {
   "cell_type": "code",
   "execution_count": 30,
   "metadata": {},
   "outputs": [
    {
     "data": {
      "text/plain": [
       "(array([[2.55812350e-11, 1.26184341e-09, 5.51306945e-10, 2.23188845e-09,\n",
       "         7.07254394e-12, 1.28507112e-12, 2.37184895e-16, 1.00000000e+00,\n",
       "         1.68099267e-11, 1.22580035e-08]], dtype=float32),\n",
       " array([[0., 0., 0., 0., 0., 0., 0., 1., 0., 0.]], dtype=float32))"
      ]
     },
     "execution_count": 30,
     "metadata": {},
     "output_type": "execute_result"
    }
   ],
   "source": [
    "model2.predict(x_test[0:1]), y_test[:1]"
   ]
  },
  {
   "cell_type": "code",
   "execution_count": 31,
   "metadata": {},
   "outputs": [
    {
     "data": {
      "text/plain": [
       "(array([7], dtype=int64),\n",
       " array([[0., 0., 0., 0., 0., 0., 0., 1., 0., 0.]], dtype=float32))"
      ]
     },
     "execution_count": 31,
     "metadata": {},
     "output_type": "execute_result"
    }
   ],
   "source": [
    "model2.predict_classes(x_test[0:1]), y_test[:1]"
   ]
  },
  {
   "cell_type": "markdown",
   "metadata": {},
   "source": [
    "##### (iv) Conv Net with noise"
   ]
  },
  {
   "cell_type": "code",
   "execution_count": 21,
   "metadata": {},
   "outputs": [
    {
     "name": "stdout",
     "output_type": "stream",
     "text": [
      "Train on 60000 samples, validate on 10000 samples\n",
      "Epoch 1/10\n",
      "60000/60000 [==============================] - 235s 4ms/step - loss: 0.4095 - acc: 0.8692 - val_loss: 0.0941 - val_acc: 0.9710\n",
      "Epoch 2/10\n",
      "60000/60000 [==============================] - 230s 4ms/step - loss: 0.1359 - acc: 0.9585 - val_loss: 0.0780 - val_acc: 0.9758\n",
      "Epoch 3/10\n",
      "60000/60000 [==============================] - 202s 3ms/step - loss: 0.1029 - acc: 0.9687 - val_loss: 0.0620 - val_acc: 0.9801\n",
      "Epoch 4/10\n",
      "60000/60000 [==============================] - 201s 3ms/step - loss: 0.0849 - acc: 0.9745 - val_loss: 0.0536 - val_acc: 0.9832\n",
      "Epoch 5/10\n",
      "60000/60000 [==============================] - 201s 3ms/step - loss: 0.0729 - acc: 0.9773 - val_loss: 0.0613 - val_acc: 0.9815\n",
      "Epoch 6/10\n",
      "60000/60000 [==============================] - 201s 3ms/step - loss: 0.0644 - acc: 0.9803 - val_loss: 0.0505 - val_acc: 0.9844\n",
      "Epoch 7/10\n",
      "60000/60000 [==============================] - 200s 3ms/step - loss: 0.0591 - acc: 0.9823 - val_loss: 0.0517 - val_acc: 0.9836\n",
      "Epoch 8/10\n",
      "60000/60000 [==============================] - 200s 3ms/step - loss: 0.0521 - acc: 0.9838 - val_loss: 0.0525 - val_acc: 0.9846\n",
      "Epoch 9/10\n",
      "60000/60000 [==============================] - 202s 3ms/step - loss: 0.0480 - acc: 0.9846 - val_loss: 0.0540 - val_acc: 0.9835\n",
      "Epoch 10/10\n",
      "60000/60000 [==============================] - 200s 3ms/step - loss: 0.0442 - acc: 0.9862 - val_loss: 0.0588 - val_acc: 0.9837\n",
      "Test loss: 0.05877980903846697\n",
      "Test accuracy: 0.9837\n"
     ]
    }
   ],
   "source": [
    "batch_size = 128\n",
    "num_classes = 10\n",
    "epochs = 10\n",
    "\n",
    "# convert class vectors to binary class matrices\n",
    "y_train = keras.utils.to_categorical(y_train, num_classes)\n",
    "y_test = keras.utils.to_categorical(y_test, num_classes)\n",
    "\n",
    "model_n2 = Sequential()\n",
    "model_n2.add(Conv2D(32, kernel_size=(3, 3), activation='relu', input_shape=input_shape))\n",
    "model_n2.add(Conv2D(64, (3, 3), activation='relu'))\n",
    "model_n2.add(MaxPooling2D(pool_size=(2, 2)))\n",
    "model_n2.add(Dropout(0.25))\n",
    "model_n2.add(Flatten())\n",
    "model_n2.add(Dense(128, activation='relu'))\n",
    "model_n2.add(Dropout(0.5))\n",
    "model_n2.add(Dense(num_classes, activation='softmax'))\n",
    "\n",
    "model_n2.compile(loss=keras.losses.categorical_crossentropy,\n",
    "                 optimizer=keras.optimizers.Adadelta(), metrics=['accuracy'])\n",
    "\n",
    "model_n2.fit(x_train_noise, y_train, batch_size=batch_size, epochs=epochs, \n",
    "             verbose=1, validation_data=(x_test_noise, y_test))\n",
    "\n",
    "score_n2 = model_n2.evaluate(x_test_noise, y_test, verbose=0)\n",
    "\n",
    "print('Test loss:', score_n2[0])\n",
    "print('Test accuracy:', score_n2[1])"
   ]
  },
  {
   "cell_type": "code",
   "execution_count": 22,
   "metadata": {},
   "outputs": [
    {
     "name": "stdout",
     "output_type": "stream",
     "text": [
      "Test loss: 0.05877980903846697\n",
      "Test accuracy: 0.9837\n"
     ]
    }
   ],
   "source": [
    "score_n2 = model_n2.evaluate(x_test_noise, y_test, verbose=0)\n",
    "\n",
    "print('Test loss:', score_n2[0])\n",
    "print('Test accuracy:', score_n2[1])"
   ]
  },
  {
   "cell_type": "code",
   "execution_count": 23,
   "metadata": {},
   "outputs": [
    {
     "data": {
      "text/plain": [
       "(array([[1.4211991e-16, 4.5195603e-16, 4.8507303e-13, 2.1392671e-12,\n",
       "         1.1355564e-19, 8.8082782e-18, 1.4553011e-24, 1.0000000e+00,\n",
       "         4.1096430e-18, 7.8545573e-12]], dtype=float32),\n",
       " array([[0., 0., 0., 0., 0., 0., 0., 1., 0., 0.]], dtype=float32))"
      ]
     },
     "execution_count": 23,
     "metadata": {},
     "output_type": "execute_result"
    }
   ],
   "source": [
    "model_n2.predict(x_test_noise[0:1]), y_test[:1]"
   ]
  },
  {
   "cell_type": "code",
   "execution_count": 24,
   "metadata": {},
   "outputs": [
    {
     "data": {
      "text/plain": [
       "(array([7], dtype=int64),\n",
       " array([[0., 0., 0., 0., 0., 0., 0., 1., 0., 0.]], dtype=float32))"
      ]
     },
     "execution_count": 24,
     "metadata": {},
     "output_type": "execute_result"
    }
   ],
   "source": [
    "model_n2.predict_classes(x_test_noise[0:1]), y_test[:1]"
   ]
  },
  {
   "cell_type": "code",
   "execution_count": 32,
   "metadata": {},
   "outputs": [
    {
     "name": "stdout",
     "output_type": "stream",
     "text": [
      "Conv Net without noise: Test loss =  0.027436911533749206 , Test accuracy =  0.9913\n",
      "Conv Net with noise: Test loss =  0.05877980903846697 , Test accuracy =  0.9837\n"
     ]
    }
   ],
   "source": [
    "print('Conv Net without noise:', 'Test loss = ', score_2[0], ',', 'Test accuracy = ', score_2[1])\n",
    "print('Conv Net with noise:', 'Test loss = ', score_n2[0], ',', 'Test accuracy = ', score_n2[1])"
   ]
  },
  {
   "cell_type": "markdown",
   "metadata": {},
   "source": [
    "After 10 epochs, we can see that the model without noise has 99.13% of test accuracy and 2.74% of test loss. On the other hand, the model with noise has 98.37% of test accuracy and 5.87% of test loss."
   ]
  },
  {
   "cell_type": "markdown",
   "metadata": {},
   "source": [
    "#### 3. Vary the amount of noise (multiply `np.random.normal` by a factor) and keep track of the accuracy and loss (for training and validation) and plot these results."
   ]
  },
  {
   "cell_type": "code",
   "execution_count": 1,
   "metadata": {},
   "outputs": [
    {
     "name": "stderr",
     "output_type": "stream",
     "text": [
      "C:\\Users\\Anchee\\Anaconda3\\lib\\site-packages\\h5py\\__init__.py:36: FutureWarning: Conversion of the second argument of issubdtype from `float` to `np.floating` is deprecated. In future, it will be treated as `np.float64 == np.dtype(float).type`.\n",
      "  from ._conv import register_converters as _register_converters\n",
      "Using TensorFlow backend.\n"
     ]
    }
   ],
   "source": [
    "import keras\n",
    "from keras.datasets import mnist\n",
    "from keras.models import Sequential\n",
    "from keras.optimizers import RMSprop\n",
    "from keras.layers import Dense, Dropout, Flatten\n",
    "from keras.layers import Conv2D, MaxPooling2D\n",
    "from keras import backend"
   ]
  },
  {
   "cell_type": "code",
   "execution_count": 2,
   "metadata": {},
   "outputs": [],
   "source": [
    "import matplotlib.pyplot as plt\n",
    "import numpy as np"
   ]
  },
  {
   "cell_type": "markdown",
   "metadata": {},
   "source": [
    "#### MLNN"
   ]
  },
  {
   "cell_type": "code",
   "execution_count": 20,
   "metadata": {},
   "outputs": [
    {
     "name": "stdout",
     "output_type": "stream",
     "text": [
      "60000 train samples\n",
      "10000 test samples\n"
     ]
    }
   ],
   "source": [
    "(x_train, y_train), (x_test, y_test) = mnist.load_data()\n",
    "\n",
    "x_train = x_train.reshape(60000, 784)\n",
    "x_test = x_test.reshape(10000, 784)\n",
    "x_train = x_train.astype('float32')\n",
    "x_test = x_test.astype('float32')\n",
    "x_train /= 255\n",
    "x_test /= 255\n",
    "print(x_train.shape[0], 'train samples')\n",
    "print(x_test.shape[0], 'test samples')"
   ]
  },
  {
   "cell_type": "code",
   "execution_count": 7,
   "metadata": {},
   "outputs": [
    {
     "name": "stdout",
     "output_type": "stream",
     "text": [
      "_________________________________________________________________\n",
      "Layer (type)                 Output Shape              Param #   \n",
      "=================================================================\n",
      "dense_1 (Dense)              (None, 512)               401920    \n",
      "_________________________________________________________________\n",
      "dropout_1 (Dropout)          (None, 512)               0         \n",
      "_________________________________________________________________\n",
      "dense_2 (Dense)              (None, 512)               262656    \n",
      "_________________________________________________________________\n",
      "dropout_2 (Dropout)          (None, 512)               0         \n",
      "_________________________________________________________________\n",
      "dense_3 (Dense)              (None, 10)                5130      \n",
      "=================================================================\n",
      "Total params: 669,706\n",
      "Trainable params: 669,706\n",
      "Non-trainable params: 0\n",
      "_________________________________________________________________\n",
      "Train on 60000 samples, validate on 10000 samples\n",
      "Epoch 1/20\n",
      "60000/60000 [==============================] - 13s 216us/step - loss: 0.2490 - acc: 0.9231 - val_loss: 0.1182 - val_acc: 0.9633\n",
      "Epoch 2/20\n",
      "60000/60000 [==============================] - 13s 212us/step - loss: 0.1019 - acc: 0.9694 - val_loss: 0.0757 - val_acc: 0.9764\n",
      "Epoch 3/20\n",
      "60000/60000 [==============================] - 13s 209us/step - loss: 0.0752 - acc: 0.9771 - val_loss: 0.0771 - val_acc: 0.9764\n",
      "Epoch 4/20\n",
      "60000/60000 [==============================] - 12s 198us/step - loss: 0.0600 - acc: 0.9819 - val_loss: 0.0934 - val_acc: 0.9745\n",
      "Epoch 5/20\n",
      "60000/60000 [==============================] - 12s 204us/step - loss: 0.0520 - acc: 0.9843 - val_loss: 0.0670 - val_acc: 0.9815\n",
      "Epoch 6/20\n",
      "60000/60000 [==============================] - 13s 219us/step - loss: 0.0438 - acc: 0.9870 - val_loss: 0.0735 - val_acc: 0.9808\n",
      "Epoch 7/20\n",
      "60000/60000 [==============================] - 13s 210us/step - loss: 0.0381 - acc: 0.9885 - val_loss: 0.0791 - val_acc: 0.9814\n",
      "Epoch 8/20\n",
      "60000/60000 [==============================] - 12s 204us/step - loss: 0.0344 - acc: 0.9898 - val_loss: 0.0725 - val_acc: 0.9835\n",
      "Epoch 9/20\n",
      "60000/60000 [==============================] - 12s 206us/step - loss: 0.0319 - acc: 0.9907 - val_loss: 0.0748 - val_acc: 0.9832\n",
      "Epoch 10/20\n",
      "60000/60000 [==============================] - 13s 210us/step - loss: 0.0286 - acc: 0.9917 - val_loss: 0.0901 - val_acc: 0.9827\n",
      "Epoch 11/20\n",
      "60000/60000 [==============================] - 13s 210us/step - loss: 0.0281 - acc: 0.9920 - val_loss: 0.0829 - val_acc: 0.9843\n",
      "Epoch 12/20\n",
      "60000/60000 [==============================] - 12s 205us/step - loss: 0.0249 - acc: 0.9931 - val_loss: 0.1047 - val_acc: 0.9811\n",
      "Epoch 13/20\n",
      "60000/60000 [==============================] - 12s 207us/step - loss: 0.0228 - acc: 0.9934 - val_loss: 0.1014 - val_acc: 0.9818\n",
      "Epoch 14/20\n",
      "60000/60000 [==============================] - 13s 225us/step - loss: 0.0219 - acc: 0.9939 - val_loss: 0.0982 - val_acc: 0.9821\n",
      "Epoch 15/20\n",
      "60000/60000 [==============================] - 13s 221us/step - loss: 0.0227 - acc: 0.9939 - val_loss: 0.1078 - val_acc: 0.9805\n",
      "Epoch 16/20\n",
      "60000/60000 [==============================] - 13s 210us/step - loss: 0.0202 - acc: 0.9948 - val_loss: 0.0915 - val_acc: 0.9850\n",
      "Epoch 17/20\n",
      "60000/60000 [==============================] - 13s 221us/step - loss: 0.0195 - acc: 0.9949 - val_loss: 0.1075 - val_acc: 0.9841\n",
      "Epoch 18/20\n",
      "60000/60000 [==============================] - 12s 199us/step - loss: 0.0195 - acc: 0.9949 - val_loss: 0.1024 - val_acc: 0.9847\n",
      "Epoch 19/20\n",
      "60000/60000 [==============================] - 12s 205us/step - loss: 0.0175 - acc: 0.9956 - val_loss: 0.1073 - val_acc: 0.9821\n",
      "Epoch 20/20\n",
      "60000/60000 [==============================] - 13s 214us/step - loss: 0.0170 - acc: 0.9950 - val_loss: 0.0981 - val_acc: 0.9849\n",
      "Test loss: 0.09809925168283021\n",
      "Test accuracy: 0.9849\n"
     ]
    }
   ],
   "source": [
    "batch_size = 128\n",
    "num_classes = 10\n",
    "epochs = 20\n",
    "\n",
    "\n",
    "# convert class vectors to binary class matrices\n",
    "y_train = keras.utils.to_categorical(y_train, num_classes)\n",
    "y_test = keras.utils.to_categorical(y_test, num_classes)\n",
    "\n",
    "model3 = Sequential()\n",
    "model3.add(Dense(512, activation='relu', input_shape=(784,)))\n",
    "model3.add(Dropout(0.2))\n",
    "model3.add(Dense(512, activation='relu'))\n",
    "model3.add(Dropout(0.2))\n",
    "model3.add(Dense(10, activation='softmax'))\n",
    "\n",
    "model3.summary()\n",
    "\n",
    "model3.compile(loss='categorical_crossentropy', optimizer=RMSprop(), metrics=['accuracy'])\n",
    "\n",
    "history = model3.fit(x_train, y_train, batch_size=batch_size, epochs=epochs, verbose=1, \n",
    "                     validation_data=(x_test, y_test))\n",
    "\n",
    "score_3 = model3.evaluate(x_test, y_test, verbose=0)\n",
    "\n",
    "print('Test loss:', score_3[0])\n",
    "print('Test accuracy:', score_3[1])"
   ]
  },
  {
   "cell_type": "code",
   "execution_count": 21,
   "metadata": {},
   "outputs": [
    {
     "name": "stdout",
     "output_type": "stream",
     "text": [
      "_________________________________________________________________\n",
      "Layer (type)                 Output Shape              Param #   \n",
      "=================================================================\n",
      "dense_34 (Dense)             (None, 512)               401920    \n",
      "_________________________________________________________________\n",
      "dropout_23 (Dropout)         (None, 512)               0         \n",
      "_________________________________________________________________\n",
      "dense_35 (Dense)             (None, 512)               262656    \n",
      "_________________________________________________________________\n",
      "dropout_24 (Dropout)         (None, 512)               0         \n",
      "_________________________________________________________________\n",
      "dense_36 (Dense)             (None, 10)                5130      \n",
      "=================================================================\n",
      "Total params: 669,706\n",
      "Trainable params: 669,706\n",
      "Non-trainable params: 0\n",
      "_________________________________________________________________\n",
      "Train on 60000 samples, validate on 10000 samples\n",
      "Epoch 1/20\n",
      "60000/60000 [==============================] - 14s 226us/step - loss: 0.3356 - acc: 0.8951 - val_loss: 0.1466 - val_acc: 0.9541\n",
      "Epoch 2/20\n",
      "60000/60000 [==============================] - 13s 211us/step - loss: 0.1407 - acc: 0.9572 - val_loss: 0.1113 - val_acc: 0.9659\n",
      "Epoch 3/20\n",
      "60000/60000 [==============================] - 12s 207us/step - loss: 0.1050 - acc: 0.9681 - val_loss: 0.0884 - val_acc: 0.9718\n",
      "Epoch 4/20\n",
      "60000/60000 [==============================] - 13s 209us/step - loss: 0.0848 - acc: 0.9738 - val_loss: 0.0736 - val_acc: 0.9778\n",
      "Epoch 5/20\n",
      "60000/60000 [==============================] - 12s 208us/step - loss: 0.0716 - acc: 0.9777 - val_loss: 0.0852 - val_acc: 0.9763\n",
      "Epoch 6/20\n",
      "60000/60000 [==============================] - 13s 213us/step - loss: 0.0621 - acc: 0.9812 - val_loss: 0.0918 - val_acc: 0.9727\n",
      "Epoch 7/20\n",
      "60000/60000 [==============================] - 12s 208us/step - loss: 0.0588 - acc: 0.9828 - val_loss: 0.0812 - val_acc: 0.9804\n",
      "Epoch 8/20\n",
      "60000/60000 [==============================] - 12s 207us/step - loss: 0.0550 - acc: 0.9844 - val_loss: 0.0892 - val_acc: 0.9765\n",
      "Epoch 9/20\n",
      "60000/60000 [==============================] - 13s 212us/step - loss: 0.0514 - acc: 0.9848 - val_loss: 0.1000 - val_acc: 0.9792\n",
      "Epoch 10/20\n",
      "60000/60000 [==============================] - 12s 207us/step - loss: 0.0483 - acc: 0.9856 - val_loss: 0.1016 - val_acc: 0.9777\n",
      "Epoch 11/20\n",
      "60000/60000 [==============================] - 13s 211us/step - loss: 0.0467 - acc: 0.9869 - val_loss: 0.1058 - val_acc: 0.9756\n",
      "Epoch 12/20\n",
      "60000/60000 [==============================] - 13s 209us/step - loss: 0.0415 - acc: 0.9883 - val_loss: 0.1120 - val_acc: 0.9792\n",
      "Epoch 13/20\n",
      "60000/60000 [==============================] - 12s 208us/step - loss: 0.0437 - acc: 0.9888 - val_loss: 0.1115 - val_acc: 0.9781\n",
      "Epoch 14/20\n",
      "60000/60000 [==============================] - 12s 205us/step - loss: 0.0416 - acc: 0.9888 - val_loss: 0.1394 - val_acc: 0.9755\n",
      "Epoch 15/20\n",
      "60000/60000 [==============================] - 13s 209us/step - loss: 0.0392 - acc: 0.9898 - val_loss: 0.1462 - val_acc: 0.9743\n",
      "Epoch 16/20\n",
      "60000/60000 [==============================] - 13s 211us/step - loss: 0.0405 - acc: 0.9898 - val_loss: 0.1464 - val_acc: 0.9754\n",
      "Epoch 17/20\n",
      "60000/60000 [==============================] - 13s 218us/step - loss: 0.0397 - acc: 0.9897 - val_loss: 0.1559 - val_acc: 0.9752\n",
      "Epoch 18/20\n",
      "60000/60000 [==============================] - 12s 207us/step - loss: 0.0397 - acc: 0.9903 - val_loss: 0.1249 - val_acc: 0.9794\n",
      "Epoch 19/20\n",
      "60000/60000 [==============================] - 13s 211us/step - loss: 0.0384 - acc: 0.9904 - val_loss: 0.1101 - val_acc: 0.9814\n",
      "Epoch 20/20\n",
      "60000/60000 [==============================] - 13s 209us/step - loss: 0.0384 - acc: 0.9906 - val_loss: 0.1230 - val_acc: 0.9794\n",
      "Test loss: 0.12304341591782558\n",
      "Test accuracy: 0.9794\n"
     ]
    }
   ],
   "source": [
    "batch_size = 128\n",
    "num_classes = 10\n",
    "epochs = 20\n",
    "noise = 0.199\n",
    "\n",
    "x_train_noise = x_train + 0.199*np.random.rand(*x_train.shape)\n",
    "x_test_noise = x_test + 0.199*np.random.rand(*x_test.shape)\n",
    "\n",
    "model4 = Sequential()\n",
    "model4.add(Dense(512, activation='relu', input_shape=(784,)))\n",
    "model4.add(Dropout(0.2))\n",
    "model4.add(Dense(512, activation='relu'))\n",
    "model4.add(Dropout(0.2))\n",
    "model4.add(Dense(10, activation='softmax'))\n",
    "\n",
    "model4.summary()\n",
    "\n",
    "model4.compile(loss='categorical_crossentropy', optimizer=RMSprop(), metrics=['accuracy'])\n",
    "\n",
    "history = model4.fit(x_train_noise, y_train, batch_size=batch_size, epochs=epochs, verbose=1, \n",
    "                     validation_data=(x_test_noise, y_test))\n",
    "\n",
    "score_4 = model4.evaluate(x_test_noise, y_test, verbose=0)\n",
    "\n",
    "print('Test loss:', score_4[0])\n",
    "print('Test accuracy:', score_4[1])"
   ]
  },
  {
   "cell_type": "code",
   "execution_count": 22,
   "metadata": {},
   "outputs": [
    {
     "name": "stdout",
     "output_type": "stream",
     "text": [
      "_________________________________________________________________\n",
      "Layer (type)                 Output Shape              Param #   \n",
      "=================================================================\n",
      "dense_37 (Dense)             (None, 512)               401920    \n",
      "_________________________________________________________________\n",
      "dropout_25 (Dropout)         (None, 512)               0         \n",
      "_________________________________________________________________\n",
      "dense_38 (Dense)             (None, 512)               262656    \n",
      "_________________________________________________________________\n",
      "dropout_26 (Dropout)         (None, 512)               0         \n",
      "_________________________________________________________________\n",
      "dense_39 (Dense)             (None, 10)                5130      \n",
      "=================================================================\n",
      "Total params: 669,706\n",
      "Trainable params: 669,706\n",
      "Non-trainable params: 0\n",
      "_________________________________________________________________\n",
      "Train on 60000 samples, validate on 10000 samples\n",
      "Epoch 1/20\n",
      "60000/60000 [==============================] - 13s 219us/step - loss: 0.4235 - acc: 0.8659 - val_loss: 0.2465 - val_acc: 0.9172\n",
      "Epoch 2/20\n",
      "60000/60000 [==============================] - 13s 224us/step - loss: 0.1800 - acc: 0.9445 - val_loss: 0.1271 - val_acc: 0.9602\n",
      "Epoch 3/20\n",
      "60000/60000 [==============================] - 12s 207us/step - loss: 0.1346 - acc: 0.9584 - val_loss: 0.1167 - val_acc: 0.9629\n",
      "Epoch 4/20\n",
      "60000/60000 [==============================] - 13s 216us/step - loss: 0.1084 - acc: 0.9660 - val_loss: 0.0948 - val_acc: 0.9729\n",
      "Epoch 5/20\n",
      "60000/60000 [==============================] - 12s 207us/step - loss: 0.0939 - acc: 0.9707 - val_loss: 0.1061 - val_acc: 0.9691\n",
      "Epoch 6/20\n",
      "60000/60000 [==============================] - 13s 214us/step - loss: 0.0832 - acc: 0.9748 - val_loss: 0.1704 - val_acc: 0.9578\n",
      "Epoch 7/20\n",
      "60000/60000 [==============================] - 14s 227us/step - loss: 0.0764 - acc: 0.9765 - val_loss: 0.0946 - val_acc: 0.9744\n",
      "Epoch 8/20\n",
      "60000/60000 [==============================] - 12s 208us/step - loss: 0.0680 - acc: 0.9803 - val_loss: 0.0964 - val_acc: 0.9756\n",
      "Epoch 9/20\n",
      "60000/60000 [==============================] - 13s 216us/step - loss: 0.0654 - acc: 0.9805 - val_loss: 0.1096 - val_acc: 0.9739\n",
      "Epoch 10/20\n",
      "60000/60000 [==============================] - 12s 207us/step - loss: 0.0627 - acc: 0.9826 - val_loss: 0.1231 - val_acc: 0.9737\n",
      "Epoch 11/20\n",
      "60000/60000 [==============================] - 13s 211us/step - loss: 0.0582 - acc: 0.9829 - val_loss: 0.1036 - val_acc: 0.9776\n",
      "Epoch 12/20\n",
      "60000/60000 [==============================] - 12s 205us/step - loss: 0.0603 - acc: 0.9838 - val_loss: 0.0950 - val_acc: 0.9768\n",
      "Epoch 13/20\n",
      "60000/60000 [==============================] - 13s 209us/step - loss: 0.0520 - acc: 0.9856 - val_loss: 0.1453 - val_acc: 0.9725\n",
      "Epoch 14/20\n",
      "60000/60000 [==============================] - 13s 210us/step - loss: 0.0508 - acc: 0.9855 - val_loss: 0.1091 - val_acc: 0.9793\n",
      "Epoch 15/20\n",
      "60000/60000 [==============================] - 13s 209us/step - loss: 0.0493 - acc: 0.9868 - val_loss: 0.1336 - val_acc: 0.9739\n",
      "Epoch 16/20\n",
      "60000/60000 [==============================] - 13s 224us/step - loss: 0.0511 - acc: 0.9862 - val_loss: 0.1266 - val_acc: 0.9742\n",
      "Epoch 17/20\n",
      "60000/60000 [==============================] - 13s 215us/step - loss: 0.0493 - acc: 0.9865 - val_loss: 0.1357 - val_acc: 0.9767\n",
      "Epoch 18/20\n",
      "60000/60000 [==============================] - 12s 208us/step - loss: 0.0479 - acc: 0.9877 - val_loss: 0.1408 - val_acc: 0.9724\n",
      "Epoch 19/20\n",
      "60000/60000 [==============================] - 13s 209us/step - loss: 0.0448 - acc: 0.9885 - val_loss: 0.1264 - val_acc: 0.9781\n",
      "Epoch 20/20\n",
      "60000/60000 [==============================] - 13s 211us/step - loss: 0.0460 - acc: 0.9882 - val_loss: 0.1559 - val_acc: 0.9721\n",
      "Test loss: 0.15589919155727913\n",
      "Test accuracy: 0.9721\n"
     ]
    }
   ],
   "source": [
    "batch_size = 128\n",
    "num_classes = 10\n",
    "epochs = 20\n",
    "noise = 0.353\n",
    "\n",
    "x_train_noise = x_train + 0.353*np.random.rand(*x_train.shape)\n",
    "x_test_noise = x_test + 0.353*np.random.rand(*x_test.shape)\n",
    "\n",
    "model5 = Sequential()\n",
    "model5.add(Dense(512, activation='relu', input_shape=(784,)))\n",
    "model5.add(Dropout(0.2))\n",
    "model5.add(Dense(512, activation='relu'))\n",
    "model5.add(Dropout(0.2))\n",
    "model5.add(Dense(10, activation='softmax'))\n",
    "\n",
    "model5.summary()\n",
    "\n",
    "model5.compile(loss='categorical_crossentropy', optimizer=RMSprop(), metrics=['accuracy'])\n",
    "\n",
    "history = model5.fit(x_train_noise, y_train, batch_size=batch_size, epochs=epochs, verbose=1, \n",
    "                     validation_data=(x_test_noise, y_test))\n",
    "\n",
    "score_5 = model5.evaluate(x_test_noise, y_test, verbose=0)\n",
    "\n",
    "print('Test loss:', score_5[0])\n",
    "print('Test accuracy:', score_5[1])"
   ]
  },
  {
   "cell_type": "code",
   "execution_count": 23,
   "metadata": {},
   "outputs": [
    {
     "name": "stdout",
     "output_type": "stream",
     "text": [
      "_________________________________________________________________\n",
      "Layer (type)                 Output Shape              Param #   \n",
      "=================================================================\n",
      "dense_40 (Dense)             (None, 512)               401920    \n",
      "_________________________________________________________________\n",
      "dropout_27 (Dropout)         (None, 512)               0         \n",
      "_________________________________________________________________\n",
      "dense_41 (Dense)             (None, 512)               262656    \n",
      "_________________________________________________________________\n",
      "dropout_28 (Dropout)         (None, 512)               0         \n",
      "_________________________________________________________________\n",
      "dense_42 (Dense)             (None, 10)                5130      \n",
      "=================================================================\n",
      "Total params: 669,706\n",
      "Trainable params: 669,706\n",
      "Non-trainable params: 0\n",
      "_________________________________________________________________\n",
      "Train on 60000 samples, validate on 10000 samples\n",
      "Epoch 1/20\n",
      "60000/60000 [==============================] - 14s 235us/step - loss: 0.7755 - acc: 0.7490 - val_loss: 0.2949 - val_acc: 0.9085\n",
      "Epoch 2/20\n",
      "60000/60000 [==============================] - 13s 211us/step - loss: 0.3484 - acc: 0.8896 - val_loss: 0.2665 - val_acc: 0.9162\n",
      "Epoch 3/20\n",
      "60000/60000 [==============================] - 13s 215us/step - loss: 0.2584 - acc: 0.9177 - val_loss: 0.2525 - val_acc: 0.9184\n",
      "Epoch 4/20\n",
      "60000/60000 [==============================] - 12s 207us/step - loss: 0.2125 - acc: 0.9330 - val_loss: 0.2040 - val_acc: 0.9366\n",
      "Epoch 5/20\n",
      "60000/60000 [==============================] - 13s 209us/step - loss: 0.1835 - acc: 0.9425 - val_loss: 0.1407 - val_acc: 0.9588\n",
      "Epoch 6/20\n",
      "60000/60000 [==============================] - 13s 224us/step - loss: 0.1648 - acc: 0.9479 - val_loss: 0.1530 - val_acc: 0.9513\n",
      "Epoch 7/20\n",
      "60000/60000 [==============================] - 13s 221us/step - loss: 0.1482 - acc: 0.9529 - val_loss: 0.1943 - val_acc: 0.9426\n",
      "Epoch 8/20\n",
      "60000/60000 [==============================] - 12s 208us/step - loss: 0.1367 - acc: 0.9571 - val_loss: 0.1407 - val_acc: 0.9557\n",
      "Epoch 9/20\n",
      "60000/60000 [==============================] - 12s 202us/step - loss: 0.1300 - acc: 0.9591 - val_loss: 0.1523 - val_acc: 0.9583\n",
      "Epoch 10/20\n",
      "60000/60000 [==============================] - 12s 205us/step - loss: 0.1219 - acc: 0.9625 - val_loss: 0.1915 - val_acc: 0.9557\n",
      "Epoch 11/20\n",
      "60000/60000 [==============================] - 12s 201us/step - loss: 0.1190 - acc: 0.9648 - val_loss: 0.1522 - val_acc: 0.9609\n",
      "Epoch 12/20\n",
      "60000/60000 [==============================] - 13s 220us/step - loss: 0.1108 - acc: 0.9663 - val_loss: 0.1574 - val_acc: 0.9622\n",
      "Epoch 13/20\n",
      "60000/60000 [==============================] - 13s 211us/step - loss: 0.1064 - acc: 0.9675 - val_loss: 0.1747 - val_acc: 0.9546\n",
      "Epoch 14/20\n",
      "60000/60000 [==============================] - 13s 214us/step - loss: 0.1046 - acc: 0.9685 - val_loss: 0.1733 - val_acc: 0.9545\n",
      "Epoch 15/20\n",
      "60000/60000 [==============================] - 12s 196us/step - loss: 0.1050 - acc: 0.9699 - val_loss: 0.1960 - val_acc: 0.9602\n",
      "Epoch 16/20\n",
      "60000/60000 [==============================] - 12s 206us/step - loss: 0.0978 - acc: 0.9716 - val_loss: 0.1671 - val_acc: 0.9668\n",
      "Epoch 17/20\n",
      "60000/60000 [==============================] - 12s 203us/step - loss: 0.0968 - acc: 0.9719 - val_loss: 0.1776 - val_acc: 0.9600\n",
      "Epoch 18/20\n",
      "60000/60000 [==============================] - 12s 206us/step - loss: 0.0975 - acc: 0.9728 - val_loss: 0.2104 - val_acc: 0.9585\n",
      "Epoch 19/20\n",
      "60000/60000 [==============================] - 13s 223us/step - loss: 0.0929 - acc: 0.9739 - val_loss: 0.2098 - val_acc: 0.9629\n",
      "Epoch 20/20\n",
      "60000/60000 [==============================] - 12s 201us/step - loss: 0.0895 - acc: 0.9749 - val_loss: 0.1698 - val_acc: 0.9647\n",
      "Test loss: 0.16978696702679363\n",
      "Test accuracy: 0.9647\n"
     ]
    }
   ],
   "source": [
    "batch_size = 128\n",
    "num_classes = 10\n",
    "epochs = 20\n",
    "noise = 0.857\n",
    "\n",
    "x_train_noise = x_train + 0.857*np.random.rand(*x_train.shape)\n",
    "x_test_noise = x_test + 0.857*np.random.rand(*x_test.shape)\n",
    "\n",
    "model6 = Sequential()\n",
    "model6.add(Dense(512, activation='relu', input_shape=(784,)))\n",
    "model6.add(Dropout(0.2))\n",
    "model6.add(Dense(512, activation='relu'))\n",
    "model6.add(Dropout(0.2))\n",
    "model6.add(Dense(10, activation='softmax'))\n",
    "\n",
    "model6.summary()\n",
    "\n",
    "model6.compile(loss='categorical_crossentropy', optimizer=RMSprop(), metrics=['accuracy'])\n",
    "\n",
    "history = model6.fit(x_train_noise, y_train, batch_size=batch_size, epochs=epochs, verbose=1, \n",
    "                     validation_data=(x_test_noise, y_test))\n",
    "\n",
    "score_6 = model6.evaluate(x_test_noise, y_test, verbose=0)\n",
    "\n",
    "print('Test loss:', score_6[0])\n",
    "print('Test accuracy:', score_6[1])"
   ]
  },
  {
   "cell_type": "code",
   "execution_count": 24,
   "metadata": {},
   "outputs": [
    {
     "name": "stdout",
     "output_type": "stream",
     "text": [
      "_________________________________________________________________\n",
      "Layer (type)                 Output Shape              Param #   \n",
      "=================================================================\n",
      "dense_43 (Dense)             (None, 512)               401920    \n",
      "_________________________________________________________________\n",
      "dropout_29 (Dropout)         (None, 512)               0         \n",
      "_________________________________________________________________\n",
      "dense_44 (Dense)             (None, 512)               262656    \n",
      "_________________________________________________________________\n",
      "dropout_30 (Dropout)         (None, 512)               0         \n",
      "_________________________________________________________________\n",
      "dense_45 (Dense)             (None, 10)                5130      \n",
      "=================================================================\n",
      "Total params: 669,706\n",
      "Trainable params: 669,706\n",
      "Non-trainable params: 0\n",
      "_________________________________________________________________\n",
      "Train on 60000 samples, validate on 10000 samples\n",
      "Epoch 1/20\n",
      "60000/60000 [==============================] - 13s 221us/step - loss: 0.9578 - acc: 0.6897 - val_loss: 0.5877 - val_acc: 0.7982\n",
      "Epoch 2/20\n",
      "60000/60000 [==============================] - 13s 222us/step - loss: 0.4575 - acc: 0.8527 - val_loss: 0.2750 - val_acc: 0.9139\n",
      "Epoch 3/20\n",
      "60000/60000 [==============================] - 13s 214us/step - loss: 0.3421 - acc: 0.8903 - val_loss: 0.2416 - val_acc: 0.9241\n",
      "Epoch 4/20\n",
      "60000/60000 [==============================] - 13s 210us/step - loss: 0.2811 - acc: 0.9114 - val_loss: 0.4147 - val_acc: 0.8635\n",
      "Epoch 5/20\n",
      "60000/60000 [==============================] - 12s 202us/step - loss: 0.2447 - acc: 0.9231 - val_loss: 0.2215 - val_acc: 0.9340\n",
      "Epoch 6/20\n",
      "60000/60000 [==============================] - 13s 209us/step - loss: 0.2188 - acc: 0.9323 - val_loss: 0.1901 - val_acc: 0.9421\n",
      "Epoch 7/20\n",
      "60000/60000 [==============================] - 13s 210us/step - loss: 0.1981 - acc: 0.9369 - val_loss: 0.1987 - val_acc: 0.9371\n",
      "Epoch 8/20\n",
      "60000/60000 [==============================] - 13s 209us/step - loss: 0.1840 - acc: 0.9424 - val_loss: 0.2213 - val_acc: 0.9379\n",
      "Epoch 9/20\n",
      "60000/60000 [==============================] - 13s 210us/step - loss: 0.1755 - acc: 0.9459 - val_loss: 0.3467 - val_acc: 0.9011\n",
      "Epoch 10/20\n",
      "60000/60000 [==============================] - 12s 205us/step - loss: 0.1646 - acc: 0.9481 - val_loss: 0.1727 - val_acc: 0.9524\n",
      "Epoch 11/20\n",
      "60000/60000 [==============================] - 13s 223us/step - loss: 0.1563 - acc: 0.9518 - val_loss: 0.1883 - val_acc: 0.9525\n",
      "Epoch 12/20\n",
      "60000/60000 [==============================] - 13s 210us/step - loss: 0.1482 - acc: 0.9532 - val_loss: 0.2272 - val_acc: 0.9369\n",
      "Epoch 13/20\n",
      "60000/60000 [==============================] - 13s 209us/step - loss: 0.1421 - acc: 0.9567 - val_loss: 0.1972 - val_acc: 0.9462\n",
      "Epoch 14/20\n",
      "60000/60000 [==============================] - 13s 210us/step - loss: 0.1387 - acc: 0.9576 - val_loss: 0.1756 - val_acc: 0.9557\n",
      "Epoch 15/20\n",
      "60000/60000 [==============================] - 13s 209us/step - loss: 0.1351 - acc: 0.9592 - val_loss: 0.1952 - val_acc: 0.9513\n",
      "Epoch 16/20\n",
      "60000/60000 [==============================] - 13s 215us/step - loss: 0.1301 - acc: 0.9606 - val_loss: 0.2121 - val_acc: 0.9503\n",
      "Epoch 17/20\n",
      "60000/60000 [==============================] - 13s 215us/step - loss: 0.1303 - acc: 0.9610 - val_loss: 0.2199 - val_acc: 0.9486\n",
      "Epoch 18/20\n",
      "60000/60000 [==============================] - 13s 220us/step - loss: 0.1243 - acc: 0.9632 - val_loss: 0.2198 - val_acc: 0.9472\n",
      "Epoch 19/20\n",
      "60000/60000 [==============================] - 13s 221us/step - loss: 0.1229 - acc: 0.9645 - val_loss: 0.2478 - val_acc: 0.9492\n",
      "Epoch 20/20\n",
      "60000/60000 [==============================] - 13s 213us/step - loss: 0.1201 - acc: 0.9643 - val_loss: 0.2541 - val_acc: 0.9484\n",
      "Test loss: 0.254058855293601\n",
      "Test accuracy: 0.9484\n"
     ]
    }
   ],
   "source": [
    "batch_size = 128\n",
    "num_classes = 10\n",
    "epochs = 20\n",
    "noise = 1.106\n",
    "\n",
    "x_train_noise = x_train + 1.106*np.random.rand(*x_train.shape)\n",
    "x_test_noise = x_test + 1.106*np.random.rand(*x_test.shape)\n",
    "\n",
    "model7 = Sequential()\n",
    "model7.add(Dense(512, activation='relu', input_shape=(784,)))\n",
    "model7.add(Dropout(0.2))\n",
    "model7.add(Dense(512, activation='relu'))\n",
    "model7.add(Dropout(0.2))\n",
    "model7.add(Dense(10, activation='softmax'))\n",
    "\n",
    "model7.summary()\n",
    "\n",
    "model7.compile(loss='categorical_crossentropy', optimizer=RMSprop(), metrics=['accuracy'])\n",
    "\n",
    "history = model7.fit(x_train_noise, y_train, batch_size=batch_size, epochs=epochs, verbose=1, \n",
    "                     validation_data=(x_test_noise, y_test))\n",
    "\n",
    "score_7 = model7.evaluate(x_test_noise, y_test, verbose=0)\n",
    "\n",
    "print('Test loss:', score_7[0])\n",
    "print('Test accuracy:', score_7[1])"
   ]
  },
  {
   "cell_type": "code",
   "execution_count": 25,
   "metadata": {},
   "outputs": [
    {
     "name": "stdout",
     "output_type": "stream",
     "text": [
      "_________________________________________________________________\n",
      "Layer (type)                 Output Shape              Param #   \n",
      "=================================================================\n",
      "dense_46 (Dense)             (None, 512)               401920    \n",
      "_________________________________________________________________\n",
      "dropout_31 (Dropout)         (None, 512)               0         \n",
      "_________________________________________________________________\n",
      "dense_47 (Dense)             (None, 512)               262656    \n",
      "_________________________________________________________________\n",
      "dropout_32 (Dropout)         (None, 512)               0         \n",
      "_________________________________________________________________\n",
      "dense_48 (Dense)             (None, 10)                5130      \n",
      "=================================================================\n",
      "Total params: 669,706\n",
      "Trainable params: 669,706\n",
      "Non-trainable params: 0\n",
      "_________________________________________________________________\n",
      "Train on 60000 samples, validate on 10000 samples\n",
      "Epoch 1/20\n",
      "60000/60000 [==============================] - 13s 224us/step - loss: 1.4924 - acc: 0.5109 - val_loss: 0.7355 - val_acc: 0.7558\n",
      "Epoch 2/20\n",
      "60000/60000 [==============================] - 12s 201us/step - loss: 0.8484 - acc: 0.7173 - val_loss: 0.6701 - val_acc: 0.7635\n",
      "Epoch 3/20\n",
      "60000/60000 [==============================] - 12s 199us/step - loss: 0.6716 - acc: 0.7785 - val_loss: 0.6437 - val_acc: 0.7831\n",
      "Epoch 4/20\n",
      "60000/60000 [==============================] - 13s 219us/step - loss: 0.5809 - acc: 0.8096 - val_loss: 0.4892 - val_acc: 0.8354\n",
      "Epoch 5/20\n",
      "60000/60000 [==============================] - 12s 204us/step - loss: 0.5146 - acc: 0.8314 - val_loss: 0.4574 - val_acc: 0.8427\n",
      "Epoch 6/20\n",
      "60000/60000 [==============================] - 13s 211us/step - loss: 0.4737 - acc: 0.8465 - val_loss: 0.4995 - val_acc: 0.8356\n",
      "Epoch 7/20\n",
      "60000/60000 [==============================] - 14s 230us/step - loss: 0.4411 - acc: 0.8573 - val_loss: 0.3538 - val_acc: 0.8842\n",
      "Epoch 8/20\n",
      "60000/60000 [==============================] - 13s 221us/step - loss: 0.4101 - acc: 0.8670 - val_loss: 0.4458 - val_acc: 0.8605\n",
      "Epoch 9/20\n",
      "60000/60000 [==============================] - 15s 242us/step - loss: 0.3909 - acc: 0.8731 - val_loss: 0.3780 - val_acc: 0.8791\n",
      "Epoch 10/20\n",
      "60000/60000 [==============================] - 15s 245us/step - loss: 0.3655 - acc: 0.8811 - val_loss: 0.3485 - val_acc: 0.8914\n",
      "Epoch 11/20\n",
      "60000/60000 [==============================] - 13s 223us/step - loss: 0.3518 - acc: 0.8861 - val_loss: 0.4242 - val_acc: 0.8643\n",
      "Epoch 12/20\n",
      "60000/60000 [==============================] - 14s 227us/step - loss: 0.3420 - acc: 0.8885 - val_loss: 0.3838 - val_acc: 0.8868\n",
      "Epoch 13/20\n",
      "60000/60000 [==============================] - 13s 223us/step - loss: 0.3261 - acc: 0.8941 - val_loss: 0.3831 - val_acc: 0.8926\n",
      "Epoch 14/20\n",
      "60000/60000 [==============================] - 13s 209us/step - loss: 0.3168 - acc: 0.8961 - val_loss: 0.3465 - val_acc: 0.8939\n",
      "Epoch 15/20\n",
      "60000/60000 [==============================] - 13s 217us/step - loss: 0.3051 - acc: 0.9007 - val_loss: 0.3924 - val_acc: 0.8811\n",
      "Epoch 16/20\n",
      "60000/60000 [==============================] - 13s 218us/step - loss: 0.3034 - acc: 0.9020 - val_loss: 0.3413 - val_acc: 0.8932\n",
      "Epoch 17/20\n",
      "60000/60000 [==============================] - 13s 213us/step - loss: 0.2946 - acc: 0.9042 - val_loss: 0.3987 - val_acc: 0.8886\n",
      "Epoch 18/20\n",
      "60000/60000 [==============================] - 13s 215us/step - loss: 0.2848 - acc: 0.9085 - val_loss: 0.3848 - val_acc: 0.8910\n",
      "Epoch 19/20\n",
      "60000/60000 [==============================] - 13s 215us/step - loss: 0.2808 - acc: 0.9096 - val_loss: 0.3836 - val_acc: 0.8913\n",
      "Epoch 20/20\n",
      "60000/60000 [==============================] - 14s 232us/step - loss: 0.2754 - acc: 0.9115 - val_loss: 0.4429 - val_acc: 0.8755\n",
      "Test loss: 0.442903331239894\n",
      "Test accuracy: 0.8755\n"
     ]
    }
   ],
   "source": [
    "batch_size = 128\n",
    "num_classes = 10\n",
    "epochs = 20\n",
    "noise = 1.981\n",
    "\n",
    "x_train_noise = x_train + 1.981*np.random.rand(*x_train.shape)\n",
    "x_test_noise = x_test + 1.981*np.random.rand(*x_test.shape)\n",
    "\n",
    "model8 = Sequential()\n",
    "model8.add(Dense(512, activation='relu', input_shape=(784,)))\n",
    "model8.add(Dropout(0.2))\n",
    "model8.add(Dense(512, activation='relu'))\n",
    "model8.add(Dropout(0.2))\n",
    "model8.add(Dense(10, activation='softmax'))\n",
    "\n",
    "model8.summary()\n",
    "\n",
    "model8.compile(loss='categorical_crossentropy', optimizer=RMSprop(), metrics=['accuracy'])\n",
    "\n",
    "history = model8.fit(x_train_noise, y_train, batch_size=batch_size, epochs=epochs, verbose=1, \n",
    "                     validation_data=(x_test_noise, y_test))\n",
    "\n",
    "score_8 = model8.evaluate(x_test_noise, y_test, verbose=0)\n",
    "\n",
    "print('Test loss:', score_8[0])\n",
    "print('Test accuracy:', score_8[1])"
   ]
  },
  {
   "cell_type": "code",
   "execution_count": 26,
   "metadata": {},
   "outputs": [
    {
     "name": "stdout",
     "output_type": "stream",
     "text": [
      "_________________________________________________________________\n",
      "Layer (type)                 Output Shape              Param #   \n",
      "=================================================================\n",
      "dense_49 (Dense)             (None, 512)               401920    \n",
      "_________________________________________________________________\n",
      "dropout_33 (Dropout)         (None, 512)               0         \n",
      "_________________________________________________________________\n",
      "dense_50 (Dense)             (None, 512)               262656    \n",
      "_________________________________________________________________\n",
      "dropout_34 (Dropout)         (None, 512)               0         \n",
      "_________________________________________________________________\n",
      "dense_51 (Dense)             (None, 10)                5130      \n",
      "=================================================================\n",
      "Total params: 669,706\n",
      "Trainable params: 669,706\n",
      "Non-trainable params: 0\n",
      "_________________________________________________________________\n",
      "Train on 60000 samples, validate on 10000 samples\n",
      "Epoch 1/20\n",
      "60000/60000 [==============================] - 14s 228us/step - loss: 1.7409 - acc: 0.4257 - val_loss: 1.1380 - val_acc: 0.6074\n",
      "Epoch 2/20\n",
      "60000/60000 [==============================] - 13s 211us/step - loss: 1.0704 - acc: 0.6363 - val_loss: 0.8976 - val_acc: 0.6908\n",
      "Epoch 3/20\n",
      "60000/60000 [==============================] - 12s 208us/step - loss: 0.8993 - acc: 0.6980 - val_loss: 0.7004 - val_acc: 0.7723\n",
      "Epoch 4/20\n",
      "60000/60000 [==============================] - 13s 210us/step - loss: 0.7897 - acc: 0.7354 - val_loss: 0.6423 - val_acc: 0.7847\n",
      "Epoch 5/20\n",
      "60000/60000 [==============================] - 13s 210us/step - loss: 0.7251 - acc: 0.7593 - val_loss: 0.5512 - val_acc: 0.8134\n",
      "Epoch 6/20\n",
      "60000/60000 [==============================] - 13s 211us/step - loss: 0.6726 - acc: 0.7753 - val_loss: 0.5849 - val_acc: 0.8066\n",
      "Epoch 7/20\n",
      "60000/60000 [==============================] - 13s 209us/step - loss: 0.6284 - acc: 0.7910 - val_loss: 0.5802 - val_acc: 0.8034\n",
      "Epoch 8/20\n",
      "60000/60000 [==============================] - 13s 220us/step - loss: 0.5917 - acc: 0.8051 - val_loss: 0.6131 - val_acc: 0.7937\n",
      "Epoch 9/20\n",
      "60000/60000 [==============================] - 14s 226us/step - loss: 0.5646 - acc: 0.8111 - val_loss: 0.5799 - val_acc: 0.8138\n",
      "Epoch 10/20\n",
      "60000/60000 [==============================] - 14s 229us/step - loss: 0.5467 - acc: 0.8179 - val_loss: 0.5433 - val_acc: 0.8252\n",
      "Epoch 11/20\n",
      "60000/60000 [==============================] - 14s 226us/step - loss: 0.5221 - acc: 0.8259 - val_loss: 0.5854 - val_acc: 0.8126\n",
      "Epoch 12/20\n",
      "60000/60000 [==============================] - 13s 210us/step - loss: 0.5033 - acc: 0.8328 - val_loss: 0.4888 - val_acc: 0.8400\n",
      "Epoch 13/20\n",
      "60000/60000 [==============================] - 13s 217us/step - loss: 0.4902 - acc: 0.8369 - val_loss: 0.4498 - val_acc: 0.8532\n",
      "Epoch 14/20\n",
      "60000/60000 [==============================] - 13s 222us/step - loss: 0.4782 - acc: 0.8406 - val_loss: 0.4770 - val_acc: 0.8488\n",
      "Epoch 15/20\n",
      "60000/60000 [==============================] - 12s 204us/step - loss: 0.4655 - acc: 0.8458 - val_loss: 0.4958 - val_acc: 0.8369\n",
      "Epoch 16/20\n",
      "60000/60000 [==============================] - 13s 211us/step - loss: 0.4575 - acc: 0.8472 - val_loss: 0.4923 - val_acc: 0.8436\n",
      "Epoch 17/20\n",
      "60000/60000 [==============================] - 14s 240us/step - loss: 0.4460 - acc: 0.8525 - val_loss: 0.4759 - val_acc: 0.8494\n",
      "Epoch 18/20\n",
      "60000/60000 [==============================] - 13s 219us/step - loss: 0.4419 - acc: 0.8529 - val_loss: 0.5098 - val_acc: 0.8410\n",
      "Epoch 19/20\n",
      "60000/60000 [==============================] - 13s 225us/step - loss: 0.4266 - acc: 0.8580 - val_loss: 0.4606 - val_acc: 0.8556\n",
      "Epoch 20/20\n",
      "60000/60000 [==============================] - 14s 231us/step - loss: 0.4244 - acc: 0.8584 - val_loss: 0.4914 - val_acc: 0.8504\n",
      "Test loss: 0.4914227172911167\n",
      "Test accuracy: 0.8504\n"
     ]
    }
   ],
   "source": [
    "batch_size = 128\n",
    "num_classes = 10\n",
    "epochs = 20\n",
    "noise = 2.524\n",
    "\n",
    "x_train_noise = x_train + 2.524*np.random.rand(*x_train.shape)\n",
    "x_test_noise = x_test + 2.524*np.random.rand(*x_test.shape)\n",
    "\n",
    "model9 = Sequential()\n",
    "model9.add(Dense(512, activation='relu', input_shape=(784,)))\n",
    "model9.add(Dropout(0.2))\n",
    "model9.add(Dense(512, activation='relu'))\n",
    "model9.add(Dropout(0.2))\n",
    "model9.add(Dense(10, activation='softmax'))\n",
    "\n",
    "model9.summary()\n",
    "\n",
    "model9.compile(loss='categorical_crossentropy', optimizer=RMSprop(), metrics=['accuracy'])\n",
    "\n",
    "history = model9.fit(x_train_noise, y_train, batch_size=batch_size, epochs=epochs, verbose=1, \n",
    "                     validation_data=(x_test_noise, y_test))\n",
    "\n",
    "score_9 = model9.evaluate(x_test_noise, y_test, verbose=0)\n",
    "\n",
    "print('Test loss:', score_9[0])\n",
    "print('Test accuracy:', score_9[1])"
   ]
  },
  {
   "cell_type": "code",
   "execution_count": 36,
   "metadata": {},
   "outputs": [
    {
     "name": "stdout",
     "output_type": "stream",
     "text": [
      "_________________________________________________________________\n",
      "Layer (type)                 Output Shape              Param #   \n",
      "=================================================================\n",
      "dense_55 (Dense)             (None, 512)               401920    \n",
      "_________________________________________________________________\n",
      "dropout_37 (Dropout)         (None, 512)               0         \n",
      "_________________________________________________________________\n",
      "dense_56 (Dense)             (None, 512)               262656    \n",
      "_________________________________________________________________\n",
      "dropout_38 (Dropout)         (None, 512)               0         \n",
      "_________________________________________________________________\n",
      "dense_57 (Dense)             (None, 10)                5130      \n",
      "=================================================================\n",
      "Total params: 669,706\n",
      "Trainable params: 669,706\n",
      "Non-trainable params: 0\n",
      "_________________________________________________________________\n",
      "Train on 60000 samples, validate on 10000 samples\n",
      "Epoch 1/20\n",
      "60000/60000 [==============================] - 14s 229us/step - loss: 2.3885 - acc: 0.2594 - val_loss: 1.7995 - val_acc: 0.3450\n",
      "Epoch 2/20\n",
      "60000/60000 [==============================] - 15s 253us/step - loss: 1.5663 - acc: 0.4525 - val_loss: 1.3786 - val_acc: 0.5129\n",
      "Epoch 3/20\n",
      "60000/60000 [==============================] - 12s 201us/step - loss: 1.3630 - acc: 0.5261 - val_loss: 1.1808 - val_acc: 0.6058\n",
      "Epoch 4/20\n",
      "60000/60000 [==============================] - 12s 204us/step - loss: 1.2635 - acc: 0.5633 - val_loss: 1.1829 - val_acc: 0.5948\n",
      "Epoch 5/20\n",
      "60000/60000 [==============================] - 12s 200us/step - loss: 1.1915 - acc: 0.5900 - val_loss: 1.1693 - val_acc: 0.6113\n",
      "Epoch 6/20\n",
      "60000/60000 [==============================] - 12s 201us/step - loss: 1.1401 - acc: 0.6079 - val_loss: 1.1299 - val_acc: 0.5984\n",
      "Epoch 7/20\n",
      "60000/60000 [==============================] - 12s 202us/step - loss: 1.1076 - acc: 0.6218 - val_loss: 1.0069 - val_acc: 0.6776\n",
      "Epoch 8/20\n",
      "60000/60000 [==============================] - 12s 204us/step - loss: 1.0756 - acc: 0.6332 - val_loss: 1.0084 - val_acc: 0.6608\n",
      "Epoch 9/20\n",
      "60000/60000 [==============================] - 12s 202us/step - loss: 1.0489 - acc: 0.6420 - val_loss: 1.1003 - val_acc: 0.6172\n",
      "Epoch 10/20\n",
      "60000/60000 [==============================] - 12s 200us/step - loss: 1.0278 - acc: 0.6495 - val_loss: 0.9744 - val_acc: 0.6824\n",
      "Epoch 11/20\n",
      "60000/60000 [==============================] - 12s 200us/step - loss: 1.0121 - acc: 0.6548 - val_loss: 0.9915 - val_acc: 0.6670\n",
      "Epoch 12/20\n",
      "60000/60000 [==============================] - 12s 200us/step - loss: 0.9959 - acc: 0.6614 - val_loss: 0.9917 - val_acc: 0.6698\n",
      "Epoch 13/20\n",
      "60000/60000 [==============================] - 12s 200us/step - loss: 0.9798 - acc: 0.6680 - val_loss: 0.9309 - val_acc: 0.7043\n",
      "Epoch 14/20\n",
      "60000/60000 [==============================] - 12s 199us/step - loss: 0.9669 - acc: 0.6691 - val_loss: 0.9989 - val_acc: 0.6714\n",
      "Epoch 15/20\n",
      "60000/60000 [==============================] - 12s 201us/step - loss: 0.9563 - acc: 0.6762 - val_loss: 0.9322 - val_acc: 0.6922\n",
      "Epoch 16/20\n",
      "60000/60000 [==============================] - 12s 200us/step - loss: 0.9471 - acc: 0.6791 - val_loss: 0.9353 - val_acc: 0.6890\n",
      "Epoch 17/20\n",
      "60000/60000 [==============================] - 12s 200us/step - loss: 0.9377 - acc: 0.6826 - val_loss: 0.9387 - val_acc: 0.6858\n",
      "Epoch 18/20\n",
      "60000/60000 [==============================] - 12s 199us/step - loss: 0.9281 - acc: 0.6858 - val_loss: 0.9385 - val_acc: 0.6938\n",
      "Epoch 19/20\n",
      "60000/60000 [==============================] - 12s 204us/step - loss: 0.9194 - acc: 0.6900 - val_loss: 0.9605 - val_acc: 0.6790\n",
      "Epoch 20/20\n",
      "60000/60000 [==============================] - 12s 203us/step - loss: 0.9202 - acc: 0.6885 - val_loss: 0.8849 - val_acc: 0.7059\n",
      "Test loss: 0.8849401501655578\n",
      "Test accuracy: 0.7059\n"
     ]
    }
   ],
   "source": [
    "batch_size = 128\n",
    "num_classes = 10\n",
    "epochs = 20\n",
    "noise = 3.80\n",
    "\n",
    "x_train_noise = x_train + 3.80*np.random.rand(*x_train.shape)\n",
    "x_test_noise = x_test + 3.80*np.random.rand(*x_test.shape)\n",
    "\n",
    "model10 = Sequential()\n",
    "model10.add(Dense(512, activation='relu', input_shape=(784,)))\n",
    "model10.add(Dropout(0.2))\n",
    "model10.add(Dense(512, activation='relu'))\n",
    "model10.add(Dropout(0.2))\n",
    "model10.add(Dense(10, activation='softmax'))\n",
    "\n",
    "model10.summary()\n",
    "\n",
    "model10.compile(loss='categorical_crossentropy', optimizer=RMSprop(), metrics=['accuracy'])\n",
    "\n",
    "history = model10.fit(x_train_noise, y_train, batch_size=batch_size, epochs=epochs, verbose=1, \n",
    "                     validation_data=(x_test_noise, y_test))\n",
    "\n",
    "score_10 = model10.evaluate(x_test_noise, y_test, verbose=0)\n",
    "\n",
    "print('Test loss:', score_10[0])\n",
    "print('Test accuracy:', score_10[1])"
   ]
  },
  {
   "cell_type": "code",
   "execution_count": 37,
   "metadata": {},
   "outputs": [
    {
     "name": "stdout",
     "output_type": "stream",
     "text": [
      "_________________________________________________________________\n",
      "Layer (type)                 Output Shape              Param #   \n",
      "=================================================================\n",
      "dense_58 (Dense)             (None, 512)               401920    \n",
      "_________________________________________________________________\n",
      "dropout_39 (Dropout)         (None, 512)               0         \n",
      "_________________________________________________________________\n",
      "dense_59 (Dense)             (None, 512)               262656    \n",
      "_________________________________________________________________\n",
      "dropout_40 (Dropout)         (None, 512)               0         \n",
      "_________________________________________________________________\n",
      "dense_60 (Dense)             (None, 10)                5130      \n",
      "=================================================================\n",
      "Total params: 669,706\n",
      "Trainable params: 669,706\n",
      "Non-trainable params: 0\n",
      "_________________________________________________________________\n",
      "Train on 60000 samples, validate on 10000 samples\n",
      "Epoch 1/20\n",
      "60000/60000 [==============================] - 14s 231us/step - loss: 2.3134 - acc: 0.2381 - val_loss: 1.6091 - val_acc: 0.4410\n",
      "Epoch 2/20\n",
      "60000/60000 [==============================] - 13s 211us/step - loss: 1.6617 - acc: 0.4139 - val_loss: 1.3922 - val_acc: 0.5203\n",
      "Epoch 3/20\n",
      "60000/60000 [==============================] - 12s 201us/step - loss: 1.4727 - acc: 0.4862 - val_loss: 1.3142 - val_acc: 0.5290\n",
      "Epoch 4/20\n",
      "60000/60000 [==============================] - 13s 212us/step - loss: 1.3736 - acc: 0.5244 - val_loss: 1.2204 - val_acc: 0.5992\n",
      "Epoch 5/20\n",
      "60000/60000 [==============================] - 12s 200us/step - loss: 1.3089 - acc: 0.5462 - val_loss: 1.1707 - val_acc: 0.6119\n",
      "Epoch 6/20\n",
      "60000/60000 [==============================] - 12s 199us/step - loss: 1.2611 - acc: 0.5650 - val_loss: 1.2665 - val_acc: 0.5472\n",
      "Epoch 7/20\n",
      "60000/60000 [==============================] - 12s 200us/step - loss: 1.2306 - acc: 0.5737 - val_loss: 1.1277 - val_acc: 0.6279\n",
      "Epoch 8/20\n",
      "60000/60000 [==============================] - 12s 201us/step - loss: 1.2072 - acc: 0.5847 - val_loss: 1.1235 - val_acc: 0.6241\n",
      "Epoch 9/20\n",
      "60000/60000 [==============================] - 12s 203us/step - loss: 1.1826 - acc: 0.5926 - val_loss: 1.1173 - val_acc: 0.6364\n",
      "Epoch 10/20\n",
      "60000/60000 [==============================] - 12s 200us/step - loss: 1.1673 - acc: 0.5981 - val_loss: 1.2106 - val_acc: 0.5778\n",
      "Epoch 11/20\n",
      "60000/60000 [==============================] - 12s 199us/step - loss: 1.1488 - acc: 0.6047 - val_loss: 1.0962 - val_acc: 0.6392\n",
      "Epoch 12/20\n",
      "60000/60000 [==============================] - 12s 204us/step - loss: 1.1397 - acc: 0.6097 - val_loss: 1.1267 - val_acc: 0.6249 - acc:  - ETA: 1s - loss: \n",
      "Epoch 13/20\n",
      "60000/60000 [==============================] - 12s 200us/step - loss: 1.1281 - acc: 0.6155 - val_loss: 1.1013 - val_acc: 0.6478\n",
      "Epoch 14/20\n",
      "60000/60000 [==============================] - 12s 201us/step - loss: 1.1214 - acc: 0.6152 - val_loss: 1.1334 - val_acc: 0.6296\n",
      "Epoch 15/20\n",
      "60000/60000 [==============================] - 12s 203us/step - loss: 1.1125 - acc: 0.6193 - val_loss: 1.1082 - val_acc: 0.6234\n",
      "Epoch 16/20\n",
      "60000/60000 [==============================] - 12s 203us/step - loss: 1.1053 - acc: 0.6238 - val_loss: 1.1122 - val_acc: 0.6264\n",
      "Epoch 17/20\n",
      "60000/60000 [==============================] - 12s 202us/step - loss: 1.0989 - acc: 0.6250 - val_loss: 1.1309 - val_acc: 0.6151\n",
      "Epoch 18/20\n",
      "60000/60000 [==============================] - 12s 205us/step - loss: 1.0934 - acc: 0.6283 - val_loss: 1.1252 - val_acc: 0.6259\n",
      "Epoch 19/20\n",
      "60000/60000 [==============================] - 12s 201us/step - loss: 1.0870 - acc: 0.6305 - val_loss: 1.0757 - val_acc: 0.6524\n",
      "Epoch 20/20\n",
      "60000/60000 [==============================] - 12s 200us/step - loss: 1.0842 - acc: 0.6304 - val_loss: 1.1451 - val_acc: 0.6180\n",
      "Test loss: 1.1451369124412536\n",
      "Test accuracy: 0.618\n"
     ]
    }
   ],
   "source": [
    "batch_size = 128\n",
    "num_classes = 10\n",
    "epochs = 20\n",
    "noise = 4.201\n",
    "\n",
    "x_train_noise = x_train + 4.201*np.random.rand(*x_train.shape)\n",
    "x_test_noise = x_test + 4.201*np.random.rand(*x_test.shape)\n",
    "\n",
    "model11 = Sequential()\n",
    "model11.add(Dense(512, activation='relu', input_shape=(784,)))\n",
    "model11.add(Dropout(0.2))\n",
    "model11.add(Dense(512, activation='relu'))\n",
    "model11.add(Dropout(0.2))\n",
    "model11.add(Dense(10, activation='softmax'))\n",
    "\n",
    "model11.summary()\n",
    "\n",
    "model11.compile(loss='categorical_crossentropy', optimizer=RMSprop(), metrics=['accuracy'])\n",
    "\n",
    "history = model11.fit(x_train_noise, y_train, batch_size=batch_size, epochs=epochs, verbose=1, \n",
    "                     validation_data=(x_test_noise, y_test))\n",
    "\n",
    "score_11 = model11.evaluate(x_test_noise, y_test, verbose=0)\n",
    "\n",
    "print('Test loss:', score_11[0])\n",
    "print('Test accuracy:', score_11[1])"
   ]
  },
  {
   "cell_type": "code",
   "execution_count": 38,
   "metadata": {},
   "outputs": [
    {
     "name": "stdout",
     "output_type": "stream",
     "text": [
      "_________________________________________________________________\n",
      "Layer (type)                 Output Shape              Param #   \n",
      "=================================================================\n",
      "dense_61 (Dense)             (None, 512)               401920    \n",
      "_________________________________________________________________\n",
      "dropout_41 (Dropout)         (None, 512)               0         \n",
      "_________________________________________________________________\n",
      "dense_62 (Dense)             (None, 512)               262656    \n",
      "_________________________________________________________________\n",
      "dropout_42 (Dropout)         (None, 512)               0         \n",
      "_________________________________________________________________\n",
      "dense_63 (Dense)             (None, 10)                5130      \n",
      "=================================================================\n",
      "Total params: 669,706\n",
      "Trainable params: 669,706\n",
      "Non-trainable params: 0\n",
      "_________________________________________________________________\n",
      "Train on 60000 samples, validate on 10000 samples\n",
      "Epoch 1/20\n",
      "60000/60000 [==============================] - 13s 224us/step - loss: 14.4784 - acc: 0.0996 - val_loss: 14.4902 - val_acc: 0.1010\n",
      "Epoch 2/20\n",
      "60000/60000 [==============================] - 13s 209us/step - loss: 14.4711 - acc: 0.1022 - val_loss: 14.4902 - val_acc: 0.1010\n",
      "Epoch 3/20\n",
      "60000/60000 [==============================] - 12s 199us/step - loss: 14.4711 - acc: 0.1022 - val_loss: 14.4902 - val_acc: 0.1010\n",
      "Epoch 4/20\n",
      "60000/60000 [==============================] - 12s 198us/step - loss: 14.4711 - acc: 0.1022 - val_loss: 14.4902 - val_acc: 0.1010\n",
      "Epoch 5/20\n",
      "60000/60000 [==============================] - 12s 197us/step - loss: 14.4711 - acc: 0.1022 - val_loss: 14.4902 - val_acc: 0.1010\n",
      "Epoch 6/20\n",
      "60000/60000 [==============================] - 12s 199us/step - loss: 14.4711 - acc: 0.1022 - val_loss: 14.4902 - val_acc: 0.1010\n",
      "Epoch 7/20\n",
      "60000/60000 [==============================] - 12s 197us/step - loss: 14.4711 - acc: 0.1022 - val_loss: 14.4902 - val_acc: 0.1010\n",
      "Epoch 8/20\n",
      "60000/60000 [==============================] - 12s 201us/step - loss: 14.4711 - acc: 0.1022 - val_loss: 14.4902 - val_acc: 0.1010\n",
      "Epoch 9/20\n",
      "60000/60000 [==============================] - 12s 198us/step - loss: 14.4711 - acc: 0.1022 - val_loss: 14.4902 - val_acc: 0.1010\n",
      "Epoch 10/20\n",
      "60000/60000 [==============================] - 12s 199us/step - loss: 14.4356 - acc: 0.1042 - val_loss: 14.2887 - val_acc: 0.1135\n",
      "Epoch 11/20\n",
      "60000/60000 [==============================] - 12s 199us/step - loss: 14.3070 - acc: 0.1124 - val_loss: 14.2887 - val_acc: 0.1135\n",
      "Epoch 12/20\n",
      "60000/60000 [==============================] - 12s 198us/step - loss: 14.3070 - acc: 0.1124 - val_loss: 14.2887 - val_acc: 0.1135\n",
      "Epoch 13/20\n",
      "60000/60000 [==============================] - 12s 198us/step - loss: 14.3953 - acc: 0.1067 - val_loss: 14.2887 - val_acc: 0.1135\n",
      "Epoch 14/20\n",
      "60000/60000 [==============================] - 12s 198us/step - loss: 14.3057 - acc: 0.1124 - val_loss: 14.2887 - val_acc: 0.1135\n",
      "Epoch 15/20\n",
      "60000/60000 [==============================] - 12s 198us/step - loss: 14.3070 - acc: 0.1124 - val_loss: 14.2887 - val_acc: 0.1135\n",
      "Epoch 16/20\n",
      "60000/60000 [==============================] - 12s 202us/step - loss: 14.3070 - acc: 0.1124 - val_loss: 14.2887 - val_acc: 0.1135\n",
      "Epoch 17/20\n",
      "60000/60000 [==============================] - 12s 199us/step - loss: 14.3070 - acc: 0.1124 - val_loss: 14.2887 - val_acc: 0.1135\n",
      "Epoch 18/20\n",
      "60000/60000 [==============================] - 12s 202us/step - loss: 14.3070 - acc: 0.1124 - val_loss: 14.2887 - val_acc: 0.1135\n",
      "Epoch 19/20\n",
      "60000/60000 [==============================] - 12s 199us/step - loss: 14.3070 - acc: 0.1124 - val_loss: 14.2887 - val_acc: 0.1135\n",
      "Epoch 20/20\n",
      "60000/60000 [==============================] - 12s 198us/step - loss: 14.3070 - acc: 0.1124 - val_loss: 14.2887 - val_acc: 0.1135\n",
      "Test loss: 14.28869146270752\n",
      "Test accuracy: 0.1135\n"
     ]
    }
   ],
   "source": [
    "batch_size = 128\n",
    "num_classes = 10\n",
    "epochs = 20\n",
    "noise = 5.555\n",
    "\n",
    "x_train_noise = x_train + 5.555*np.random.rand(*x_train.shape)\n",
    "x_test_noise = x_test + 5.555*np.random.rand(*x_test.shape)\n",
    "\n",
    "model12 = Sequential()\n",
    "model12.add(Dense(512, activation='relu', input_shape=(784,)))\n",
    "model12.add(Dropout(0.2))\n",
    "model12.add(Dense(512, activation='relu'))\n",
    "model12.add(Dropout(0.2))\n",
    "model12.add(Dense(10, activation='softmax'))\n",
    "\n",
    "model12.summary()\n",
    "\n",
    "model12.compile(loss='categorical_crossentropy', optimizer=RMSprop(), metrics=['accuracy'])\n",
    "\n",
    "history = model12.fit(x_train_noise, y_train, batch_size=batch_size, epochs=epochs, verbose=1, \n",
    "                     validation_data=(x_test_noise, y_test))\n",
    "\n",
    "score_12 = model12.evaluate(x_test_noise, y_test, verbose=0)\n",
    "\n",
    "print('Test loss:', score_12[0])\n",
    "print('Test accuracy:', score_12[1])"
   ]
  },
  {
   "cell_type": "code",
   "execution_count": 46,
   "metadata": {},
   "outputs": [
    {
     "name": "stdout",
     "output_type": "stream",
     "text": [
      "[0.09809925168283021, 0.9849] [0.12304341591782558, 0.9794] [0.15589919155727913, 0.9721] [0.16978696702679363, 0.9647] [0.254058855293601, 0.9484] [0.442903331239894, 0.8755] [0.4914227172911167, 0.8504] [0.8849401501655578, 0.7059] [1.1451369124412536, 0.618] [14.28869146270752, 0.1135]\n"
     ]
    }
   ],
   "source": [
    "print(score_3, score_4, score_5, score_6, score_7, score_8, score_9, score_10, score_11, score_12)"
   ]
  },
  {
   "cell_type": "code",
   "execution_count": 17,
   "metadata": {},
   "outputs": [],
   "source": [
    "Loss = (0.09809925168283021, 0.12304341591782558, 0.15589919155727913, 0.16978696702679363, 0.254058855293601, \n",
    "        0.442903331239894,0.4914227172911167, 0.8849401501655578, 1.1451369124412536, 14.28869146270752)\n",
    "Accuracy = (0.9849, 0.9794, 0.9721, 0.9647, 0.9484, 0.8755, 0.8504, 0.7059, 0.618, 0.1135)"
   ]
  },
  {
   "cell_type": "code",
   "execution_count": 18,
   "metadata": {},
   "outputs": [
    {
     "data": {
      "image/png": "[encoded data removed]",
      "text/plain": [
       "<Figure size 432x288 with 1 Axes>"
      ]
     },
     "metadata": {},
     "output_type": "display_data"
    }
   ],
   "source": [
    "plt.scatter(Loss, Accuracy, color = \"teal\")\n",
    "plt.plot(Loss, Accuracy, color = \"orange\")\n",
    "plt.xlabel('Test Loss Score')\n",
    "plt.ylabel('Test Accuracy Score')\n",
    "plt.show()"
   ]
  },
  {
   "cell_type": "markdown",
   "metadata": {},
   "source": [
    "#### Conv Net"
   ]
  },
  {
   "cell_type": "code",
   "execution_count": 4,
   "metadata": {},
   "outputs": [
    {
     "name": "stdout",
     "output_type": "stream",
     "text": [
      "x_train shape: (60000, 28, 28, 1)\n",
      "60000 train samples\n",
      "10000 test samples\n"
     ]
    }
   ],
   "source": [
    "# input image dimensions\n",
    "img_rows, img_cols = 28, 28\n",
    "\n",
    "# the data, shuffled and split between train and test sets\n",
    "(x_train, y_train), (x_test, y_test) = mnist.load_data()\n",
    "\n",
    "if backend.image_data_format() == 'channels_first':\n",
    "    x_train = x_train.reshape(x_train.shape[0], 1, img_rows, img_cols)\n",
    "    x_test = x_test.reshape(x_test.shape[0], 1, img_rows, img_cols)\n",
    "    input_shape = (1, img_rows, img_cols)\n",
    "else:\n",
    "    x_train = x_train.reshape(x_train.shape[0], img_rows, img_cols, 1)\n",
    "    x_test = x_test.reshape(x_test.shape[0], img_rows, img_cols, 1)\n",
    "    input_shape = (img_rows, img_cols, 1)\n",
    "\n",
    "x_train = x_train.astype('float32')\n",
    "x_test = x_test.astype('float32')\n",
    "x_train /= 255\n",
    "x_test /= 255\n",
    "print('x_train shape:', x_train.shape)\n",
    "print(x_train.shape[0], 'train samples')\n",
    "print(x_test.shape[0], 'test samples')"
   ]
  },
  {
   "cell_type": "code",
   "execution_count": 5,
   "metadata": {},
   "outputs": [
    {
     "name": "stdout",
     "output_type": "stream",
     "text": [
      "Train on 60000 samples, validate on 10000 samples\n",
      "Epoch 1/5\n",
      "60000/60000 [==============================] - 218s 4ms/step - loss: 0.2617 - acc: 0.9192 - val_loss: 0.0583 - val_acc: 0.9820\n",
      "Epoch 2/5\n",
      "60000/60000 [==============================] - 204s 3ms/step - loss: 0.0862 - acc: 0.9738 - val_loss: 0.0434 - val_acc: 0.9859\n",
      "Epoch 3/5\n",
      "60000/60000 [==============================] - 214s 4ms/step - loss: 0.0645 - acc: 0.9804 - val_loss: 0.0346 - val_acc: 0.9884\n",
      "Epoch 4/5\n",
      "60000/60000 [==============================] - 215s 4ms/step - loss: 0.0525 - acc: 0.9843 - val_loss: 0.0312 - val_acc: 0.9899\n",
      "Epoch 5/5\n",
      "60000/60000 [==============================] - 207s 3ms/step - loss: 0.0443 - acc: 0.9865 - val_loss: 0.0325 - val_acc: 0.9892\n",
      "Test loss: 0.03254376709989301\n",
      "Test accuracy: 0.9892\n"
     ]
    }
   ],
   "source": [
    "batch_size = 128\n",
    "num_classes = 10\n",
    "epochs = 5\n",
    "\n",
    "# convert class vectors to binary class matrices\n",
    "y_train = keras.utils.to_categorical(y_train, num_classes)\n",
    "y_test = keras.utils.to_categorical(y_test, num_classes)\n",
    "\n",
    "model13 = Sequential()\n",
    "model13.add(Conv2D(32, kernel_size=(3, 3), activation='relu', input_shape=input_shape))\n",
    "model13.add(Conv2D(64, (3, 3), activation='relu'))\n",
    "model13.add(MaxPooling2D(pool_size=(2, 2)))\n",
    "model13.add(Dropout(0.25))\n",
    "model13.add(Flatten())\n",
    "model13.add(Dense(128, activation='relu'))\n",
    "model13.add(Dropout(0.5))\n",
    "model13.add(Dense(num_classes, activation='softmax'))\n",
    "\n",
    "model13.compile(loss=keras.losses.categorical_crossentropy, \n",
    "               optimizer=keras.optimizers.Adadelta(), metrics=['accuracy'])\n",
    "\n",
    "model13.fit(x_train, y_train, batch_size=batch_size, epochs=epochs, verbose=1, \n",
    "           validation_data=(x_test, y_test))\n",
    "\n",
    "score_13 = model13.evaluate(x_test, y_test, verbose=0)\n",
    "\n",
    "print('Test loss:', score_13[0])\n",
    "print('Test accuracy:', score_13[1])"
   ]
  },
  {
   "cell_type": "code",
   "execution_count": 6,
   "metadata": {},
   "outputs": [
    {
     "name": "stdout",
     "output_type": "stream",
     "text": [
      "Train on 60000 samples, validate on 10000 samples\n",
      "Epoch 1/5\n",
      "60000/60000 [==============================] - 210s 4ms/step - loss: 0.2814 - acc: 0.9137 - val_loss: 0.0598 - val_acc: 0.9804\n",
      "Epoch 2/5\n",
      "60000/60000 [==============================] - 209s 3ms/step - loss: 0.0933 - acc: 0.9727 - val_loss: 0.0407 - val_acc: 0.9867\n",
      "Epoch 3/5\n",
      "60000/60000 [==============================] - 202s 3ms/step - loss: 0.0694 - acc: 0.9798 - val_loss: 0.0375 - val_acc: 0.9875\n",
      "Epoch 4/5\n",
      "60000/60000 [==============================] - 204s 3ms/step - loss: 0.0574 - acc: 0.9829 - val_loss: 0.0307 - val_acc: 0.9900\n",
      "Epoch 5/5\n",
      "60000/60000 [==============================] - 205s 3ms/step - loss: 0.0490 - acc: 0.9854 - val_loss: 0.0299 - val_acc: 0.9895\n",
      "Test loss: 0.029869548104674324\n",
      "Test accuracy: 0.9895\n"
     ]
    }
   ],
   "source": [
    "batch_size = 128\n",
    "num_classes = 10\n",
    "epochs = 5\n",
    "noise = 0.199\n",
    "\n",
    "x_train_noise = x_train + 0.199*np.random.rand(*x_train.shape)\n",
    "x_test_noise = x_test + 0.199*np.random.rand(*x_test.shape)\n",
    "\n",
    "model_14 = Sequential()\n",
    "model_14.add(Conv2D(32, kernel_size=(3, 3), activation='relu', input_shape=input_shape))\n",
    "model_14.add(Conv2D(64, (3, 3), activation='relu'))\n",
    "model_14.add(MaxPooling2D(pool_size=(2, 2)))\n",
    "model_14.add(Dropout(0.25))\n",
    "model_14.add(Flatten())\n",
    "model_14.add(Dense(128, activation='relu'))\n",
    "model_14.add(Dropout(0.5))\n",
    "model_14.add(Dense(num_classes, activation='softmax'))\n",
    "\n",
    "model_14.compile(loss=keras.losses.categorical_crossentropy,\n",
    "                 optimizer=keras.optimizers.Adadelta(), metrics=['accuracy'])\n",
    "\n",
    "model_14.fit(x_train_noise, y_train, batch_size=batch_size, epochs=epochs, \n",
    "             verbose=1, validation_data=(x_test_noise, y_test))\n",
    "\n",
    "score_14 = model_14.evaluate(x_test_noise, y_test, verbose=0)\n",
    "\n",
    "print('Test loss:', score_14[0])\n",
    "print('Test accuracy:', score_14[1])"
   ]
  },
  {
   "cell_type": "code",
   "execution_count": 7,
   "metadata": {},
   "outputs": [
    {
     "name": "stdout",
     "output_type": "stream",
     "text": [
      "Train on 60000 samples, validate on 10000 samples\n",
      "Epoch 1/5\n",
      "60000/60000 [==============================] - 204s 3ms/step - loss: 0.2642 - acc: 0.9187 - val_loss: 0.0557 - val_acc: 0.9822\n",
      "Epoch 2/5\n",
      "60000/60000 [==============================] - 207s 3ms/step - loss: 0.0897 - acc: 0.9740 - val_loss: 0.0417 - val_acc: 0.9869\n",
      "Epoch 3/5\n",
      "60000/60000 [==============================] - 202s 3ms/step - loss: 0.0663 - acc: 0.9804 - val_loss: 0.0362 - val_acc: 0.9879\n",
      "Epoch 4/5\n",
      "60000/60000 [==============================] - 203s 3ms/step - loss: 0.0566 - acc: 0.9826 - val_loss: 0.0361 - val_acc: 0.9883\n",
      "Epoch 5/5\n",
      "60000/60000 [==============================] - 200s 3ms/step - loss: 0.0468 - acc: 0.9859 - val_loss: 0.0321 - val_acc: 0.9889\n",
      "Test loss: 0.03207912145863811\n",
      "Test accuracy: 0.9889\n"
     ]
    }
   ],
   "source": [
    "batch_size = 128\n",
    "num_classes = 10\n",
    "epochs = 5\n",
    "noise = 0.353\n",
    "\n",
    "x_train_noise = x_train + 0.199*np.random.rand(*x_train.shape)\n",
    "x_test_noise = x_test + 0.199*np.random.rand(*x_test.shape)\n",
    "\n",
    "model_14 = Sequential()\n",
    "model_14.add(Conv2D(32, kernel_size=(3, 3), activation='relu', input_shape=input_shape))\n",
    "model_14.add(Conv2D(64, (3, 3), activation='relu'))\n",
    "model_14.add(MaxPooling2D(pool_size=(2, 2)))\n",
    "model_14.add(Dropout(0.25))\n",
    "model_14.add(Flatten())\n",
    "model_14.add(Dense(128, activation='relu'))\n",
    "model_14.add(Dropout(0.5))\n",
    "model_14.add(Dense(num_classes, activation='softmax'))\n",
    "\n",
    "model_14.compile(loss=keras.losses.categorical_crossentropy,\n",
    "                 optimizer=keras.optimizers.Adadelta(), metrics=['accuracy'])\n",
    "\n",
    "model_14.fit(x_train_noise, y_train, batch_size=batch_size, epochs=epochs, \n",
    "             verbose=1, validation_data=(x_test_noise, y_test))\n",
    "\n",
    "score_14 = model_14.evaluate(x_test_noise, y_test, verbose=0)\n",
    "\n",
    "print('Test loss:', score_14[0])\n",
    "print('Test accuracy:', score_14[1])"
   ]
  },
  {
   "cell_type": "code",
   "execution_count": 8,
   "metadata": {},
   "outputs": [
    {
     "name": "stdout",
     "output_type": "stream",
     "text": [
      "Train on 60000 samples, validate on 10000 samples\n",
      "Epoch 1/5\n",
      "60000/60000 [==============================] - 201s 3ms/step - loss: 0.4422 - acc: 0.8585 - val_loss: 0.1063 - val_acc: 0.9680\n",
      "Epoch 2/5\n",
      "60000/60000 [==============================] - 201s 3ms/step - loss: 0.1517 - acc: 0.9535 - val_loss: 0.0811 - val_acc: 0.9757\n",
      "Epoch 3/5\n",
      "60000/60000 [==============================] - 205s 3ms/step - loss: 0.1167 - acc: 0.9651 - val_loss: 0.0655 - val_acc: 0.9800\n",
      "Epoch 4/5\n",
      "60000/60000 [==============================] - 201s 3ms/step - loss: 0.0952 - acc: 0.9710 - val_loss: 0.0617 - val_acc: 0.9807\n",
      "Epoch 5/5\n",
      "60000/60000 [==============================] - 202s 3ms/step - loss: 0.0829 - acc: 0.9751 - val_loss: 0.0614 - val_acc: 0.9812\n",
      "Test loss: 0.06135167547047022\n",
      "Test accuracy: 0.9812\n"
     ]
    }
   ],
   "source": [
    "batch_size = 128\n",
    "num_classes = 10\n",
    "epochs = 5\n",
    "noise = 1.106\n",
    "\n",
    "x_train_noise = x_train + 1.106*np.random.rand(*x_train.shape)\n",
    "x_test_noise = x_test + 1.106*np.random.rand(*x_test.shape)\n",
    "\n",
    "model_15 = Sequential()\n",
    "model_15.add(Conv2D(32, kernel_size=(3, 3), activation='relu', input_shape=input_shape))\n",
    "model_15.add(Conv2D(64, (3, 3), activation='relu'))\n",
    "model_15.add(MaxPooling2D(pool_size=(2, 2)))\n",
    "model_15.add(Dropout(0.25))\n",
    "model_15.add(Flatten())\n",
    "model_15.add(Dense(128, activation='relu'))\n",
    "model_15.add(Dropout(0.5))\n",
    "model_15.add(Dense(num_classes, activation='softmax'))\n",
    "\n",
    "model_15.compile(loss=keras.losses.categorical_crossentropy,\n",
    "                 optimizer=keras.optimizers.Adadelta(), metrics=['accuracy'])\n",
    "\n",
    "model_15.fit(x_train_noise, y_train, batch_size=batch_size, epochs=epochs, \n",
    "             verbose=1, validation_data=(x_test_noise, y_test))\n",
    "\n",
    "score_15 = model_15.evaluate(x_test_noise, y_test, verbose=0)\n",
    "\n",
    "print('Test loss:', score_15[0])\n",
    "print('Test accuracy:', score_15[1])"
   ]
  },
  {
   "cell_type": "code",
   "execution_count": 9,
   "metadata": {},
   "outputs": [
    {
     "name": "stdout",
     "output_type": "stream",
     "text": [
      "Train on 60000 samples, validate on 10000 samples\n",
      "Epoch 1/5\n",
      "60000/60000 [==============================] - 202s 3ms/step - loss: 1.1208 - acc: 0.6132 - val_loss: 0.4169 - val_acc: 0.8718\n",
      "Epoch 2/5\n",
      "60000/60000 [==============================] - 202s 3ms/step - loss: 0.4748 - acc: 0.8479 - val_loss: 0.3085 - val_acc: 0.9026\n",
      "Epoch 3/5\n",
      "60000/60000 [==============================] - 202s 3ms/step - loss: 0.3915 - acc: 0.8752 - val_loss: 0.2796 - val_acc: 0.9120\n",
      "Epoch 4/5\n",
      "60000/60000 [==============================] - 201s 3ms/step - loss: 0.3443 - acc: 0.8904 - val_loss: 0.2551 - val_acc: 0.9184\n",
      "Epoch 5/5\n",
      "60000/60000 [==============================] - 207s 3ms/step - loss: 0.3061 - acc: 0.9025 - val_loss: 0.2347 - val_acc: 0.9271\n",
      "Test loss: 0.23474875639528037\n",
      "Test accuracy: 0.9271\n"
     ]
    }
   ],
   "source": [
    "batch_size = 128\n",
    "num_classes = 10\n",
    "epochs = 5\n",
    "noise = 2.524\n",
    "\n",
    "x_train_noise = x_train + 2.524*np.random.rand(*x_train.shape)\n",
    "x_test_noise = x_test + 2.524*np.random.rand(*x_test.shape)\n",
    "\n",
    "model_16 = Sequential()\n",
    "model_16.add(Conv2D(32, kernel_size=(3, 3), activation='relu', input_shape=input_shape))\n",
    "model_16.add(Conv2D(64, (3, 3), activation='relu'))\n",
    "model_16.add(MaxPooling2D(pool_size=(2, 2)))\n",
    "model_16.add(Dropout(0.25))\n",
    "model_16.add(Flatten())\n",
    "model_16.add(Dense(128, activation='relu'))\n",
    "model_16.add(Dropout(0.5))\n",
    "model_16.add(Dense(num_classes, activation='softmax'))\n",
    "\n",
    "model_16.compile(loss=keras.losses.categorical_crossentropy,\n",
    "                 optimizer=keras.optimizers.Adadelta(), metrics=['accuracy'])\n",
    "\n",
    "model_16.fit(x_train_noise, y_train, batch_size=batch_size, epochs=epochs, \n",
    "             verbose=1, validation_data=(x_test_noise, y_test))\n",
    "\n",
    "score_16 = model_16.evaluate(x_test_noise, y_test, verbose=0)\n",
    "\n",
    "print('Test loss:', score_16[0])\n",
    "print('Test accuracy:', score_16[1])"
   ]
  },
  {
   "cell_type": "code",
   "execution_count": 10,
   "metadata": {},
   "outputs": [
    {
     "name": "stdout",
     "output_type": "stream",
     "text": [
      "Train on 60000 samples, validate on 10000 samples\n",
      "Epoch 1/5\n",
      "60000/60000 [==============================] - 209s 3ms/step - loss: 1.4989 - acc: 0.4725 - val_loss: 0.7832 - val_acc: 0.7524\n",
      "Epoch 2/5\n",
      "60000/60000 [==============================] - 201s 3ms/step - loss: 0.8652 - acc: 0.7142 - val_loss: 0.6106 - val_acc: 0.8020\n",
      "Epoch 3/5\n",
      "60000/60000 [==============================] - 200s 3ms/step - loss: 0.6798 - acc: 0.7788 - val_loss: 0.4730 - val_acc: 0.8444\n",
      "Epoch 4/5\n",
      "60000/60000 [==============================] - 201s 3ms/step - loss: 0.5845 - acc: 0.8076 - val_loss: 0.4508 - val_acc: 0.8547\n",
      "Epoch 5/5\n",
      "60000/60000 [==============================] - 201s 3ms/step - loss: 0.5184 - acc: 0.8311 - val_loss: 0.4068 - val_acc: 0.8669\n",
      "Test loss: 0.40681011052131655\n",
      "Test accuracy: 0.8669\n"
     ]
    }
   ],
   "source": [
    "batch_size = 128\n",
    "num_classes = 10\n",
    "epochs = 5\n",
    "noise = 3.80\n",
    "\n",
    "x_train_noise = x_train + 3.80*np.random.rand(*x_train.shape)\n",
    "x_test_noise = x_test + 3.80*np.random.rand(*x_test.shape)\n",
    "\n",
    "model_17 = Sequential()\n",
    "model_17.add(Conv2D(32, kernel_size=(3, 3), activation='relu', input_shape=input_shape))\n",
    "model_17.add(Conv2D(64, (3, 3), activation='relu'))\n",
    "model_17.add(MaxPooling2D(pool_size=(2, 2)))\n",
    "model_17.add(Dropout(0.25))\n",
    "model_17.add(Flatten())\n",
    "model_17.add(Dense(128, activation='relu'))\n",
    "model_17.add(Dropout(0.5))\n",
    "model_17.add(Dense(num_classes, activation='softmax'))\n",
    "\n",
    "model_17.compile(loss=keras.losses.categorical_crossentropy,\n",
    "                 optimizer=keras.optimizers.Adadelta(), metrics=['accuracy'])\n",
    "\n",
    "model_17.fit(x_train_noise, y_train, batch_size=batch_size, epochs=epochs, \n",
    "             verbose=1, validation_data=(x_test_noise, y_test))\n",
    "\n",
    "score_17 = model_17.evaluate(x_test_noise, y_test, verbose=0)\n",
    "\n",
    "print('Test loss:', score_17[0])\n",
    "print('Test accuracy:', score_17[1])"
   ]
  },
  {
   "cell_type": "code",
   "execution_count": 11,
   "metadata": {},
   "outputs": [
    {
     "name": "stdout",
     "output_type": "stream",
     "text": [
      "Train on 60000 samples, validate on 10000 samples\n",
      "Epoch 1/5\n",
      "60000/60000 [==============================] - 203s 3ms/step - loss: 1.6643 - acc: 0.4125 - val_loss: 0.9624 - val_acc: 0.6813\n",
      "Epoch 2/5\n",
      "60000/60000 [==============================] - 200s 3ms/step - loss: 0.9408 - acc: 0.6881 - val_loss: 0.6283 - val_acc: 0.7907\n",
      "Epoch 3/5\n",
      "60000/60000 [==============================] - 213s 4ms/step - loss: 0.7185 - acc: 0.7650 - val_loss: 0.5118 - val_acc: 0.8352\n",
      "Epoch 4/5\n",
      "60000/60000 [==============================] - 204s 3ms/step - loss: 0.6163 - acc: 0.7999 - val_loss: 0.4663 - val_acc: 0.8493\n",
      "Epoch 5/5\n",
      "60000/60000 [==============================] - 204s 3ms/step - loss: 0.5509 - acc: 0.8196 - val_loss: 0.4690 - val_acc: 0.8455\n",
      "Test loss: 0.46896857718229296\n",
      "Test accuracy: 0.8455\n"
     ]
    }
   ],
   "source": [
    "batch_size = 128\n",
    "num_classes = 10\n",
    "epochs = 5\n",
    "noise = 4.201\n",
    "\n",
    "x_train_noise = x_train + 4.201*np.random.rand(*x_train.shape)\n",
    "x_test_noise = x_test + 4.201*np.random.rand(*x_test.shape)\n",
    "\n",
    "model_18 = Sequential()\n",
    "model_18.add(Conv2D(32, kernel_size=(3, 3), activation='relu', input_shape=input_shape))\n",
    "model_18.add(Conv2D(64, (3, 3), activation='relu'))\n",
    "model_18.add(MaxPooling2D(pool_size=(2, 2)))\n",
    "model_18.add(Dropout(0.25))\n",
    "model_18.add(Flatten())\n",
    "model_18.add(Dense(128, activation='relu'))\n",
    "model_18.add(Dropout(0.5))\n",
    "model_18.add(Dense(num_classes, activation='softmax'))\n",
    "\n",
    "model_18.compile(loss=keras.losses.categorical_crossentropy,\n",
    "                 optimizer=keras.optimizers.Adadelta(), metrics=['accuracy'])\n",
    "\n",
    "model_18.fit(x_train_noise, y_train, batch_size=batch_size, epochs=epochs, \n",
    "             verbose=1, validation_data=(x_test_noise, y_test))\n",
    "\n",
    "score_18 = model_18.evaluate(x_test_noise, y_test, verbose=0)\n",
    "\n",
    "print('Test loss:', score_18[0])\n",
    "print('Test accuracy:', score_18[1])"
   ]
  },
  {
   "cell_type": "code",
   "execution_count": 12,
   "metadata": {},
   "outputs": [
    {
     "name": "stdout",
     "output_type": "stream",
     "text": [
      "[0.03254376709989301, 0.9892] [0.03207912145863811, 0.9889] [0.06135167547047022, 0.9812] [0.23474875639528037, 0.9271] [0.40681011052131655, 0.8669] [0.46896857718229296, 0.8455]\n"
     ]
    }
   ],
   "source": [
    "print(score_13, score_14, score_15, score_16, score_17, score_18)"
   ]
  },
  {
   "cell_type": "code",
   "execution_count": 13,
   "metadata": {},
   "outputs": [],
   "source": [
    "loss = (0.03254376709989301, 0.03207912145863811, 0.06135167547047022, 0.23474875639528037, 0.40681011052131655\n",
    "       ,0.46896857718229296)\n",
    "accuracy = (0.9892, 0.9889, 0.9812, 0.9271, 0.8669, 0.8455)"
   ]
  },
  {
   "cell_type": "code",
   "execution_count": 15,
   "metadata": {},
   "outputs": [
    {
     "data": {
      "image/png": "[encoded data removed]",
      "text/plain": [
       "<Figure size 432x288 with 1 Axes>"
      ]
     },
     "metadata": {},
     "output_type": "display_data"
    }
   ],
   "source": [
    "plt.scatter(loss, accuracy, color = \"coral\")\n",
    "plt.plot(loss, accuracy, color = \"forestgreen\")\n",
    "plt.xlabel('Test Loss Score')\n",
    "plt.ylabel('Test Accuracy Score')\n",
    "plt.show()"
   ]
  }
 ],
 "metadata": {
  "kernelspec": {
   "display_name": "Python 3",
   "language": "python",
   "name": "python3"
  },
  "language_info": {
   "codemirror_mode": {
    "name": "ipython",
    "version": 3
   },
   "file_extension": ".py",
   "mimetype": "text/x-python",
   "name": "python",
   "nbconvert_exporter": "python",
   "pygments_lexer": "ipython3",
   "version": "3.6.5"
  }
 },
 "nbformat": 4,
 "nbformat_minor": 2
}
